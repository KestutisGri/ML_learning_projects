{
 "cells": [
  {
   "cell_type": "code",
   "execution_count": 155,
   "id": "initial_id",
   "metadata": {
    "collapsed": true,
    "ExecuteTime": {
     "end_time": "2024-03-28T11:32:25.884013Z",
     "start_time": "2024-03-28T11:32:25.880372Z"
    }
   },
   "outputs": [],
   "source": [
    "import matplotlib.pyplot as plt\n",
    "import pandas as pd\n",
    "import plotly.express as px\n",
    "import seaborn as sns\n",
    "from scipy.stats import chi2, chi2_contingency"
   ]
  },
  {
   "cell_type": "markdown",
   "id": "b102868eb5d1cbd7",
   "metadata": {
    "collapsed": false
   },
   "source": [
    "# Exploratory Data Analysis and Hypothesis Testing"
   ]
  },
  {
   "cell_type": "markdown",
   "id": "1cf8d1029ff586b2",
   "metadata": {
    "collapsed": false
   },
   "source": [
    "## Introduction"
   ]
  },
  {
   "cell_type": "markdown",
   "id": "b35fc7555ba68239",
   "metadata": {
    "collapsed": false
   },
   "source": [
    "In the `EDA_Hypothesis.ipynb` file, we conduct an in-depth Exploratory Data Analysis (EDA) and formulate hypotheses for our football match prediction project. The EDA process involves:\n",
    " -  Examining the dataset's summary statistics.\n",
    " - Investigating the distribution of player and team ratings.\n",
    " - Analyzing the average goals per match in different leagues.\n",
    " - We also explore the win, draw, and loss percentages by league when playing at home. \n",
    "\n",
    "The hypotheses revolve around home team advantage and the impact of player ratings on match outcomes. We test these hypotheses using statistical tests, such as the Chi-Square Test. \n",
    "\n",
    "The insights gained from this EDA and hypothesis testing will be crucial in understanding the data and identifying potential features for our predictive models. The ultimate goal is to develop a model that can reliably predict the outcome of a football match, notably the home team's victory, and a model that can predict whether a football match will end with 'Under' or 'Over' 2.5 goals."
   ]
  },
  {
   "cell_type": "code",
   "execution_count": 156,
   "id": "7c3994b23d75ca49",
   "metadata": {
    "collapsed": false,
    "ExecuteTime": {
     "end_time": "2024-03-28T11:32:26.497952Z",
     "start_time": "2024-03-28T11:32:26.142327Z"
    }
   },
   "outputs": [],
   "source": [
    "matches = pd.read_csv('matches.csv')"
   ]
  },
  {
   "cell_type": "markdown",
   "id": "aec0a65cff38e064",
   "metadata": {
    "collapsed": false
   },
   "source": [
    "## Summary statistics"
   ]
  },
  {
   "cell_type": "code",
   "execution_count": 157,
   "id": "e7359481aa397f51",
   "metadata": {
    "collapsed": false,
    "ExecuteTime": {
     "end_time": "2024-03-28T11:32:26.751926Z",
     "start_time": "2024-03-28T11:32:26.499942Z"
    }
   },
   "outputs": [
    {
     "data": {
      "text/plain": "       match_api_id  home_team_goal  away_team_goal         stage  \\\ncount  2.597900e+04    25979.000000    25979.000000  25979.000000   \nmean   1.195429e+06        1.544594        1.160938     18.242773   \nstd    4.946279e+05        1.297158        1.142110     10.407354   \nmin    4.831290e+05        0.000000        0.000000      1.000000   \n25%    7.684365e+05        1.000000        0.000000      9.000000   \n50%    1.147511e+06        1.000000        1.000000     18.000000   \n75%    1.709852e+06        2.000000        2.000000     27.000000   \nmax    2.216672e+06       10.000000        9.000000     38.000000   \n\n       home_player_1  away_player_1  home_player_2  away_player_2  \\\ncount   24755.000000   24745.000000   24664.000000   24701.000000   \nmean       65.675460      65.686199      63.394340      63.369621   \nstd         9.595997       9.618903       8.496123       8.449127   \nmin        42.000000      42.000000      38.000000      38.000000   \n25%        59.000000      59.000000      58.000000      58.000000   \n50%        64.000000      64.000000      63.000000      63.000000   \n75%        72.000000      72.000000      69.000000      69.000000   \nmax        93.000000      93.000000      91.000000      91.000000   \n\n       home_player_3  away_player_3  ...  defenders_away_rating  \\\ncount   24698.000000   24686.000000  ...           24147.000000   \nmean       65.572314      65.580005  ...              64.486660   \nstd         9.157760       9.153018  ...               5.941133   \nmin        37.000000      38.000000  ...              46.000000   \n25%        59.000000      59.000000  ...              60.500000   \n50%        65.000000      65.000000  ...              63.750000   \n75%        72.000000      72.000000  ...              68.250000   \nmax        91.000000      91.000000  ...              87.000000   \n\n       defenders_away_total_rating  midfielders_home_rating  \\\ncount                   25979.0000             24147.000000   \nmean                      235.4285                64.777029   \nstd                        71.3121                 6.109238   \nmin                         0.0000                45.000000   \n25%                       232.0000                60.500000   \n50%                       251.0000                64.000000   \n75%                       270.0000                68.500000   \nmax                       381.0000                87.670000   \n\n       midfielders_home_total_rating  midfielders_away_rating  \\\ncount                   25979.000000             24147.000000   \nmean                      254.930290                64.667707   \nstd                        89.607127                 6.089956   \nmin                         0.000000                42.500000   \n25%                       217.000000                60.400000   \n50%                       271.000000                64.000000   \n75%                       314.000000                68.400000   \nmax                       458.000000                87.670000   \n\n       midfielders_away_total_rating  forwards_home_rating  \\\ncount                   25979.000000          24058.000000   \nmean                      255.578005             66.590267   \nstd                        90.043588              8.554526   \nmin                         0.000000             35.000000   \n25%                       217.000000             61.000000   \n50%                       272.000000             65.835000   \n75%                       315.000000             72.000000   \nmax                       459.000000             93.000000   \n\n       forwards_home_total_rating  forwards_away_rating  \\\ncount                25979.000000          24051.000000   \nmean                   109.416567             66.459768   \nstd                     58.149986              8.510538   \nmin                      0.000000             36.000000   \n25%                     65.000000             61.000000   \n50%                    116.000000             65.500000   \n75%                    148.000000             72.000000   \nmax                    267.000000             93.000000   \n\n       forwards_away_total_rating  \ncount                25979.000000  \nmean                   107.909735  \nstd                     58.095934  \nmin                      0.000000  \n25%                     64.000000  \n50%                    111.000000  \n75%                    147.000000  \nmax                    265.000000  \n\n[8 rows x 98 columns]",
      "text/html": "<div>\n<style scoped>\n    .dataframe tbody tr th:only-of-type {\n        vertical-align: middle;\n    }\n\n    .dataframe tbody tr th {\n        vertical-align: top;\n    }\n\n    .dataframe thead th {\n        text-align: right;\n    }\n</style>\n<table border=\"1\" class=\"dataframe\">\n  <thead>\n    <tr style=\"text-align: right;\">\n      <th></th>\n      <th>match_api_id</th>\n      <th>home_team_goal</th>\n      <th>away_team_goal</th>\n      <th>stage</th>\n      <th>home_player_1</th>\n      <th>away_player_1</th>\n      <th>home_player_2</th>\n      <th>away_player_2</th>\n      <th>home_player_3</th>\n      <th>away_player_3</th>\n      <th>...</th>\n      <th>defenders_away_rating</th>\n      <th>defenders_away_total_rating</th>\n      <th>midfielders_home_rating</th>\n      <th>midfielders_home_total_rating</th>\n      <th>midfielders_away_rating</th>\n      <th>midfielders_away_total_rating</th>\n      <th>forwards_home_rating</th>\n      <th>forwards_home_total_rating</th>\n      <th>forwards_away_rating</th>\n      <th>forwards_away_total_rating</th>\n    </tr>\n  </thead>\n  <tbody>\n    <tr>\n      <th>count</th>\n      <td>2.597900e+04</td>\n      <td>25979.000000</td>\n      <td>25979.000000</td>\n      <td>25979.000000</td>\n      <td>24755.000000</td>\n      <td>24745.000000</td>\n      <td>24664.000000</td>\n      <td>24701.000000</td>\n      <td>24698.000000</td>\n      <td>24686.000000</td>\n      <td>...</td>\n      <td>24147.000000</td>\n      <td>25979.0000</td>\n      <td>24147.000000</td>\n      <td>25979.000000</td>\n      <td>24147.000000</td>\n      <td>25979.000000</td>\n      <td>24058.000000</td>\n      <td>25979.000000</td>\n      <td>24051.000000</td>\n      <td>25979.000000</td>\n    </tr>\n    <tr>\n      <th>mean</th>\n      <td>1.195429e+06</td>\n      <td>1.544594</td>\n      <td>1.160938</td>\n      <td>18.242773</td>\n      <td>65.675460</td>\n      <td>65.686199</td>\n      <td>63.394340</td>\n      <td>63.369621</td>\n      <td>65.572314</td>\n      <td>65.580005</td>\n      <td>...</td>\n      <td>64.486660</td>\n      <td>235.4285</td>\n      <td>64.777029</td>\n      <td>254.930290</td>\n      <td>64.667707</td>\n      <td>255.578005</td>\n      <td>66.590267</td>\n      <td>109.416567</td>\n      <td>66.459768</td>\n      <td>107.909735</td>\n    </tr>\n    <tr>\n      <th>std</th>\n      <td>4.946279e+05</td>\n      <td>1.297158</td>\n      <td>1.142110</td>\n      <td>10.407354</td>\n      <td>9.595997</td>\n      <td>9.618903</td>\n      <td>8.496123</td>\n      <td>8.449127</td>\n      <td>9.157760</td>\n      <td>9.153018</td>\n      <td>...</td>\n      <td>5.941133</td>\n      <td>71.3121</td>\n      <td>6.109238</td>\n      <td>89.607127</td>\n      <td>6.089956</td>\n      <td>90.043588</td>\n      <td>8.554526</td>\n      <td>58.149986</td>\n      <td>8.510538</td>\n      <td>58.095934</td>\n    </tr>\n    <tr>\n      <th>min</th>\n      <td>4.831290e+05</td>\n      <td>0.000000</td>\n      <td>0.000000</td>\n      <td>1.000000</td>\n      <td>42.000000</td>\n      <td>42.000000</td>\n      <td>38.000000</td>\n      <td>38.000000</td>\n      <td>37.000000</td>\n      <td>38.000000</td>\n      <td>...</td>\n      <td>46.000000</td>\n      <td>0.0000</td>\n      <td>45.000000</td>\n      <td>0.000000</td>\n      <td>42.500000</td>\n      <td>0.000000</td>\n      <td>35.000000</td>\n      <td>0.000000</td>\n      <td>36.000000</td>\n      <td>0.000000</td>\n    </tr>\n    <tr>\n      <th>25%</th>\n      <td>7.684365e+05</td>\n      <td>1.000000</td>\n      <td>0.000000</td>\n      <td>9.000000</td>\n      <td>59.000000</td>\n      <td>59.000000</td>\n      <td>58.000000</td>\n      <td>58.000000</td>\n      <td>59.000000</td>\n      <td>59.000000</td>\n      <td>...</td>\n      <td>60.500000</td>\n      <td>232.0000</td>\n      <td>60.500000</td>\n      <td>217.000000</td>\n      <td>60.400000</td>\n      <td>217.000000</td>\n      <td>61.000000</td>\n      <td>65.000000</td>\n      <td>61.000000</td>\n      <td>64.000000</td>\n    </tr>\n    <tr>\n      <th>50%</th>\n      <td>1.147511e+06</td>\n      <td>1.000000</td>\n      <td>1.000000</td>\n      <td>18.000000</td>\n      <td>64.000000</td>\n      <td>64.000000</td>\n      <td>63.000000</td>\n      <td>63.000000</td>\n      <td>65.000000</td>\n      <td>65.000000</td>\n      <td>...</td>\n      <td>63.750000</td>\n      <td>251.0000</td>\n      <td>64.000000</td>\n      <td>271.000000</td>\n      <td>64.000000</td>\n      <td>272.000000</td>\n      <td>65.835000</td>\n      <td>116.000000</td>\n      <td>65.500000</td>\n      <td>111.000000</td>\n    </tr>\n    <tr>\n      <th>75%</th>\n      <td>1.709852e+06</td>\n      <td>2.000000</td>\n      <td>2.000000</td>\n      <td>27.000000</td>\n      <td>72.000000</td>\n      <td>72.000000</td>\n      <td>69.000000</td>\n      <td>69.000000</td>\n      <td>72.000000</td>\n      <td>72.000000</td>\n      <td>...</td>\n      <td>68.250000</td>\n      <td>270.0000</td>\n      <td>68.500000</td>\n      <td>314.000000</td>\n      <td>68.400000</td>\n      <td>315.000000</td>\n      <td>72.000000</td>\n      <td>148.000000</td>\n      <td>72.000000</td>\n      <td>147.000000</td>\n    </tr>\n    <tr>\n      <th>max</th>\n      <td>2.216672e+06</td>\n      <td>10.000000</td>\n      <td>9.000000</td>\n      <td>38.000000</td>\n      <td>93.000000</td>\n      <td>93.000000</td>\n      <td>91.000000</td>\n      <td>91.000000</td>\n      <td>91.000000</td>\n      <td>91.000000</td>\n      <td>...</td>\n      <td>87.000000</td>\n      <td>381.0000</td>\n      <td>87.670000</td>\n      <td>458.000000</td>\n      <td>87.670000</td>\n      <td>459.000000</td>\n      <td>93.000000</td>\n      <td>267.000000</td>\n      <td>93.000000</td>\n      <td>265.000000</td>\n    </tr>\n  </tbody>\n</table>\n<p>8 rows × 98 columns</p>\n</div>"
     },
     "execution_count": 157,
     "metadata": {},
     "output_type": "execute_result"
    }
   ],
   "source": [
    "matches.describe()"
   ]
  },
  {
   "cell_type": "code",
   "execution_count": 158,
   "id": "8e62fd428d0e6150",
   "metadata": {
    "collapsed": false,
    "ExecuteTime": {
     "end_time": "2024-03-28T11:32:26.766931Z",
     "start_time": "2024-03-28T11:32:26.752927Z"
    }
   },
   "outputs": [
    {
     "name": "stdout",
     "output_type": "stream",
     "text": [
      "<class 'pandas.core.frame.DataFrame'>\n",
      "RangeIndex: 25979 entries, 0 to 25978\n",
      "Columns: 106 entries, match_api_id to forwards_away_total_rating\n",
      "dtypes: float64(92), int64(6), object(8)\n",
      "memory usage: 21.0+ MB\n"
     ]
    }
   ],
   "source": [
    "matches.info()"
   ]
  },
  {
   "cell_type": "markdown",
   "id": "6a5fba81aeffc4d4",
   "metadata": {
    "collapsed": false
   },
   "source": [
    "## League ratings"
   ]
  },
  {
   "cell_type": "markdown",
   "id": "309895eee4ebf8aa",
   "metadata": {
    "collapsed": false
   },
   "source": [
    "We will now look at the average player ratings by league. This data is crucial for understanding the skill levels of players in different leagues. It can also help identify leagues with higher or lower player ratings. This information is valuable for model creation, as it can aid in predicting match outcomes."
   ]
  },
  {
   "cell_type": "code",
   "execution_count": 159,
   "id": "a54e0e4e7d24b742",
   "metadata": {
    "collapsed": false,
    "ExecuteTime": {
     "end_time": "2024-03-28T11:32:27.154080Z",
     "start_time": "2024-03-28T11:32:26.769927Z"
    }
   },
   "outputs": [
    {
     "data": {
      "text/plain": "<Figure size 800x600 with 1 Axes>",
      "image/png": "[encoded data removed]"
     },
     "metadata": {},
     "output_type": "display_data"
    }
   ],
   "source": [
    "home_columns = [f'home_player_{i}' for i in range(1, 12)]\n",
    "away_columns = [f'away_player_{i}' for i in range(1, 12)]\n",
    "\n",
    "league_ratings = pd.concat([matches[col] for col in home_columns + away_columns], axis=1)\n",
    "\n",
    "matches_with_ratings = pd.concat([matches['league_name'], league_ratings], axis=1)\n",
    "\n",
    "average_ratings_by_league = round(matches_with_ratings.groupby('league_name').mean().mean(axis=1), 2)\n",
    "\n",
    "plt.figure(figsize=(8, 6))\n",
    "barplot = sns.barplot(y=average_ratings_by_league.index, x=average_ratings_by_league.values, orient='h')\n",
    "\n",
    "plt.ylabel('League Name')\n",
    "plt.xlabel('Average Player Rating')\n",
    "plt.title('Average Player Ratings by League')\n",
    "\n",
    "for p in barplot.patches:\n",
    "    width = p.get_width()\n",
    "    plt.text(width, p.get_y() + p.get_height() / 2, '{:1.2f}'.format(width), ha='left', va='center')\n",
    "\n",
    "plt.show()"
   ]
  },
  {
   "cell_type": "markdown",
   "id": "e5c18bbdf057751d",
   "metadata": {
    "collapsed": false
   },
   "source": [
    "The analysis of player skill levels across different leagues has shown significant differences. This implies that the quality of play and the competitiveness can vary from league to league. Therefore, for our Exploratory Data Analysis (EDA) and subsequent modeling, we will focus on the top 5 leagues. \n",
    "\n",
    "The top 5 leagues typically refer to the Premier League (England), La Liga (Spain), Bundesliga (Germany), Serie A (Italy), and Ligue 1 (France). These leagues are considered the most competitive and attract the highest-quality players worldwide. \n",
    "\n",
    "Choosing to focus on these leagues for our EDA and modeling has several advantages:\n",
    "\n",
    "1. **Quality of Play**: The top leagues attract the best players worldwide, ensuring a high standard of play. This can lead to more consistent data and more reliable models.\n",
    "\n",
    "2. **Competitiveness**: These leagues are highly competitive, which can lead to a wide range of outcomes and scenarios for our models to learn from.\n",
    "\n",
    "3. **Popularity**: The top leagues are the most watched and followed worldwide. Models based on these leagues are likely of interest to a larger audience.\n",
    "\n",
    "4. **Data Quality**: The data for these leagues is more comprehensive and has fewer missing values in this dataset, which can lead to more robust and accurate models.\n",
    "\n",
    "By focusing on the top 5 leagues, we can ensure that our models are based on high-quality, competitive matches and that our findings apply to the highest level of football."
   ]
  },
  {
   "cell_type": "code",
   "execution_count": 160,
   "id": "7d34aeec05f0bbbb",
   "metadata": {
    "collapsed": false,
    "ExecuteTime": {
     "end_time": "2024-03-28T11:32:27.172720Z",
     "start_time": "2024-03-28T11:32:27.155083Z"
    }
   },
   "outputs": [],
   "source": [
    "matches = matches[matches['league_name'].isin(\n",
    "    ['England Premier League', 'Spain LIGA BBVA', 'Germany 1. Bundesliga', 'Italy Serie A', 'France Ligue 1'])]"
   ]
  },
  {
   "cell_type": "markdown",
   "id": "83daa39d19e369b6",
   "metadata": {
    "collapsed": false
   },
   "source": [
    "## Games played by season and by league"
   ]
  },
  {
   "cell_type": "code",
   "execution_count": 161,
   "id": "ba8ba8e787d1ad47",
   "metadata": {
    "collapsed": false,
    "ExecuteTime": {
     "end_time": "2024-03-28T11:32:27.240541Z",
     "start_time": "2024-03-28T11:32:27.173722Z"
    }
   },
   "outputs": [
    {
     "data": {
      "application/vnd.plotly.v1+json": {
       "data": [
        {
         "alignmentgroup": "True",
         "hovertemplate": "league_name=England Premier League<br>Number of Games=%{x}<br>Season=%{y}<extra></extra>",
         "legendgroup": "England Premier League",
         "marker": {
          "color": "rgb(228,26,28)",
          "pattern": {
           "shape": ""
          }
         },
         "name": "England Premier League",
         "offsetgroup": "England Premier League",
         "orientation": "h",
         "showlegend": true,
         "textposition": "auto",
         "x": [
          380,
          380,
          380,
          380,
          380,
          380,
          380,
          380
         ],
         "xaxis": "x",
         "y": [
          "2008/2009",
          "2009/2010",
          "2010/2011",
          "2011/2012",
          "2012/2013",
          "2013/2014",
          "2014/2015",
          "2015/2016"
         ],
         "yaxis": "y",
         "type": "bar"
        },
        {
         "alignmentgroup": "True",
         "hovertemplate": "league_name=France Ligue 1<br>Number of Games=%{x}<br>Season=%{y}<extra></extra>",
         "legendgroup": "France Ligue 1",
         "marker": {
          "color": "rgb(55,126,184)",
          "pattern": {
           "shape": ""
          }
         },
         "name": "France Ligue 1",
         "offsetgroup": "France Ligue 1",
         "orientation": "h",
         "showlegend": true,
         "textposition": "auto",
         "x": [
          380,
          380,
          380,
          380,
          380,
          380,
          380,
          380
         ],
         "xaxis": "x",
         "y": [
          "2008/2009",
          "2009/2010",
          "2010/2011",
          "2011/2012",
          "2012/2013",
          "2013/2014",
          "2014/2015",
          "2015/2016"
         ],
         "yaxis": "y",
         "type": "bar"
        },
        {
         "alignmentgroup": "True",
         "hovertemplate": "league_name=Germany 1. Bundesliga<br>Number of Games=%{x}<br>Season=%{y}<extra></extra>",
         "legendgroup": "Germany 1. Bundesliga",
         "marker": {
          "color": "rgb(77,175,74)",
          "pattern": {
           "shape": ""
          }
         },
         "name": "Germany 1. Bundesliga",
         "offsetgroup": "Germany 1. Bundesliga",
         "orientation": "h",
         "showlegend": true,
         "textposition": "auto",
         "x": [
          306,
          306,
          306,
          306,
          306,
          306,
          306,
          306
         ],
         "xaxis": "x",
         "y": [
          "2008/2009",
          "2009/2010",
          "2010/2011",
          "2011/2012",
          "2012/2013",
          "2013/2014",
          "2014/2015",
          "2015/2016"
         ],
         "yaxis": "y",
         "type": "bar"
        },
        {
         "alignmentgroup": "True",
         "hovertemplate": "league_name=Italy Serie A<br>Number of Games=%{x}<br>Season=%{y}<extra></extra>",
         "legendgroup": "Italy Serie A",
         "marker": {
          "color": "rgb(152,78,163)",
          "pattern": {
           "shape": ""
          }
         },
         "name": "Italy Serie A",
         "offsetgroup": "Italy Serie A",
         "orientation": "h",
         "showlegend": true,
         "textposition": "auto",
         "x": [
          380,
          380,
          380,
          358,
          380,
          380,
          379,
          380
         ],
         "xaxis": "x",
         "y": [
          "2008/2009",
          "2009/2010",
          "2010/2011",
          "2011/2012",
          "2012/2013",
          "2013/2014",
          "2014/2015",
          "2015/2016"
         ],
         "yaxis": "y",
         "type": "bar"
        },
        {
         "alignmentgroup": "True",
         "hovertemplate": "league_name=Spain LIGA BBVA<br>Number of Games=%{x}<br>Season=%{y}<extra></extra>",
         "legendgroup": "Spain LIGA BBVA",
         "marker": {
          "color": "rgb(255,127,0)",
          "pattern": {
           "shape": ""
          }
         },
         "name": "Spain LIGA BBVA",
         "offsetgroup": "Spain LIGA BBVA",
         "orientation": "h",
         "showlegend": true,
         "textposition": "auto",
         "x": [
          380,
          380,
          380,
          380,
          380,
          380,
          380,
          380
         ],
         "xaxis": "x",
         "y": [
          "2008/2009",
          "2009/2010",
          "2010/2011",
          "2011/2012",
          "2012/2013",
          "2013/2014",
          "2014/2015",
          "2015/2016"
         ],
         "yaxis": "y",
         "type": "bar"
        }
       ],
       "layout": {
        "template": {
         "data": {
          "histogram2dcontour": [
           {
            "type": "histogram2dcontour",
            "colorbar": {
             "outlinewidth": 0,
             "ticks": ""
            },
            "colorscale": [
             [
              0.0,
              "#0d0887"
             ],
             [
              0.1111111111111111,
              "#46039f"
             ],
             [
              0.2222222222222222,
              "#7201a8"
             ],
             [
              0.3333333333333333,
              "#9c179e"
             ],
             [
              0.4444444444444444,
              "#bd3786"
             ],
             [
              0.5555555555555556,
              "#d8576b"
             ],
             [
              0.6666666666666666,
              "#ed7953"
             ],
             [
              0.7777777777777778,
              "#fb9f3a"
             ],
             [
              0.8888888888888888,
              "#fdca26"
             ],
             [
              1.0,
              "#f0f921"
             ]
            ]
           }
          ],
          "choropleth": [
           {
            "type": "choropleth",
            "colorbar": {
             "outlinewidth": 0,
             "ticks": ""
            }
           }
          ],
          "histogram2d": [
           {
            "type": "histogram2d",
            "colorbar": {
             "outlinewidth": 0,
             "ticks": ""
            },
            "colorscale": [
             [
              0.0,
              "#0d0887"
             ],
             [
              0.1111111111111111,
              "#46039f"
             ],
             [
              0.2222222222222222,
              "#7201a8"
             ],
             [
              0.3333333333333333,
              "#9c179e"
             ],
             [
              0.4444444444444444,
              "#bd3786"
             ],
             [
              0.5555555555555556,
              "#d8576b"
             ],
             [
              0.6666666666666666,
              "#ed7953"
             ],
             [
              0.7777777777777778,
              "#fb9f3a"
             ],
             [
              0.8888888888888888,
              "#fdca26"
             ],
             [
              1.0,
              "#f0f921"
             ]
            ]
           }
          ],
          "heatmap": [
           {
            "type": "heatmap",
            "colorbar": {
             "outlinewidth": 0,
             "ticks": ""
            },
            "colorscale": [
             [
              0.0,
              "#0d0887"
             ],
             [
              0.1111111111111111,
              "#46039f"
             ],
             [
              0.2222222222222222,
              "#7201a8"
             ],
             [
              0.3333333333333333,
              "#9c179e"
             ],
             [
              0.4444444444444444,
              "#bd3786"
             ],
             [
              0.5555555555555556,
              "#d8576b"
             ],
             [
              0.6666666666666666,
              "#ed7953"
             ],
             [
              0.7777777777777778,
              "#fb9f3a"
             ],
             [
              0.8888888888888888,
              "#fdca26"
             ],
             [
              1.0,
              "#f0f921"
             ]
            ]
           }
          ],
          "heatmapgl": [
           {
            "type": "heatmapgl",
            "colorbar": {
             "outlinewidth": 0,
             "ticks": ""
            },
            "colorscale": [
             [
              0.0,
              "#0d0887"
             ],
             [
              0.1111111111111111,
              "#46039f"
             ],
             [
              0.2222222222222222,
              "#7201a8"
             ],
             [
              0.3333333333333333,
              "#9c179e"
             ],
             [
              0.4444444444444444,
              "#bd3786"
             ],
             [
              0.5555555555555556,
              "#d8576b"
             ],
             [
              0.6666666666666666,
              "#ed7953"
             ],
             [
              0.7777777777777778,
              "#fb9f3a"
             ],
             [
              0.8888888888888888,
              "#fdca26"
             ],
             [
              1.0,
              "#f0f921"
             ]
            ]
           }
          ],
          "contourcarpet": [
           {
            "type": "contourcarpet",
            "colorbar": {
             "outlinewidth": 0,
             "ticks": ""
            }
           }
          ],
          "contour": [
           {
            "type": "contour",
            "colorbar": {
             "outlinewidth": 0,
             "ticks": ""
            },
            "colorscale": [
             [
              0.0,
              "#0d0887"
             ],
             [
              0.1111111111111111,
              "#46039f"
             ],
             [
              0.2222222222222222,
              "#7201a8"
             ],
             [
              0.3333333333333333,
              "#9c179e"
             ],
             [
              0.4444444444444444,
              "#bd3786"
             ],
             [
              0.5555555555555556,
              "#d8576b"
             ],
             [
              0.6666666666666666,
              "#ed7953"
             ],
             [
              0.7777777777777778,
              "#fb9f3a"
             ],
             [
              0.8888888888888888,
              "#fdca26"
             ],
             [
              1.0,
              "#f0f921"
             ]
            ]
           }
          ],
          "surface": [
           {
            "type": "surface",
            "colorbar": {
             "outlinewidth": 0,
             "ticks": ""
            },
            "colorscale": [
             [
              0.0,
              "#0d0887"
             ],
             [
              0.1111111111111111,
              "#46039f"
             ],
             [
              0.2222222222222222,
              "#7201a8"
             ],
             [
              0.3333333333333333,
              "#9c179e"
             ],
             [
              0.4444444444444444,
              "#bd3786"
             ],
             [
              0.5555555555555556,
              "#d8576b"
             ],
             [
              0.6666666666666666,
              "#ed7953"
             ],
             [
              0.7777777777777778,
              "#fb9f3a"
             ],
             [
              0.8888888888888888,
              "#fdca26"
             ],
             [
              1.0,
              "#f0f921"
             ]
            ]
           }
          ],
          "mesh3d": [
           {
            "type": "mesh3d",
            "colorbar": {
             "outlinewidth": 0,
             "ticks": ""
            }
           }
          ],
          "scatter": [
           {
            "fillpattern": {
             "fillmode": "overlay",
             "size": 10,
             "solidity": 0.2
            },
            "type": "scatter"
           }
          ],
          "parcoords": [
           {
            "type": "parcoords",
            "line": {
             "colorbar": {
              "outlinewidth": 0,
              "ticks": ""
             }
            }
           }
          ],
          "scatterpolargl": [
           {
            "type": "scatterpolargl",
            "marker": {
             "colorbar": {
              "outlinewidth": 0,
              "ticks": ""
             }
            }
           }
          ],
          "bar": [
           {
            "error_x": {
             "color": "#2a3f5f"
            },
            "error_y": {
             "color": "#2a3f5f"
            },
            "marker": {
             "line": {
              "color": "#E5ECF6",
              "width": 0.5
             },
             "pattern": {
              "fillmode": "overlay",
              "size": 10,
              "solidity": 0.2
             }
            },
            "type": "bar"
           }
          ],
          "scattergeo": [
           {
            "type": "scattergeo",
            "marker": {
             "colorbar": {
              "outlinewidth": 0,
              "ticks": ""
             }
            }
           }
          ],
          "scatterpolar": [
           {
            "type": "scatterpolar",
            "marker": {
             "colorbar": {
              "outlinewidth": 0,
              "ticks": ""
             }
            }
           }
          ],
          "histogram": [
           {
            "marker": {
             "pattern": {
              "fillmode": "overlay",
              "size": 10,
              "solidity": 0.2
             }
            },
            "type": "histogram"
           }
          ],
          "scattergl": [
           {
            "type": "scattergl",
            "marker": {
             "colorbar": {
              "outlinewidth": 0,
              "ticks": ""
             }
            }
           }
          ],
          "scatter3d": [
           {
            "type": "scatter3d",
            "line": {
             "colorbar": {
              "outlinewidth": 0,
              "ticks": ""
             }
            },
            "marker": {
             "colorbar": {
              "outlinewidth": 0,
              "ticks": ""
             }
            }
           }
          ],
          "scattermapbox": [
           {
            "type": "scattermapbox",
            "marker": {
             "colorbar": {
              "outlinewidth": 0,
              "ticks": ""
             }
            }
           }
          ],
          "scatterternary": [
           {
            "type": "scatterternary",
            "marker": {
             "colorbar": {
              "outlinewidth": 0,
              "ticks": ""
             }
            }
           }
          ],
          "scattercarpet": [
           {
            "type": "scattercarpet",
            "marker": {
             "colorbar": {
              "outlinewidth": 0,
              "ticks": ""
             }
            }
           }
          ],
          "carpet": [
           {
            "aaxis": {
             "endlinecolor": "#2a3f5f",
             "gridcolor": "white",
             "linecolor": "white",
             "minorgridcolor": "white",
             "startlinecolor": "#2a3f5f"
            },
            "baxis": {
             "endlinecolor": "#2a3f5f",
             "gridcolor": "white",
             "linecolor": "white",
             "minorgridcolor": "white",
             "startlinecolor": "#2a3f5f"
            },
            "type": "carpet"
           }
          ],
          "table": [
           {
            "cells": {
             "fill": {
              "color": "#EBF0F8"
             },
             "line": {
              "color": "white"
             }
            },
            "header": {
             "fill": {
              "color": "#C8D4E3"
             },
             "line": {
              "color": "white"
             }
            },
            "type": "table"
           }
          ],
          "barpolar": [
           {
            "marker": {
             "line": {
              "color": "#E5ECF6",
              "width": 0.5
             },
             "pattern": {
              "fillmode": "overlay",
              "size": 10,
              "solidity": 0.2
             }
            },
            "type": "barpolar"
           }
          ],
          "pie": [
           {
            "automargin": true,
            "type": "pie"
           }
          ]
         },
         "layout": {
          "autotypenumbers": "strict",
          "colorway": [
           "#636efa",
           "#EF553B",
           "#00cc96",
           "#ab63fa",
           "#FFA15A",
           "#19d3f3",
           "#FF6692",
           "#B6E880",
           "#FF97FF",
           "#FECB52"
          ],
          "font": {
           "color": "#2a3f5f"
          },
          "hovermode": "closest",
          "hoverlabel": {
           "align": "left"
          },
          "paper_bgcolor": "white",
          "plot_bgcolor": "#E5ECF6",
          "polar": {
           "bgcolor": "#E5ECF6",
           "angularaxis": {
            "gridcolor": "white",
            "linecolor": "white",
            "ticks": ""
           },
           "radialaxis": {
            "gridcolor": "white",
            "linecolor": "white",
            "ticks": ""
           }
          },
          "ternary": {
           "bgcolor": "#E5ECF6",
           "aaxis": {
            "gridcolor": "white",
            "linecolor": "white",
            "ticks": ""
           },
           "baxis": {
            "gridcolor": "white",
            "linecolor": "white",
            "ticks": ""
           },
           "caxis": {
            "gridcolor": "white",
            "linecolor": "white",
            "ticks": ""
           }
          },
          "coloraxis": {
           "colorbar": {
            "outlinewidth": 0,
            "ticks": ""
           }
          },
          "colorscale": {
           "sequential": [
            [
             0.0,
             "#0d0887"
            ],
            [
             0.1111111111111111,
             "#46039f"
            ],
            [
             0.2222222222222222,
             "#7201a8"
            ],
            [
             0.3333333333333333,
             "#9c179e"
            ],
            [
             0.4444444444444444,
             "#bd3786"
            ],
            [
             0.5555555555555556,
             "#d8576b"
            ],
            [
             0.6666666666666666,
             "#ed7953"
            ],
            [
             0.7777777777777778,
             "#fb9f3a"
            ],
            [
             0.8888888888888888,
             "#fdca26"
            ],
            [
             1.0,
             "#f0f921"
            ]
           ],
           "sequentialminus": [
            [
             0.0,
             "#0d0887"
            ],
            [
             0.1111111111111111,
             "#46039f"
            ],
            [
             0.2222222222222222,
             "#7201a8"
            ],
            [
             0.3333333333333333,
             "#9c179e"
            ],
            [
             0.4444444444444444,
             "#bd3786"
            ],
            [
             0.5555555555555556,
             "#d8576b"
            ],
            [
             0.6666666666666666,
             "#ed7953"
            ],
            [
             0.7777777777777778,
             "#fb9f3a"
            ],
            [
             0.8888888888888888,
             "#fdca26"
            ],
            [
             1.0,
             "#f0f921"
            ]
           ],
           "diverging": [
            [
             0,
             "#8e0152"
            ],
            [
             0.1,
             "#c51b7d"
            ],
            [
             0.2,
             "#de77ae"
            ],
            [
             0.3,
             "#f1b6da"
            ],
            [
             0.4,
             "#fde0ef"
            ],
            [
             0.5,
             "#f7f7f7"
            ],
            [
             0.6,
             "#e6f5d0"
            ],
            [
             0.7,
             "#b8e186"
            ],
            [
             0.8,
             "#7fbc41"
            ],
            [
             0.9,
             "#4d9221"
            ],
            [
             1,
             "#276419"
            ]
           ]
          },
          "xaxis": {
           "gridcolor": "white",
           "linecolor": "white",
           "ticks": "",
           "title": {
            "standoff": 15
           },
           "zerolinecolor": "white",
           "automargin": true,
           "zerolinewidth": 2
          },
          "yaxis": {
           "gridcolor": "white",
           "linecolor": "white",
           "ticks": "",
           "title": {
            "standoff": 15
           },
           "zerolinecolor": "white",
           "automargin": true,
           "zerolinewidth": 2
          },
          "scene": {
           "xaxis": {
            "backgroundcolor": "#E5ECF6",
            "gridcolor": "white",
            "linecolor": "white",
            "showbackground": true,
            "ticks": "",
            "zerolinecolor": "white",
            "gridwidth": 2
           },
           "yaxis": {
            "backgroundcolor": "#E5ECF6",
            "gridcolor": "white",
            "linecolor": "white",
            "showbackground": true,
            "ticks": "",
            "zerolinecolor": "white",
            "gridwidth": 2
           },
           "zaxis": {
            "backgroundcolor": "#E5ECF6",
            "gridcolor": "white",
            "linecolor": "white",
            "showbackground": true,
            "ticks": "",
            "zerolinecolor": "white",
            "gridwidth": 2
           }
          },
          "shapedefaults": {
           "line": {
            "color": "#2a3f5f"
           }
          },
          "annotationdefaults": {
           "arrowcolor": "#2a3f5f",
           "arrowhead": 0,
           "arrowwidth": 1
          },
          "geo": {
           "bgcolor": "white",
           "landcolor": "#E5ECF6",
           "subunitcolor": "white",
           "showland": true,
           "showlakes": true,
           "lakecolor": "white"
          },
          "title": {
           "x": 0.05
          },
          "mapbox": {
           "style": "light"
          }
         }
        },
        "xaxis": {
         "anchor": "y",
         "domain": [
          0.0,
          1.0
         ],
         "title": {
          "text": "Number of Games"
         }
        },
        "yaxis": {
         "anchor": "x",
         "domain": [
          0.0,
          1.0
         ],
         "title": {
          "text": "Season"
         }
        },
        "legend": {
         "title": {
          "text": "League Name"
         },
         "tracegroupgap": 0,
         "yanchor": "top",
         "y": 0.99,
         "xanchor": "left",
         "x": 1,
         "bgcolor": "lightgrey"
        },
        "title": {
         "text": "Games Played by Season and by League",
         "y": 0.9,
         "x": 0.5,
         "xanchor": "center",
         "yanchor": "top"
        },
        "barmode": "relative",
        "margin": {
         "l": 50,
         "b": 100,
         "t": 100,
         "pad": 10
        },
        "autosize": true,
        "width": 1100,
        "height": 700
       },
       "config": {
        "plotlyServerURL": "https://plot.ly"
       }
      },
      "text/html": "<div>                            <div id=\"f8701f79-d796-43dd-b8c9-624dad94602d\" class=\"plotly-graph-div\" style=\"height:700px; width:1100px;\"></div>            <script type=\"text/javascript\">                require([\"plotly\"], function(Plotly) {                    window.PLOTLYENV=window.PLOTLYENV || {};                                    if (document.getElementById(\"f8701f79-d796-43dd-b8c9-624dad94602d\")) {                    Plotly.newPlot(                        \"f8701f79-d796-43dd-b8c9-624dad94602d\",                        [{\"alignmentgroup\":\"True\",\"hovertemplate\":\"league_name=England Premier League\\u003cbr\\u003eNumber of Games=%{x}\\u003cbr\\u003eSeason=%{y}\\u003cextra\\u003e\\u003c\\u002fextra\\u003e\",\"legendgroup\":\"England Premier League\",\"marker\":{\"color\":\"rgb(228,26,28)\",\"pattern\":{\"shape\":\"\"}},\"name\":\"England Premier League\",\"offsetgroup\":\"England Premier League\",\"orientation\":\"h\",\"showlegend\":true,\"textposition\":\"auto\",\"x\":[380,380,380,380,380,380,380,380],\"xaxis\":\"x\",\"y\":[\"2008\\u002f2009\",\"2009\\u002f2010\",\"2010\\u002f2011\",\"2011\\u002f2012\",\"2012\\u002f2013\",\"2013\\u002f2014\",\"2014\\u002f2015\",\"2015\\u002f2016\"],\"yaxis\":\"y\",\"type\":\"bar\"},{\"alignmentgroup\":\"True\",\"hovertemplate\":\"league_name=France Ligue 1\\u003cbr\\u003eNumber of Games=%{x}\\u003cbr\\u003eSeason=%{y}\\u003cextra\\u003e\\u003c\\u002fextra\\u003e\",\"legendgroup\":\"France Ligue 1\",\"marker\":{\"color\":\"rgb(55,126,184)\",\"pattern\":{\"shape\":\"\"}},\"name\":\"France Ligue 1\",\"offsetgroup\":\"France Ligue 1\",\"orientation\":\"h\",\"showlegend\":true,\"textposition\":\"auto\",\"x\":[380,380,380,380,380,380,380,380],\"xaxis\":\"x\",\"y\":[\"2008\\u002f2009\",\"2009\\u002f2010\",\"2010\\u002f2011\",\"2011\\u002f2012\",\"2012\\u002f2013\",\"2013\\u002f2014\",\"2014\\u002f2015\",\"2015\\u002f2016\"],\"yaxis\":\"y\",\"type\":\"bar\"},{\"alignmentgroup\":\"True\",\"hovertemplate\":\"league_name=Germany 1. Bundesliga\\u003cbr\\u003eNumber of Games=%{x}\\u003cbr\\u003eSeason=%{y}\\u003cextra\\u003e\\u003c\\u002fextra\\u003e\",\"legendgroup\":\"Germany 1. Bundesliga\",\"marker\":{\"color\":\"rgb(77,175,74)\",\"pattern\":{\"shape\":\"\"}},\"name\":\"Germany 1. Bundesliga\",\"offsetgroup\":\"Germany 1. Bundesliga\",\"orientation\":\"h\",\"showlegend\":true,\"textposition\":\"auto\",\"x\":[306,306,306,306,306,306,306,306],\"xaxis\":\"x\",\"y\":[\"2008\\u002f2009\",\"2009\\u002f2010\",\"2010\\u002f2011\",\"2011\\u002f2012\",\"2012\\u002f2013\",\"2013\\u002f2014\",\"2014\\u002f2015\",\"2015\\u002f2016\"],\"yaxis\":\"y\",\"type\":\"bar\"},{\"alignmentgroup\":\"True\",\"hovertemplate\":\"league_name=Italy Serie A\\u003cbr\\u003eNumber of Games=%{x}\\u003cbr\\u003eSeason=%{y}\\u003cextra\\u003e\\u003c\\u002fextra\\u003e\",\"legendgroup\":\"Italy Serie A\",\"marker\":{\"color\":\"rgb(152,78,163)\",\"pattern\":{\"shape\":\"\"}},\"name\":\"Italy Serie A\",\"offsetgroup\":\"Italy Serie A\",\"orientation\":\"h\",\"showlegend\":true,\"textposition\":\"auto\",\"x\":[380,380,380,358,380,380,379,380],\"xaxis\":\"x\",\"y\":[\"2008\\u002f2009\",\"2009\\u002f2010\",\"2010\\u002f2011\",\"2011\\u002f2012\",\"2012\\u002f2013\",\"2013\\u002f2014\",\"2014\\u002f2015\",\"2015\\u002f2016\"],\"yaxis\":\"y\",\"type\":\"bar\"},{\"alignmentgroup\":\"True\",\"hovertemplate\":\"league_name=Spain LIGA BBVA\\u003cbr\\u003eNumber of Games=%{x}\\u003cbr\\u003eSeason=%{y}\\u003cextra\\u003e\\u003c\\u002fextra\\u003e\",\"legendgroup\":\"Spain LIGA BBVA\",\"marker\":{\"color\":\"rgb(255,127,0)\",\"pattern\":{\"shape\":\"\"}},\"name\":\"Spain LIGA BBVA\",\"offsetgroup\":\"Spain LIGA BBVA\",\"orientation\":\"h\",\"showlegend\":true,\"textposition\":\"auto\",\"x\":[380,380,380,380,380,380,380,380],\"xaxis\":\"x\",\"y\":[\"2008\\u002f2009\",\"2009\\u002f2010\",\"2010\\u002f2011\",\"2011\\u002f2012\",\"2012\\u002f2013\",\"2013\\u002f2014\",\"2014\\u002f2015\",\"2015\\u002f2016\"],\"yaxis\":\"y\",\"type\":\"bar\"}],                        {\"template\":{\"data\":{\"histogram2dcontour\":[{\"type\":\"histogram2dcontour\",\"colorbar\":{\"outlinewidth\":0,\"ticks\":\"\"},\"colorscale\":[[0.0,\"#0d0887\"],[0.1111111111111111,\"#46039f\"],[0.2222222222222222,\"#7201a8\"],[0.3333333333333333,\"#9c179e\"],[0.4444444444444444,\"#bd3786\"],[0.5555555555555556,\"#d8576b\"],[0.6666666666666666,\"#ed7953\"],[0.7777777777777778,\"#fb9f3a\"],[0.8888888888888888,\"#fdca26\"],[1.0,\"#f0f921\"]]}],\"choropleth\":[{\"type\":\"choropleth\",\"colorbar\":{\"outlinewidth\":0,\"ticks\":\"\"}}],\"histogram2d\":[{\"type\":\"histogram2d\",\"colorbar\":{\"outlinewidth\":0,\"ticks\":\"\"},\"colorscale\":[[0.0,\"#0d0887\"],[0.1111111111111111,\"#46039f\"],[0.2222222222222222,\"#7201a8\"],[0.3333333333333333,\"#9c179e\"],[0.4444444444444444,\"#bd3786\"],[0.5555555555555556,\"#d8576b\"],[0.6666666666666666,\"#ed7953\"],[0.7777777777777778,\"#fb9f3a\"],[0.8888888888888888,\"#fdca26\"],[1.0,\"#f0f921\"]]}],\"heatmap\":[{\"type\":\"heatmap\",\"colorbar\":{\"outlinewidth\":0,\"ticks\":\"\"},\"colorscale\":[[0.0,\"#0d0887\"],[0.1111111111111111,\"#46039f\"],[0.2222222222222222,\"#7201a8\"],[0.3333333333333333,\"#9c179e\"],[0.4444444444444444,\"#bd3786\"],[0.5555555555555556,\"#d8576b\"],[0.6666666666666666,\"#ed7953\"],[0.7777777777777778,\"#fb9f3a\"],[0.8888888888888888,\"#fdca26\"],[1.0,\"#f0f921\"]]}],\"heatmapgl\":[{\"type\":\"heatmapgl\",\"colorbar\":{\"outlinewidth\":0,\"ticks\":\"\"},\"colorscale\":[[0.0,\"#0d0887\"],[0.1111111111111111,\"#46039f\"],[0.2222222222222222,\"#7201a8\"],[0.3333333333333333,\"#9c179e\"],[0.4444444444444444,\"#bd3786\"],[0.5555555555555556,\"#d8576b\"],[0.6666666666666666,\"#ed7953\"],[0.7777777777777778,\"#fb9f3a\"],[0.8888888888888888,\"#fdca26\"],[1.0,\"#f0f921\"]]}],\"contourcarpet\":[{\"type\":\"contourcarpet\",\"colorbar\":{\"outlinewidth\":0,\"ticks\":\"\"}}],\"contour\":[{\"type\":\"contour\",\"colorbar\":{\"outlinewidth\":0,\"ticks\":\"\"},\"colorscale\":[[0.0,\"#0d0887\"],[0.1111111111111111,\"#46039f\"],[0.2222222222222222,\"#7201a8\"],[0.3333333333333333,\"#9c179e\"],[0.4444444444444444,\"#bd3786\"],[0.5555555555555556,\"#d8576b\"],[0.6666666666666666,\"#ed7953\"],[0.7777777777777778,\"#fb9f3a\"],[0.8888888888888888,\"#fdca26\"],[1.0,\"#f0f921\"]]}],\"surface\":[{\"type\":\"surface\",\"colorbar\":{\"outlinewidth\":0,\"ticks\":\"\"},\"colorscale\":[[0.0,\"#0d0887\"],[0.1111111111111111,\"#46039f\"],[0.2222222222222222,\"#7201a8\"],[0.3333333333333333,\"#9c179e\"],[0.4444444444444444,\"#bd3786\"],[0.5555555555555556,\"#d8576b\"],[0.6666666666666666,\"#ed7953\"],[0.7777777777777778,\"#fb9f3a\"],[0.8888888888888888,\"#fdca26\"],[1.0,\"#f0f921\"]]}],\"mesh3d\":[{\"type\":\"mesh3d\",\"colorbar\":{\"outlinewidth\":0,\"ticks\":\"\"}}],\"scatter\":[{\"fillpattern\":{\"fillmode\":\"overlay\",\"size\":10,\"solidity\":0.2},\"type\":\"scatter\"}],\"parcoords\":[{\"type\":\"parcoords\",\"line\":{\"colorbar\":{\"outlinewidth\":0,\"ticks\":\"\"}}}],\"scatterpolargl\":[{\"type\":\"scatterpolargl\",\"marker\":{\"colorbar\":{\"outlinewidth\":0,\"ticks\":\"\"}}}],\"bar\":[{\"error_x\":{\"color\":\"#2a3f5f\"},\"error_y\":{\"color\":\"#2a3f5f\"},\"marker\":{\"line\":{\"color\":\"#E5ECF6\",\"width\":0.5},\"pattern\":{\"fillmode\":\"overlay\",\"size\":10,\"solidity\":0.2}},\"type\":\"bar\"}],\"scattergeo\":[{\"type\":\"scattergeo\",\"marker\":{\"colorbar\":{\"outlinewidth\":0,\"ticks\":\"\"}}}],\"scatterpolar\":[{\"type\":\"scatterpolar\",\"marker\":{\"colorbar\":{\"outlinewidth\":0,\"ticks\":\"\"}}}],\"histogram\":[{\"marker\":{\"pattern\":{\"fillmode\":\"overlay\",\"size\":10,\"solidity\":0.2}},\"type\":\"histogram\"}],\"scattergl\":[{\"type\":\"scattergl\",\"marker\":{\"colorbar\":{\"outlinewidth\":0,\"ticks\":\"\"}}}],\"scatter3d\":[{\"type\":\"scatter3d\",\"line\":{\"colorbar\":{\"outlinewidth\":0,\"ticks\":\"\"}},\"marker\":{\"colorbar\":{\"outlinewidth\":0,\"ticks\":\"\"}}}],\"scattermapbox\":[{\"type\":\"scattermapbox\",\"marker\":{\"colorbar\":{\"outlinewidth\":0,\"ticks\":\"\"}}}],\"scatterternary\":[{\"type\":\"scatterternary\",\"marker\":{\"colorbar\":{\"outlinewidth\":0,\"ticks\":\"\"}}}],\"scattercarpet\":[{\"type\":\"scattercarpet\",\"marker\":{\"colorbar\":{\"outlinewidth\":0,\"ticks\":\"\"}}}],\"carpet\":[{\"aaxis\":{\"endlinecolor\":\"#2a3f5f\",\"gridcolor\":\"white\",\"linecolor\":\"white\",\"minorgridcolor\":\"white\",\"startlinecolor\":\"#2a3f5f\"},\"baxis\":{\"endlinecolor\":\"#2a3f5f\",\"gridcolor\":\"white\",\"linecolor\":\"white\",\"minorgridcolor\":\"white\",\"startlinecolor\":\"#2a3f5f\"},\"type\":\"carpet\"}],\"table\":[{\"cells\":{\"fill\":{\"color\":\"#EBF0F8\"},\"line\":{\"color\":\"white\"}},\"header\":{\"fill\":{\"color\":\"#C8D4E3\"},\"line\":{\"color\":\"white\"}},\"type\":\"table\"}],\"barpolar\":[{\"marker\":{\"line\":{\"color\":\"#E5ECF6\",\"width\":0.5},\"pattern\":{\"fillmode\":\"overlay\",\"size\":10,\"solidity\":0.2}},\"type\":\"barpolar\"}],\"pie\":[{\"automargin\":true,\"type\":\"pie\"}]},\"layout\":{\"autotypenumbers\":\"strict\",\"colorway\":[\"#636efa\",\"#EF553B\",\"#00cc96\",\"#ab63fa\",\"#FFA15A\",\"#19d3f3\",\"#FF6692\",\"#B6E880\",\"#FF97FF\",\"#FECB52\"],\"font\":{\"color\":\"#2a3f5f\"},\"hovermode\":\"closest\",\"hoverlabel\":{\"align\":\"left\"},\"paper_bgcolor\":\"white\",\"plot_bgcolor\":\"#E5ECF6\",\"polar\":{\"bgcolor\":\"#E5ECF6\",\"angularaxis\":{\"gridcolor\":\"white\",\"linecolor\":\"white\",\"ticks\":\"\"},\"radialaxis\":{\"gridcolor\":\"white\",\"linecolor\":\"white\",\"ticks\":\"\"}},\"ternary\":{\"bgcolor\":\"#E5ECF6\",\"aaxis\":{\"gridcolor\":\"white\",\"linecolor\":\"white\",\"ticks\":\"\"},\"baxis\":{\"gridcolor\":\"white\",\"linecolor\":\"white\",\"ticks\":\"\"},\"caxis\":{\"gridcolor\":\"white\",\"linecolor\":\"white\",\"ticks\":\"\"}},\"coloraxis\":{\"colorbar\":{\"outlinewidth\":0,\"ticks\":\"\"}},\"colorscale\":{\"sequential\":[[0.0,\"#0d0887\"],[0.1111111111111111,\"#46039f\"],[0.2222222222222222,\"#7201a8\"],[0.3333333333333333,\"#9c179e\"],[0.4444444444444444,\"#bd3786\"],[0.5555555555555556,\"#d8576b\"],[0.6666666666666666,\"#ed7953\"],[0.7777777777777778,\"#fb9f3a\"],[0.8888888888888888,\"#fdca26\"],[1.0,\"#f0f921\"]],\"sequentialminus\":[[0.0,\"#0d0887\"],[0.1111111111111111,\"#46039f\"],[0.2222222222222222,\"#7201a8\"],[0.3333333333333333,\"#9c179e\"],[0.4444444444444444,\"#bd3786\"],[0.5555555555555556,\"#d8576b\"],[0.6666666666666666,\"#ed7953\"],[0.7777777777777778,\"#fb9f3a\"],[0.8888888888888888,\"#fdca26\"],[1.0,\"#f0f921\"]],\"diverging\":[[0,\"#8e0152\"],[0.1,\"#c51b7d\"],[0.2,\"#de77ae\"],[0.3,\"#f1b6da\"],[0.4,\"#fde0ef\"],[0.5,\"#f7f7f7\"],[0.6,\"#e6f5d0\"],[0.7,\"#b8e186\"],[0.8,\"#7fbc41\"],[0.9,\"#4d9221\"],[1,\"#276419\"]]},\"xaxis\":{\"gridcolor\":\"white\",\"linecolor\":\"white\",\"ticks\":\"\",\"title\":{\"standoff\":15},\"zerolinecolor\":\"white\",\"automargin\":true,\"zerolinewidth\":2},\"yaxis\":{\"gridcolor\":\"white\",\"linecolor\":\"white\",\"ticks\":\"\",\"title\":{\"standoff\":15},\"zerolinecolor\":\"white\",\"automargin\":true,\"zerolinewidth\":2},\"scene\":{\"xaxis\":{\"backgroundcolor\":\"#E5ECF6\",\"gridcolor\":\"white\",\"linecolor\":\"white\",\"showbackground\":true,\"ticks\":\"\",\"zerolinecolor\":\"white\",\"gridwidth\":2},\"yaxis\":{\"backgroundcolor\":\"#E5ECF6\",\"gridcolor\":\"white\",\"linecolor\":\"white\",\"showbackground\":true,\"ticks\":\"\",\"zerolinecolor\":\"white\",\"gridwidth\":2},\"zaxis\":{\"backgroundcolor\":\"#E5ECF6\",\"gridcolor\":\"white\",\"linecolor\":\"white\",\"showbackground\":true,\"ticks\":\"\",\"zerolinecolor\":\"white\",\"gridwidth\":2}},\"shapedefaults\":{\"line\":{\"color\":\"#2a3f5f\"}},\"annotationdefaults\":{\"arrowcolor\":\"#2a3f5f\",\"arrowhead\":0,\"arrowwidth\":1},\"geo\":{\"bgcolor\":\"white\",\"landcolor\":\"#E5ECF6\",\"subunitcolor\":\"white\",\"showland\":true,\"showlakes\":true,\"lakecolor\":\"white\"},\"title\":{\"x\":0.05},\"mapbox\":{\"style\":\"light\"}}},\"xaxis\":{\"anchor\":\"y\",\"domain\":[0.0,1.0],\"title\":{\"text\":\"Number of Games\"}},\"yaxis\":{\"anchor\":\"x\",\"domain\":[0.0,1.0],\"title\":{\"text\":\"Season\"}},\"legend\":{\"title\":{\"text\":\"League Name\"},\"tracegroupgap\":0,\"yanchor\":\"top\",\"y\":0.99,\"xanchor\":\"left\",\"x\":1,\"bgcolor\":\"lightgrey\"},\"title\":{\"text\":\"Games Played by Season and by League\",\"y\":0.9,\"x\":0.5,\"xanchor\":\"center\",\"yanchor\":\"top\"},\"barmode\":\"relative\",\"margin\":{\"l\":50,\"b\":100,\"t\":100,\"pad\":10},\"autosize\":true,\"width\":1100,\"height\":700},                        {\"responsive\": true}                    ).then(function(){\n                            \nvar gd = document.getElementById('f8701f79-d796-43dd-b8c9-624dad94602d');\nvar x = new MutationObserver(function (mutations, observer) {{\n        var display = window.getComputedStyle(gd).display;\n        if (!display || display === 'none') {{\n            console.log([gd, 'removed!']);\n            Plotly.purge(gd);\n            observer.disconnect();\n        }}\n}});\n\n// Listen for the removal of the full notebook cells\nvar notebookContainer = gd.closest('#notebook-container');\nif (notebookContainer) {{\n    x.observe(notebookContainer, {childList: true});\n}}\n\n// Listen for the clearing of the current output cell\nvar outputEl = gd.closest('.output');\nif (outputEl) {{\n    x.observe(outputEl, {childList: true});\n}}\n\n                        })                };                });            </script>        </div>"
     },
     "metadata": {},
     "output_type": "display_data"
    }
   ],
   "source": [
    "fig = px.bar(matches.groupby(['season', 'league_name']).size().reset_index(), y='season', x=0, color='league_name',\n",
    "             title='Games Played by Season and by League',\n",
    "             labels={'0': 'Number of Games', 'season': 'Season'},\n",
    "             color_discrete_sequence=px.colors.qualitative.Set1,\n",
    "             orientation='h')\n",
    "\n",
    "fig.update_layout(\n",
    "    title={\n",
    "        'text': \"Games Played by Season and by League\",\n",
    "        'y': 0.9,\n",
    "        'x': 0.5,\n",
    "        'xanchor': 'center',\n",
    "        'yanchor': 'top'},\n",
    "    legend_title_text='League Name',\n",
    "    legend=dict(\n",
    "        yanchor=\"top\",\n",
    "        y=0.99,\n",
    "        xanchor=\"left\",\n",
    "        x=1,\n",
    "        bgcolor='lightgrey'\n",
    "    ),\n",
    "    autosize=True,\n",
    "    width=1100,\n",
    "    height=700,\n",
    "    margin=dict(\n",
    "        l=50,\n",
    "        b=100,\n",
    "        t=100,\n",
    "        pad=10\n",
    "    )\n",
    ")\n",
    "\n",
    "fig.show()"
   ]
  },
  {
   "cell_type": "markdown",
   "id": "56bf4452111be113",
   "metadata": {
    "collapsed": false
   },
   "source": [
    "![Number of games](figure.png)"
   ]
  },
  {
   "cell_type": "markdown",
   "id": "9e61e7e6deaabaf2",
   "metadata": {
    "collapsed": false
   },
   "source": [
    "The number of games played each season is consistent across the different leagues. In the German league, 308 games are played, while in other leagues, the number is typically 380 games per season. Notably, in the 2011/2012 season, the Italian league had fewer games than usual, with 358 games instead of the typical 380. However, this variation is not significant. Therefore, for modeling purposes, the German league will have the fewest games, while the other leagues will have a consistent number of games."
   ]
  },
  {
   "cell_type": "markdown",
   "id": "edaf06e53cb883ef",
   "metadata": {
    "collapsed": false
   },
   "source": [
    "## Player ratings"
   ]
  },
  {
   "cell_type": "markdown",
   "id": "54dc8377e6880fe",
   "metadata": {
    "collapsed": false
   },
   "source": [
    "We will now look at the distribution of player ratings in the dataset. We will do this by plotting a histogram of the player ratings."
   ]
  },
  {
   "cell_type": "code",
   "execution_count": 162,
   "id": "2a80962460b5afe2",
   "metadata": {
    "collapsed": false,
    "ExecuteTime": {
     "end_time": "2024-03-28T11:32:27.971276Z",
     "start_time": "2024-03-28T11:32:27.241539Z"
    }
   },
   "outputs": [
    {
     "data": {
      "text/plain": "<Figure size 640x480 with 1 Axes>",
      "image/png": "[encoded data removed]"
     },
     "metadata": {},
     "output_type": "display_data"
    }
   ],
   "source": [
    "home_columns = [f'home_player_{i}' for i in range(1, 12)]\n",
    "away_columns = [f'away_player_{i}' for i in range(1, 12)]\n",
    "\n",
    "player_ratings = pd.concat([matches[col] for col in home_columns + away_columns])\n",
    "\n",
    "sns.set_style('whitegrid')\n",
    "\n",
    "sns.histplot(player_ratings.dropna(), bins=30, kde=False, color='blue')\n",
    "\n",
    "median = player_ratings.median()\n",
    "\n",
    "plt.axvline(median, color='r', linestyle='--')\n",
    "\n",
    "plt.title('Histogram of Player Ratings')\n",
    "plt.xlabel('Player Rating')\n",
    "plt.ylabel('Frequency')\n",
    "\n",
    "plt.show()"
   ]
  },
  {
   "cell_type": "markdown",
   "id": "27b02f459ee43088",
   "metadata": {
    "collapsed": false
   },
   "source": [
    "We can see that the player ratings are normally distributed with a median of around 68."
   ]
  },
  {
   "cell_type": "markdown",
   "id": "4e2a5990ab254137",
   "metadata": {
    "collapsed": false
   },
   "source": [
    "- Player rating distribution by league"
   ]
  },
  {
   "cell_type": "code",
   "execution_count": 163,
   "id": "3b42414a6a82c5bc",
   "metadata": {
    "collapsed": false,
    "ExecuteTime": {
     "end_time": "2024-03-28T11:32:29.110536Z",
     "start_time": "2024-03-28T11:32:27.973269Z"
    }
   },
   "outputs": [
    {
     "data": {
      "text/plain": "<Figure size 1000x600 with 1 Axes>",
      "image/png": "[encoded data removed]"
     },
     "metadata": {},
     "output_type": "display_data"
    }
   ],
   "source": [
    "player_ratings = pd.concat([matches[col] for col in home_columns + away_columns], axis=1)\n",
    "\n",
    "matches_with_ratings = pd.concat([matches['league_name'], player_ratings], axis=1)\n",
    "\n",
    "melted = pd.melt(matches_with_ratings, id_vars='league_name', value_vars=home_columns + away_columns)\n",
    "\n",
    "plt.figure(figsize=(10, 6))\n",
    "sns.boxplot(x='league_name', y='value', data=melted)\n",
    "plt.title('Distribution of Player Ratings by League')\n",
    "plt.xlabel('League Name')\n",
    "plt.ylabel('Player Rating')\n",
    "plt.xticks(rotation=90)\n",
    "plt.show()"
   ]
  },
  {
   "cell_type": "markdown",
   "id": "9d66f98a89cca958",
   "metadata": {
    "collapsed": false
   },
   "source": [
    "The presence of outliers in player ratings across leagues is expected, as there will always be certain players whose performance significantly deviates from the majority. This could be related to factors such as some very young players playing for the first time and having a lower overall rating. The distribution of player ratings is mainly consistent across the various leagues, with most ratings falling between 60 and 75. The England Premier League has the highest median player rating and the broadest distribution of player ratings."
   ]
  },
  {
   "cell_type": "markdown",
   "id": "5a6f816f1abeb23f",
   "metadata": {
    "collapsed": false
   },
   "source": [
    "## Team ratings distribution by league"
   ]
  },
  {
   "cell_type": "code",
   "execution_count": 164,
   "id": "a7401568d5e0b96e",
   "metadata": {
    "collapsed": false,
    "ExecuteTime": {
     "end_time": "2024-03-28T11:32:29.381053Z",
     "start_time": "2024-03-28T11:32:29.111536Z"
    }
   },
   "outputs": [
    {
     "data": {
      "text/plain": "<Figure size 1000x600 with 1 Axes>",
      "image/png": "[encoded data removed]"
     },
     "metadata": {},
     "output_type": "display_data"
    }
   ],
   "source": [
    "team_ratings = pd.concat([matches['average_home_player_rating'], matches['average_away_player_rating']], axis=1)\n",
    "\n",
    "matches_with_ratings = pd.concat([matches['league_name'], team_ratings], axis=1)\n",
    "\n",
    "melted = pd.melt(matches_with_ratings, id_vars='league_name',\n",
    "                 value_vars=['average_home_player_rating', 'average_away_player_rating'])\n",
    "\n",
    "plt.figure(figsize=(10, 6))\n",
    "sns.boxplot(x='league_name', y='value', data=melted)\n",
    "plt.title('Distribution of Team Ratings by League')\n",
    "plt.xlabel('League Name')\n",
    "plt.ylabel('Team Rating')\n",
    "plt.xticks(rotation=90)\n",
    "plt.show()"
   ]
  },
  {
   "cell_type": "markdown",
   "id": "7c872548b806b335",
   "metadata": {
    "collapsed": false
   },
   "source": [
    "The England Premier League stands out as it has the highest median team rating and no outliers, indicating high competitiveness. In contrast, the other four leagues have outliers, suggesting that specific teams significantly outperform others in their respective leagues. This information is valuable for model creation as it can aid in predicting match outcomes. We will now investigate which teams these outliers are."
   ]
  },
  {
   "cell_type": "code",
   "execution_count": 165,
   "id": "affa874a45cd3209",
   "metadata": {
    "collapsed": false,
    "ExecuteTime": {
     "end_time": "2024-03-28T11:32:29.434234Z",
     "start_time": "2024-03-28T11:32:29.384048Z"
    }
   },
   "outputs": [
    {
     "data": {
      "text/plain": "['Inter',\n 'Milan',\n 'SV Werder Bremen',\n 'Roma',\n 'Valencia CF',\n 'FC Bayern Munich',\n 'Olympique Lyonnais',\n 'Juventus',\n 'FC Barcelona',\n 'Atlético Madrid',\n 'Real Madrid CF']"
     },
     "execution_count": 165,
     "metadata": {},
     "output_type": "execute_result"
    }
   ],
   "source": [
    "outlier_teams = []\n",
    "\n",
    "for league in matches['league_name'].unique():\n",
    "    league_matches = matches[matches['league_name'] == league]\n",
    "\n",
    "    for team_type in ['home', 'away']:\n",
    "        column = f'average_{team_type}_player_rating'\n",
    "        Q1 = league_matches[column].quantile(0.25)\n",
    "        Q3 = league_matches[column].quantile(0.75)\n",
    "        IQR = Q3 - Q1\n",
    "\n",
    "        outliers = league_matches[(league_matches[column] > (Q3 + 1.5 * IQR))]\n",
    "\n",
    "        outlier_teams.extend([team for team in outliers[f'{team_type}_team'].unique()])\n",
    "\n",
    "outlier_teams = list(set(outlier_teams))\n",
    "outlier_teams"
   ]
  },
  {
   "cell_type": "markdown",
   "id": "3e00e2f81339cf82",
   "metadata": {
    "collapsed": false
   },
   "source": [
    "We will add a new column to the matches DataFrame, indicating whether a team is an outlier. This data can be helpful when building our model, as it can assist in forecasting the results of matches."
   ]
  },
  {
   "cell_type": "code",
   "execution_count": 166,
   "id": "50caa7bd31d7b6c4",
   "metadata": {
    "collapsed": false,
    "ExecuteTime": {
     "end_time": "2024-03-28T11:32:29.462775Z",
     "start_time": "2024-03-28T11:32:29.435234Z"
    }
   },
   "outputs": [],
   "source": [
    "outlier_teams_set = set(outlier_teams)\n",
    "\n",
    "\n",
    "def is_outlier(team):\n",
    "    return int(team in outlier_teams_set)\n",
    "\n",
    "\n",
    "matches['home_team_outlier'] = matches['home_team'].apply(is_outlier)\n",
    "matches['away_team_outlier'] = matches['away_team'].apply(is_outlier)"
   ]
  },
  {
   "cell_type": "markdown",
   "id": "f57fba007cbf0ac8",
   "metadata": {
    "collapsed": false
   },
   "source": [
    "## Average goals per match in different leagues"
   ]
  },
  {
   "cell_type": "markdown",
   "id": "68f6f3370f8f5a2e",
   "metadata": {
    "collapsed": false
   },
   "source": [
    "We're about to compute the average count of goals per match for each league. This data is crucial for grasping the scoring trends in various leagues. It can also pinpoint leagues with matches that are high or low-scoring. This data is beneficial for model creation, as it aids in recognizing leagues where scoring goals is more or less probable."
   ]
  },
  {
   "cell_type": "code",
   "execution_count": 167,
   "id": "72fc4915db3d029",
   "metadata": {
    "collapsed": false,
    "ExecuteTime": {
     "end_time": "2024-03-28T11:32:29.478541Z",
     "start_time": "2024-03-28T11:32:29.463777Z"
    }
   },
   "outputs": [],
   "source": [
    "required_columns = ['league_name', 'season', 'home_team_goal', 'away_team_goal']\n",
    "\n",
    "grouped = matches.groupby(['league_name', 'season'])\n",
    "\n",
    "total_goals = grouped[['home_team_goal', 'away_team_goal']].sum().sum(axis=1)\n",
    "\n",
    "num_matches = grouped.size()\n",
    "\n",
    "average_goals = round(total_goals / num_matches, 2)\n",
    "average_goals = average_goals.to_frame().reset_index()\n",
    "average_goals = average_goals.rename(columns={0: 'average_goals'})"
   ]
  },
  {
   "cell_type": "code",
   "execution_count": 168,
   "id": "8776b4fd716904d7",
   "metadata": {
    "collapsed": false,
    "ExecuteTime": {
     "end_time": "2024-03-28T11:32:29.538889Z",
     "start_time": "2024-03-28T11:32:29.479543Z"
    }
   },
   "outputs": [
    {
     "data": {
      "application/vnd.plotly.v1+json": {
       "data": [
        {
         "hovertemplate": "Season: %{x}<br>Average Goals: %{y}",
         "hovertext": [
          "England Premier League",
          "England Premier League",
          "England Premier League",
          "England Premier League",
          "England Premier League",
          "England Premier League",
          "England Premier League",
          "England Premier League"
         ],
         "legendgroup": "England Premier League",
         "line": {
          "color": "#636efa",
          "dash": "solid"
         },
         "marker": {
          "symbol": "circle"
         },
         "mode": "lines",
         "name": "England Premier League",
         "orientation": "v",
         "showlegend": true,
         "x": [
          "2008/2009",
          "2009/2010",
          "2010/2011",
          "2011/2012",
          "2012/2013",
          "2013/2014",
          "2014/2015",
          "2015/2016"
         ],
         "xaxis": "x",
         "y": [
          2.48,
          2.77,
          2.8,
          2.81,
          2.8,
          2.77,
          2.57,
          2.7
         ],
         "yaxis": "y",
         "type": "scatter"
        },
        {
         "hovertemplate": "Season: %{x}<br>Average Goals: %{y}",
         "hovertext": [
          "France Ligue 1",
          "France Ligue 1",
          "France Ligue 1",
          "France Ligue 1",
          "France Ligue 1",
          "France Ligue 1",
          "France Ligue 1",
          "France Ligue 1"
         ],
         "legendgroup": "France Ligue 1",
         "line": {
          "color": "#EF553B",
          "dash": "solid"
         },
         "marker": {
          "symbol": "circle"
         },
         "mode": "lines",
         "name": "France Ligue 1",
         "orientation": "v",
         "showlegend": true,
         "x": [
          "2008/2009",
          "2009/2010",
          "2010/2011",
          "2011/2012",
          "2012/2013",
          "2013/2014",
          "2014/2015",
          "2015/2016"
         ],
         "xaxis": "x",
         "y": [
          2.26,
          2.41,
          2.34,
          2.52,
          2.54,
          2.46,
          2.49,
          2.53
         ],
         "yaxis": "y",
         "type": "scatter"
        },
        {
         "hovertemplate": "Season: %{x}<br>Average Goals: %{y}",
         "hovertext": [
          "Germany 1. Bundesliga",
          "Germany 1. Bundesliga",
          "Germany 1. Bundesliga",
          "Germany 1. Bundesliga",
          "Germany 1. Bundesliga",
          "Germany 1. Bundesliga",
          "Germany 1. Bundesliga",
          "Germany 1. Bundesliga"
         ],
         "legendgroup": "Germany 1. Bundesliga",
         "line": {
          "color": "#00cc96",
          "dash": "solid"
         },
         "marker": {
          "symbol": "circle"
         },
         "mode": "lines",
         "name": "Germany 1. Bundesliga",
         "orientation": "v",
         "showlegend": true,
         "x": [
          "2008/2009",
          "2009/2010",
          "2010/2011",
          "2011/2012",
          "2012/2013",
          "2013/2014",
          "2014/2015",
          "2015/2016"
         ],
         "xaxis": "x",
         "y": [
          2.92,
          2.83,
          2.92,
          2.86,
          2.93,
          3.16,
          2.75,
          2.83
         ],
         "yaxis": "y",
         "type": "scatter"
        },
        {
         "hovertemplate": "Season: %{x}<br>Average Goals: %{y}",
         "hovertext": [
          "Italy Serie A",
          "Italy Serie A",
          "Italy Serie A",
          "Italy Serie A",
          "Italy Serie A",
          "Italy Serie A",
          "Italy Serie A",
          "Italy Serie A"
         ],
         "legendgroup": "Italy Serie A",
         "line": {
          "color": "#ab63fa",
          "dash": "solid"
         },
         "marker": {
          "symbol": "circle"
         },
         "mode": "lines",
         "name": "Italy Serie A",
         "orientation": "v",
         "showlegend": true,
         "x": [
          "2008/2009",
          "2009/2010",
          "2010/2011",
          "2011/2012",
          "2012/2013",
          "2013/2014",
          "2014/2015",
          "2015/2016"
         ],
         "xaxis": "x",
         "y": [
          2.6,
          2.61,
          2.51,
          2.58,
          2.64,
          2.72,
          2.69,
          2.58
         ],
         "yaxis": "y",
         "type": "scatter"
        },
        {
         "hovertemplate": "Season: %{x}<br>Average Goals: %{y}",
         "hovertext": [
          "Spain LIGA BBVA",
          "Spain LIGA BBVA",
          "Spain LIGA BBVA",
          "Spain LIGA BBVA",
          "Spain LIGA BBVA",
          "Spain LIGA BBVA",
          "Spain LIGA BBVA",
          "Spain LIGA BBVA"
         ],
         "legendgroup": "Spain LIGA BBVA",
         "line": {
          "color": "#FFA15A",
          "dash": "solid"
         },
         "marker": {
          "symbol": "circle"
         },
         "mode": "lines",
         "name": "Spain LIGA BBVA",
         "orientation": "v",
         "showlegend": true,
         "x": [
          "2008/2009",
          "2009/2010",
          "2010/2011",
          "2011/2012",
          "2012/2013",
          "2013/2014",
          "2014/2015",
          "2015/2016"
         ],
         "xaxis": "x",
         "y": [
          2.9,
          2.71,
          2.74,
          2.76,
          2.87,
          2.75,
          2.66,
          2.74
         ],
         "yaxis": "y",
         "type": "scatter"
        }
       ],
       "layout": {
        "template": {
         "data": {
          "histogram2dcontour": [
           {
            "type": "histogram2dcontour",
            "colorbar": {
             "outlinewidth": 0,
             "ticks": ""
            },
            "colorscale": [
             [
              0.0,
              "#0d0887"
             ],
             [
              0.1111111111111111,
              "#46039f"
             ],
             [
              0.2222222222222222,
              "#7201a8"
             ],
             [
              0.3333333333333333,
              "#9c179e"
             ],
             [
              0.4444444444444444,
              "#bd3786"
             ],
             [
              0.5555555555555556,
              "#d8576b"
             ],
             [
              0.6666666666666666,
              "#ed7953"
             ],
             [
              0.7777777777777778,
              "#fb9f3a"
             ],
             [
              0.8888888888888888,
              "#fdca26"
             ],
             [
              1.0,
              "#f0f921"
             ]
            ]
           }
          ],
          "choropleth": [
           {
            "type": "choropleth",
            "colorbar": {
             "outlinewidth": 0,
             "ticks": ""
            }
           }
          ],
          "histogram2d": [
           {
            "type": "histogram2d",
            "colorbar": {
             "outlinewidth": 0,
             "ticks": ""
            },
            "colorscale": [
             [
              0.0,
              "#0d0887"
             ],
             [
              0.1111111111111111,
              "#46039f"
             ],
             [
              0.2222222222222222,
              "#7201a8"
             ],
             [
              0.3333333333333333,
              "#9c179e"
             ],
             [
              0.4444444444444444,
              "#bd3786"
             ],
             [
              0.5555555555555556,
              "#d8576b"
             ],
             [
              0.6666666666666666,
              "#ed7953"
             ],
             [
              0.7777777777777778,
              "#fb9f3a"
             ],
             [
              0.8888888888888888,
              "#fdca26"
             ],
             [
              1.0,
              "#f0f921"
             ]
            ]
           }
          ],
          "heatmap": [
           {
            "type": "heatmap",
            "colorbar": {
             "outlinewidth": 0,
             "ticks": ""
            },
            "colorscale": [
             [
              0.0,
              "#0d0887"
             ],
             [
              0.1111111111111111,
              "#46039f"
             ],
             [
              0.2222222222222222,
              "#7201a8"
             ],
             [
              0.3333333333333333,
              "#9c179e"
             ],
             [
              0.4444444444444444,
              "#bd3786"
             ],
             [
              0.5555555555555556,
              "#d8576b"
             ],
             [
              0.6666666666666666,
              "#ed7953"
             ],
             [
              0.7777777777777778,
              "#fb9f3a"
             ],
             [
              0.8888888888888888,
              "#fdca26"
             ],
             [
              1.0,
              "#f0f921"
             ]
            ]
           }
          ],
          "heatmapgl": [
           {
            "type": "heatmapgl",
            "colorbar": {
             "outlinewidth": 0,
             "ticks": ""
            },
            "colorscale": [
             [
              0.0,
              "#0d0887"
             ],
             [
              0.1111111111111111,
              "#46039f"
             ],
             [
              0.2222222222222222,
              "#7201a8"
             ],
             [
              0.3333333333333333,
              "#9c179e"
             ],
             [
              0.4444444444444444,
              "#bd3786"
             ],
             [
              0.5555555555555556,
              "#d8576b"
             ],
             [
              0.6666666666666666,
              "#ed7953"
             ],
             [
              0.7777777777777778,
              "#fb9f3a"
             ],
             [
              0.8888888888888888,
              "#fdca26"
             ],
             [
              1.0,
              "#f0f921"
             ]
            ]
           }
          ],
          "contourcarpet": [
           {
            "type": "contourcarpet",
            "colorbar": {
             "outlinewidth": 0,
             "ticks": ""
            }
           }
          ],
          "contour": [
           {
            "type": "contour",
            "colorbar": {
             "outlinewidth": 0,
             "ticks": ""
            },
            "colorscale": [
             [
              0.0,
              "#0d0887"
             ],
             [
              0.1111111111111111,
              "#46039f"
             ],
             [
              0.2222222222222222,
              "#7201a8"
             ],
             [
              0.3333333333333333,
              "#9c179e"
             ],
             [
              0.4444444444444444,
              "#bd3786"
             ],
             [
              0.5555555555555556,
              "#d8576b"
             ],
             [
              0.6666666666666666,
              "#ed7953"
             ],
             [
              0.7777777777777778,
              "#fb9f3a"
             ],
             [
              0.8888888888888888,
              "#fdca26"
             ],
             [
              1.0,
              "#f0f921"
             ]
            ]
           }
          ],
          "surface": [
           {
            "type": "surface",
            "colorbar": {
             "outlinewidth": 0,
             "ticks": ""
            },
            "colorscale": [
             [
              0.0,
              "#0d0887"
             ],
             [
              0.1111111111111111,
              "#46039f"
             ],
             [
              0.2222222222222222,
              "#7201a8"
             ],
             [
              0.3333333333333333,
              "#9c179e"
             ],
             [
              0.4444444444444444,
              "#bd3786"
             ],
             [
              0.5555555555555556,
              "#d8576b"
             ],
             [
              0.6666666666666666,
              "#ed7953"
             ],
             [
              0.7777777777777778,
              "#fb9f3a"
             ],
             [
              0.8888888888888888,
              "#fdca26"
             ],
             [
              1.0,
              "#f0f921"
             ]
            ]
           }
          ],
          "mesh3d": [
           {
            "type": "mesh3d",
            "colorbar": {
             "outlinewidth": 0,
             "ticks": ""
            }
           }
          ],
          "scatter": [
           {
            "fillpattern": {
             "fillmode": "overlay",
             "size": 10,
             "solidity": 0.2
            },
            "type": "scatter"
           }
          ],
          "parcoords": [
           {
            "type": "parcoords",
            "line": {
             "colorbar": {
              "outlinewidth": 0,
              "ticks": ""
             }
            }
           }
          ],
          "scatterpolargl": [
           {
            "type": "scatterpolargl",
            "marker": {
             "colorbar": {
              "outlinewidth": 0,
              "ticks": ""
             }
            }
           }
          ],
          "bar": [
           {
            "error_x": {
             "color": "#2a3f5f"
            },
            "error_y": {
             "color": "#2a3f5f"
            },
            "marker": {
             "line": {
              "color": "#E5ECF6",
              "width": 0.5
             },
             "pattern": {
              "fillmode": "overlay",
              "size": 10,
              "solidity": 0.2
             }
            },
            "type": "bar"
           }
          ],
          "scattergeo": [
           {
            "type": "scattergeo",
            "marker": {
             "colorbar": {
              "outlinewidth": 0,
              "ticks": ""
             }
            }
           }
          ],
          "scatterpolar": [
           {
            "type": "scatterpolar",
            "marker": {
             "colorbar": {
              "outlinewidth": 0,
              "ticks": ""
             }
            }
           }
          ],
          "histogram": [
           {
            "marker": {
             "pattern": {
              "fillmode": "overlay",
              "size": 10,
              "solidity": 0.2
             }
            },
            "type": "histogram"
           }
          ],
          "scattergl": [
           {
            "type": "scattergl",
            "marker": {
             "colorbar": {
              "outlinewidth": 0,
              "ticks": ""
             }
            }
           }
          ],
          "scatter3d": [
           {
            "type": "scatter3d",
            "line": {
             "colorbar": {
              "outlinewidth": 0,
              "ticks": ""
             }
            },
            "marker": {
             "colorbar": {
              "outlinewidth": 0,
              "ticks": ""
             }
            }
           }
          ],
          "scattermapbox": [
           {
            "type": "scattermapbox",
            "marker": {
             "colorbar": {
              "outlinewidth": 0,
              "ticks": ""
             }
            }
           }
          ],
          "scatterternary": [
           {
            "type": "scatterternary",
            "marker": {
             "colorbar": {
              "outlinewidth": 0,
              "ticks": ""
             }
            }
           }
          ],
          "scattercarpet": [
           {
            "type": "scattercarpet",
            "marker": {
             "colorbar": {
              "outlinewidth": 0,
              "ticks": ""
             }
            }
           }
          ],
          "carpet": [
           {
            "aaxis": {
             "endlinecolor": "#2a3f5f",
             "gridcolor": "white",
             "linecolor": "white",
             "minorgridcolor": "white",
             "startlinecolor": "#2a3f5f"
            },
            "baxis": {
             "endlinecolor": "#2a3f5f",
             "gridcolor": "white",
             "linecolor": "white",
             "minorgridcolor": "white",
             "startlinecolor": "#2a3f5f"
            },
            "type": "carpet"
           }
          ],
          "table": [
           {
            "cells": {
             "fill": {
              "color": "#EBF0F8"
             },
             "line": {
              "color": "white"
             }
            },
            "header": {
             "fill": {
              "color": "#C8D4E3"
             },
             "line": {
              "color": "white"
             }
            },
            "type": "table"
           }
          ],
          "barpolar": [
           {
            "marker": {
             "line": {
              "color": "#E5ECF6",
              "width": 0.5
             },
             "pattern": {
              "fillmode": "overlay",
              "size": 10,
              "solidity": 0.2
             }
            },
            "type": "barpolar"
           }
          ],
          "pie": [
           {
            "automargin": true,
            "type": "pie"
           }
          ]
         },
         "layout": {
          "autotypenumbers": "strict",
          "colorway": [
           "#636efa",
           "#EF553B",
           "#00cc96",
           "#ab63fa",
           "#FFA15A",
           "#19d3f3",
           "#FF6692",
           "#B6E880",
           "#FF97FF",
           "#FECB52"
          ],
          "font": {
           "color": "#2a3f5f"
          },
          "hovermode": "closest",
          "hoverlabel": {
           "align": "left"
          },
          "paper_bgcolor": "white",
          "plot_bgcolor": "#E5ECF6",
          "polar": {
           "bgcolor": "#E5ECF6",
           "angularaxis": {
            "gridcolor": "white",
            "linecolor": "white",
            "ticks": ""
           },
           "radialaxis": {
            "gridcolor": "white",
            "linecolor": "white",
            "ticks": ""
           }
          },
          "ternary": {
           "bgcolor": "#E5ECF6",
           "aaxis": {
            "gridcolor": "white",
            "linecolor": "white",
            "ticks": ""
           },
           "baxis": {
            "gridcolor": "white",
            "linecolor": "white",
            "ticks": ""
           },
           "caxis": {
            "gridcolor": "white",
            "linecolor": "white",
            "ticks": ""
           }
          },
          "coloraxis": {
           "colorbar": {
            "outlinewidth": 0,
            "ticks": ""
           }
          },
          "colorscale": {
           "sequential": [
            [
             0.0,
             "#0d0887"
            ],
            [
             0.1111111111111111,
             "#46039f"
            ],
            [
             0.2222222222222222,
             "#7201a8"
            ],
            [
             0.3333333333333333,
             "#9c179e"
            ],
            [
             0.4444444444444444,
             "#bd3786"
            ],
            [
             0.5555555555555556,
             "#d8576b"
            ],
            [
             0.6666666666666666,
             "#ed7953"
            ],
            [
             0.7777777777777778,
             "#fb9f3a"
            ],
            [
             0.8888888888888888,
             "#fdca26"
            ],
            [
             1.0,
             "#f0f921"
            ]
           ],
           "sequentialminus": [
            [
             0.0,
             "#0d0887"
            ],
            [
             0.1111111111111111,
             "#46039f"
            ],
            [
             0.2222222222222222,
             "#7201a8"
            ],
            [
             0.3333333333333333,
             "#9c179e"
            ],
            [
             0.4444444444444444,
             "#bd3786"
            ],
            [
             0.5555555555555556,
             "#d8576b"
            ],
            [
             0.6666666666666666,
             "#ed7953"
            ],
            [
             0.7777777777777778,
             "#fb9f3a"
            ],
            [
             0.8888888888888888,
             "#fdca26"
            ],
            [
             1.0,
             "#f0f921"
            ]
           ],
           "diverging": [
            [
             0,
             "#8e0152"
            ],
            [
             0.1,
             "#c51b7d"
            ],
            [
             0.2,
             "#de77ae"
            ],
            [
             0.3,
             "#f1b6da"
            ],
            [
             0.4,
             "#fde0ef"
            ],
            [
             0.5,
             "#f7f7f7"
            ],
            [
             0.6,
             "#e6f5d0"
            ],
            [
             0.7,
             "#b8e186"
            ],
            [
             0.8,
             "#7fbc41"
            ],
            [
             0.9,
             "#4d9221"
            ],
            [
             1,
             "#276419"
            ]
           ]
          },
          "xaxis": {
           "gridcolor": "white",
           "linecolor": "white",
           "ticks": "",
           "title": {
            "standoff": 15
           },
           "zerolinecolor": "white",
           "automargin": true,
           "zerolinewidth": 2
          },
          "yaxis": {
           "gridcolor": "white",
           "linecolor": "white",
           "ticks": "",
           "title": {
            "standoff": 15
           },
           "zerolinecolor": "white",
           "automargin": true,
           "zerolinewidth": 2
          },
          "scene": {
           "xaxis": {
            "backgroundcolor": "#E5ECF6",
            "gridcolor": "white",
            "linecolor": "white",
            "showbackground": true,
            "ticks": "",
            "zerolinecolor": "white",
            "gridwidth": 2
           },
           "yaxis": {
            "backgroundcolor": "#E5ECF6",
            "gridcolor": "white",
            "linecolor": "white",
            "showbackground": true,
            "ticks": "",
            "zerolinecolor": "white",
            "gridwidth": 2
           },
           "zaxis": {
            "backgroundcolor": "#E5ECF6",
            "gridcolor": "white",
            "linecolor": "white",
            "showbackground": true,
            "ticks": "",
            "zerolinecolor": "white",
            "gridwidth": 2
           }
          },
          "shapedefaults": {
           "line": {
            "color": "#2a3f5f"
           }
          },
          "annotationdefaults": {
           "arrowcolor": "#2a3f5f",
           "arrowhead": 0,
           "arrowwidth": 1
          },
          "geo": {
           "bgcolor": "white",
           "landcolor": "#E5ECF6",
           "subunitcolor": "white",
           "showland": true,
           "showlakes": true,
           "lakecolor": "white"
          },
          "title": {
           "x": 0.05
          },
          "mapbox": {
           "style": "light"
          }
         }
        },
        "xaxis": {
         "anchor": "y",
         "domain": [
          0.0,
          1.0
         ],
         "title": {
          "text": "Season"
         }
        },
        "yaxis": {
         "anchor": "x",
         "domain": [
          0.0,
          1.0
         ],
         "title": {
          "text": "Average Goals per Match"
         }
        },
        "legend": {
         "title": {
          "text": "League Name"
         },
         "tracegroupgap": 0,
         "yanchor": "top",
         "y": 0.99,
         "xanchor": "left",
         "x": 0.01
        },
        "title": {
         "text": "Average Goals per Match by Season and League",
         "y": 0.9,
         "x": 0.5,
         "xanchor": "center",
         "yanchor": "top"
        },
        "margin": {
         "l": 50,
         "b": 100,
         "t": 100,
         "pad": 10
        },
        "autosize": false,
        "width": 1100,
        "height": 700
       },
       "config": {
        "plotlyServerURL": "https://plot.ly"
       }
      },
      "text/html": "<div>                            <div id=\"bffc23ab-948d-4ef3-ae20-6f925923f1d4\" class=\"plotly-graph-div\" style=\"height:700px; width:1100px;\"></div>            <script type=\"text/javascript\">                require([\"plotly\"], function(Plotly) {                    window.PLOTLYENV=window.PLOTLYENV || {};                                    if (document.getElementById(\"bffc23ab-948d-4ef3-ae20-6f925923f1d4\")) {                    Plotly.newPlot(                        \"bffc23ab-948d-4ef3-ae20-6f925923f1d4\",                        [{\"hovertemplate\":\"Season: %{x}\\u003cbr\\u003eAverage Goals: %{y}\",\"hovertext\":[\"England Premier League\",\"England Premier League\",\"England Premier League\",\"England Premier League\",\"England Premier League\",\"England Premier League\",\"England Premier League\",\"England Premier League\"],\"legendgroup\":\"England Premier League\",\"line\":{\"color\":\"#636efa\",\"dash\":\"solid\"},\"marker\":{\"symbol\":\"circle\"},\"mode\":\"lines\",\"name\":\"England Premier League\",\"orientation\":\"v\",\"showlegend\":true,\"x\":[\"2008\\u002f2009\",\"2009\\u002f2010\",\"2010\\u002f2011\",\"2011\\u002f2012\",\"2012\\u002f2013\",\"2013\\u002f2014\",\"2014\\u002f2015\",\"2015\\u002f2016\"],\"xaxis\":\"x\",\"y\":[2.48,2.77,2.8,2.81,2.8,2.77,2.57,2.7],\"yaxis\":\"y\",\"type\":\"scatter\"},{\"hovertemplate\":\"Season: %{x}\\u003cbr\\u003eAverage Goals: %{y}\",\"hovertext\":[\"France Ligue 1\",\"France Ligue 1\",\"France Ligue 1\",\"France Ligue 1\",\"France Ligue 1\",\"France Ligue 1\",\"France Ligue 1\",\"France Ligue 1\"],\"legendgroup\":\"France Ligue 1\",\"line\":{\"color\":\"#EF553B\",\"dash\":\"solid\"},\"marker\":{\"symbol\":\"circle\"},\"mode\":\"lines\",\"name\":\"France Ligue 1\",\"orientation\":\"v\",\"showlegend\":true,\"x\":[\"2008\\u002f2009\",\"2009\\u002f2010\",\"2010\\u002f2011\",\"2011\\u002f2012\",\"2012\\u002f2013\",\"2013\\u002f2014\",\"2014\\u002f2015\",\"2015\\u002f2016\"],\"xaxis\":\"x\",\"y\":[2.26,2.41,2.34,2.52,2.54,2.46,2.49,2.53],\"yaxis\":\"y\",\"type\":\"scatter\"},{\"hovertemplate\":\"Season: %{x}\\u003cbr\\u003eAverage Goals: %{y}\",\"hovertext\":[\"Germany 1. Bundesliga\",\"Germany 1. Bundesliga\",\"Germany 1. Bundesliga\",\"Germany 1. Bundesliga\",\"Germany 1. Bundesliga\",\"Germany 1. Bundesliga\",\"Germany 1. Bundesliga\",\"Germany 1. Bundesliga\"],\"legendgroup\":\"Germany 1. Bundesliga\",\"line\":{\"color\":\"#00cc96\",\"dash\":\"solid\"},\"marker\":{\"symbol\":\"circle\"},\"mode\":\"lines\",\"name\":\"Germany 1. Bundesliga\",\"orientation\":\"v\",\"showlegend\":true,\"x\":[\"2008\\u002f2009\",\"2009\\u002f2010\",\"2010\\u002f2011\",\"2011\\u002f2012\",\"2012\\u002f2013\",\"2013\\u002f2014\",\"2014\\u002f2015\",\"2015\\u002f2016\"],\"xaxis\":\"x\",\"y\":[2.92,2.83,2.92,2.86,2.93,3.16,2.75,2.83],\"yaxis\":\"y\",\"type\":\"scatter\"},{\"hovertemplate\":\"Season: %{x}\\u003cbr\\u003eAverage Goals: %{y}\",\"hovertext\":[\"Italy Serie A\",\"Italy Serie A\",\"Italy Serie A\",\"Italy Serie A\",\"Italy Serie A\",\"Italy Serie A\",\"Italy Serie A\",\"Italy Serie A\"],\"legendgroup\":\"Italy Serie A\",\"line\":{\"color\":\"#ab63fa\",\"dash\":\"solid\"},\"marker\":{\"symbol\":\"circle\"},\"mode\":\"lines\",\"name\":\"Italy Serie A\",\"orientation\":\"v\",\"showlegend\":true,\"x\":[\"2008\\u002f2009\",\"2009\\u002f2010\",\"2010\\u002f2011\",\"2011\\u002f2012\",\"2012\\u002f2013\",\"2013\\u002f2014\",\"2014\\u002f2015\",\"2015\\u002f2016\"],\"xaxis\":\"x\",\"y\":[2.6,2.61,2.51,2.58,2.64,2.72,2.69,2.58],\"yaxis\":\"y\",\"type\":\"scatter\"},{\"hovertemplate\":\"Season: %{x}\\u003cbr\\u003eAverage Goals: %{y}\",\"hovertext\":[\"Spain LIGA BBVA\",\"Spain LIGA BBVA\",\"Spain LIGA BBVA\",\"Spain LIGA BBVA\",\"Spain LIGA BBVA\",\"Spain LIGA BBVA\",\"Spain LIGA BBVA\",\"Spain LIGA BBVA\"],\"legendgroup\":\"Spain LIGA BBVA\",\"line\":{\"color\":\"#FFA15A\",\"dash\":\"solid\"},\"marker\":{\"symbol\":\"circle\"},\"mode\":\"lines\",\"name\":\"Spain LIGA BBVA\",\"orientation\":\"v\",\"showlegend\":true,\"x\":[\"2008\\u002f2009\",\"2009\\u002f2010\",\"2010\\u002f2011\",\"2011\\u002f2012\",\"2012\\u002f2013\",\"2013\\u002f2014\",\"2014\\u002f2015\",\"2015\\u002f2016\"],\"xaxis\":\"x\",\"y\":[2.9,2.71,2.74,2.76,2.87,2.75,2.66,2.74],\"yaxis\":\"y\",\"type\":\"scatter\"}],                        {\"template\":{\"data\":{\"histogram2dcontour\":[{\"type\":\"histogram2dcontour\",\"colorbar\":{\"outlinewidth\":0,\"ticks\":\"\"},\"colorscale\":[[0.0,\"#0d0887\"],[0.1111111111111111,\"#46039f\"],[0.2222222222222222,\"#7201a8\"],[0.3333333333333333,\"#9c179e\"],[0.4444444444444444,\"#bd3786\"],[0.5555555555555556,\"#d8576b\"],[0.6666666666666666,\"#ed7953\"],[0.7777777777777778,\"#fb9f3a\"],[0.8888888888888888,\"#fdca26\"],[1.0,\"#f0f921\"]]}],\"choropleth\":[{\"type\":\"choropleth\",\"colorbar\":{\"outlinewidth\":0,\"ticks\":\"\"}}],\"histogram2d\":[{\"type\":\"histogram2d\",\"colorbar\":{\"outlinewidth\":0,\"ticks\":\"\"},\"colorscale\":[[0.0,\"#0d0887\"],[0.1111111111111111,\"#46039f\"],[0.2222222222222222,\"#7201a8\"],[0.3333333333333333,\"#9c179e\"],[0.4444444444444444,\"#bd3786\"],[0.5555555555555556,\"#d8576b\"],[0.6666666666666666,\"#ed7953\"],[0.7777777777777778,\"#fb9f3a\"],[0.8888888888888888,\"#fdca26\"],[1.0,\"#f0f921\"]]}],\"heatmap\":[{\"type\":\"heatmap\",\"colorbar\":{\"outlinewidth\":0,\"ticks\":\"\"},\"colorscale\":[[0.0,\"#0d0887\"],[0.1111111111111111,\"#46039f\"],[0.2222222222222222,\"#7201a8\"],[0.3333333333333333,\"#9c179e\"],[0.4444444444444444,\"#bd3786\"],[0.5555555555555556,\"#d8576b\"],[0.6666666666666666,\"#ed7953\"],[0.7777777777777778,\"#fb9f3a\"],[0.8888888888888888,\"#fdca26\"],[1.0,\"#f0f921\"]]}],\"heatmapgl\":[{\"type\":\"heatmapgl\",\"colorbar\":{\"outlinewidth\":0,\"ticks\":\"\"},\"colorscale\":[[0.0,\"#0d0887\"],[0.1111111111111111,\"#46039f\"],[0.2222222222222222,\"#7201a8\"],[0.3333333333333333,\"#9c179e\"],[0.4444444444444444,\"#bd3786\"],[0.5555555555555556,\"#d8576b\"],[0.6666666666666666,\"#ed7953\"],[0.7777777777777778,\"#fb9f3a\"],[0.8888888888888888,\"#fdca26\"],[1.0,\"#f0f921\"]]}],\"contourcarpet\":[{\"type\":\"contourcarpet\",\"colorbar\":{\"outlinewidth\":0,\"ticks\":\"\"}}],\"contour\":[{\"type\":\"contour\",\"colorbar\":{\"outlinewidth\":0,\"ticks\":\"\"},\"colorscale\":[[0.0,\"#0d0887\"],[0.1111111111111111,\"#46039f\"],[0.2222222222222222,\"#7201a8\"],[0.3333333333333333,\"#9c179e\"],[0.4444444444444444,\"#bd3786\"],[0.5555555555555556,\"#d8576b\"],[0.6666666666666666,\"#ed7953\"],[0.7777777777777778,\"#fb9f3a\"],[0.8888888888888888,\"#fdca26\"],[1.0,\"#f0f921\"]]}],\"surface\":[{\"type\":\"surface\",\"colorbar\":{\"outlinewidth\":0,\"ticks\":\"\"},\"colorscale\":[[0.0,\"#0d0887\"],[0.1111111111111111,\"#46039f\"],[0.2222222222222222,\"#7201a8\"],[0.3333333333333333,\"#9c179e\"],[0.4444444444444444,\"#bd3786\"],[0.5555555555555556,\"#d8576b\"],[0.6666666666666666,\"#ed7953\"],[0.7777777777777778,\"#fb9f3a\"],[0.8888888888888888,\"#fdca26\"],[1.0,\"#f0f921\"]]}],\"mesh3d\":[{\"type\":\"mesh3d\",\"colorbar\":{\"outlinewidth\":0,\"ticks\":\"\"}}],\"scatter\":[{\"fillpattern\":{\"fillmode\":\"overlay\",\"size\":10,\"solidity\":0.2},\"type\":\"scatter\"}],\"parcoords\":[{\"type\":\"parcoords\",\"line\":{\"colorbar\":{\"outlinewidth\":0,\"ticks\":\"\"}}}],\"scatterpolargl\":[{\"type\":\"scatterpolargl\",\"marker\":{\"colorbar\":{\"outlinewidth\":0,\"ticks\":\"\"}}}],\"bar\":[{\"error_x\":{\"color\":\"#2a3f5f\"},\"error_y\":{\"color\":\"#2a3f5f\"},\"marker\":{\"line\":{\"color\":\"#E5ECF6\",\"width\":0.5},\"pattern\":{\"fillmode\":\"overlay\",\"size\":10,\"solidity\":0.2}},\"type\":\"bar\"}],\"scattergeo\":[{\"type\":\"scattergeo\",\"marker\":{\"colorbar\":{\"outlinewidth\":0,\"ticks\":\"\"}}}],\"scatterpolar\":[{\"type\":\"scatterpolar\",\"marker\":{\"colorbar\":{\"outlinewidth\":0,\"ticks\":\"\"}}}],\"histogram\":[{\"marker\":{\"pattern\":{\"fillmode\":\"overlay\",\"size\":10,\"solidity\":0.2}},\"type\":\"histogram\"}],\"scattergl\":[{\"type\":\"scattergl\",\"marker\":{\"colorbar\":{\"outlinewidth\":0,\"ticks\":\"\"}}}],\"scatter3d\":[{\"type\":\"scatter3d\",\"line\":{\"colorbar\":{\"outlinewidth\":0,\"ticks\":\"\"}},\"marker\":{\"colorbar\":{\"outlinewidth\":0,\"ticks\":\"\"}}}],\"scattermapbox\":[{\"type\":\"scattermapbox\",\"marker\":{\"colorbar\":{\"outlinewidth\":0,\"ticks\":\"\"}}}],\"scatterternary\":[{\"type\":\"scatterternary\",\"marker\":{\"colorbar\":{\"outlinewidth\":0,\"ticks\":\"\"}}}],\"scattercarpet\":[{\"type\":\"scattercarpet\",\"marker\":{\"colorbar\":{\"outlinewidth\":0,\"ticks\":\"\"}}}],\"carpet\":[{\"aaxis\":{\"endlinecolor\":\"#2a3f5f\",\"gridcolor\":\"white\",\"linecolor\":\"white\",\"minorgridcolor\":\"white\",\"startlinecolor\":\"#2a3f5f\"},\"baxis\":{\"endlinecolor\":\"#2a3f5f\",\"gridcolor\":\"white\",\"linecolor\":\"white\",\"minorgridcolor\":\"white\",\"startlinecolor\":\"#2a3f5f\"},\"type\":\"carpet\"}],\"table\":[{\"cells\":{\"fill\":{\"color\":\"#EBF0F8\"},\"line\":{\"color\":\"white\"}},\"header\":{\"fill\":{\"color\":\"#C8D4E3\"},\"line\":{\"color\":\"white\"}},\"type\":\"table\"}],\"barpolar\":[{\"marker\":{\"line\":{\"color\":\"#E5ECF6\",\"width\":0.5},\"pattern\":{\"fillmode\":\"overlay\",\"size\":10,\"solidity\":0.2}},\"type\":\"barpolar\"}],\"pie\":[{\"automargin\":true,\"type\":\"pie\"}]},\"layout\":{\"autotypenumbers\":\"strict\",\"colorway\":[\"#636efa\",\"#EF553B\",\"#00cc96\",\"#ab63fa\",\"#FFA15A\",\"#19d3f3\",\"#FF6692\",\"#B6E880\",\"#FF97FF\",\"#FECB52\"],\"font\":{\"color\":\"#2a3f5f\"},\"hovermode\":\"closest\",\"hoverlabel\":{\"align\":\"left\"},\"paper_bgcolor\":\"white\",\"plot_bgcolor\":\"#E5ECF6\",\"polar\":{\"bgcolor\":\"#E5ECF6\",\"angularaxis\":{\"gridcolor\":\"white\",\"linecolor\":\"white\",\"ticks\":\"\"},\"radialaxis\":{\"gridcolor\":\"white\",\"linecolor\":\"white\",\"ticks\":\"\"}},\"ternary\":{\"bgcolor\":\"#E5ECF6\",\"aaxis\":{\"gridcolor\":\"white\",\"linecolor\":\"white\",\"ticks\":\"\"},\"baxis\":{\"gridcolor\":\"white\",\"linecolor\":\"white\",\"ticks\":\"\"},\"caxis\":{\"gridcolor\":\"white\",\"linecolor\":\"white\",\"ticks\":\"\"}},\"coloraxis\":{\"colorbar\":{\"outlinewidth\":0,\"ticks\":\"\"}},\"colorscale\":{\"sequential\":[[0.0,\"#0d0887\"],[0.1111111111111111,\"#46039f\"],[0.2222222222222222,\"#7201a8\"],[0.3333333333333333,\"#9c179e\"],[0.4444444444444444,\"#bd3786\"],[0.5555555555555556,\"#d8576b\"],[0.6666666666666666,\"#ed7953\"],[0.7777777777777778,\"#fb9f3a\"],[0.8888888888888888,\"#fdca26\"],[1.0,\"#f0f921\"]],\"sequentialminus\":[[0.0,\"#0d0887\"],[0.1111111111111111,\"#46039f\"],[0.2222222222222222,\"#7201a8\"],[0.3333333333333333,\"#9c179e\"],[0.4444444444444444,\"#bd3786\"],[0.5555555555555556,\"#d8576b\"],[0.6666666666666666,\"#ed7953\"],[0.7777777777777778,\"#fb9f3a\"],[0.8888888888888888,\"#fdca26\"],[1.0,\"#f0f921\"]],\"diverging\":[[0,\"#8e0152\"],[0.1,\"#c51b7d\"],[0.2,\"#de77ae\"],[0.3,\"#f1b6da\"],[0.4,\"#fde0ef\"],[0.5,\"#f7f7f7\"],[0.6,\"#e6f5d0\"],[0.7,\"#b8e186\"],[0.8,\"#7fbc41\"],[0.9,\"#4d9221\"],[1,\"#276419\"]]},\"xaxis\":{\"gridcolor\":\"white\",\"linecolor\":\"white\",\"ticks\":\"\",\"title\":{\"standoff\":15},\"zerolinecolor\":\"white\",\"automargin\":true,\"zerolinewidth\":2},\"yaxis\":{\"gridcolor\":\"white\",\"linecolor\":\"white\",\"ticks\":\"\",\"title\":{\"standoff\":15},\"zerolinecolor\":\"white\",\"automargin\":true,\"zerolinewidth\":2},\"scene\":{\"xaxis\":{\"backgroundcolor\":\"#E5ECF6\",\"gridcolor\":\"white\",\"linecolor\":\"white\",\"showbackground\":true,\"ticks\":\"\",\"zerolinecolor\":\"white\",\"gridwidth\":2},\"yaxis\":{\"backgroundcolor\":\"#E5ECF6\",\"gridcolor\":\"white\",\"linecolor\":\"white\",\"showbackground\":true,\"ticks\":\"\",\"zerolinecolor\":\"white\",\"gridwidth\":2},\"zaxis\":{\"backgroundcolor\":\"#E5ECF6\",\"gridcolor\":\"white\",\"linecolor\":\"white\",\"showbackground\":true,\"ticks\":\"\",\"zerolinecolor\":\"white\",\"gridwidth\":2}},\"shapedefaults\":{\"line\":{\"color\":\"#2a3f5f\"}},\"annotationdefaults\":{\"arrowcolor\":\"#2a3f5f\",\"arrowhead\":0,\"arrowwidth\":1},\"geo\":{\"bgcolor\":\"white\",\"landcolor\":\"#E5ECF6\",\"subunitcolor\":\"white\",\"showland\":true,\"showlakes\":true,\"lakecolor\":\"white\"},\"title\":{\"x\":0.05},\"mapbox\":{\"style\":\"light\"}}},\"xaxis\":{\"anchor\":\"y\",\"domain\":[0.0,1.0],\"title\":{\"text\":\"Season\"}},\"yaxis\":{\"anchor\":\"x\",\"domain\":[0.0,1.0],\"title\":{\"text\":\"Average Goals per Match\"}},\"legend\":{\"title\":{\"text\":\"League Name\"},\"tracegroupgap\":0,\"yanchor\":\"top\",\"y\":0.99,\"xanchor\":\"left\",\"x\":0.01},\"title\":{\"text\":\"Average Goals per Match by Season and League\",\"y\":0.9,\"x\":0.5,\"xanchor\":\"center\",\"yanchor\":\"top\"},\"margin\":{\"l\":50,\"b\":100,\"t\":100,\"pad\":10},\"autosize\":false,\"width\":1100,\"height\":700},                        {\"responsive\": true}                    ).then(function(){\n                            \nvar gd = document.getElementById('bffc23ab-948d-4ef3-ae20-6f925923f1d4');\nvar x = new MutationObserver(function (mutations, observer) {{\n        var display = window.getComputedStyle(gd).display;\n        if (!display || display === 'none') {{\n            console.log([gd, 'removed!']);\n            Plotly.purge(gd);\n            observer.disconnect();\n        }}\n}});\n\n// Listen for the removal of the full notebook cells\nvar notebookContainer = gd.closest('#notebook-container');\nif (notebookContainer) {{\n    x.observe(notebookContainer, {childList: true});\n}}\n\n// Listen for the clearing of the current output cell\nvar outputEl = gd.closest('.output');\nif (outputEl) {{\n    x.observe(outputEl, {childList: true});\n}}\n\n                        })                };                });            </script>        </div>"
     },
     "metadata": {},
     "output_type": "display_data"
    }
   ],
   "source": [
    "fig = px.line(average_goals, x='season', y='average_goals', color='league_name',\n",
    "              title='Average Goals per Match by Season and League',\n",
    "              labels={'average_goals': 'Average Goals per Match', 'season': 'Season'},\n",
    "              hover_data=['average_goals'],\n",
    "              hover_name='league_name')\n",
    "\n",
    "fig.update_traces(hovertemplate='Season: %{x}<br>Average Goals: %{y}')\n",
    "\n",
    "fig.update_layout(\n",
    "    title={\n",
    "        'text': \"Average Goals per Match by Season and League\",\n",
    "        'y': 0.9,\n",
    "        'x': 0.5,\n",
    "        'xanchor': 'center',\n",
    "        'yanchor': 'top'},\n",
    "    legend_title_text='League Name',\n",
    "    legend=dict(\n",
    "        yanchor=\"top\",\n",
    "        y=0.99,\n",
    "        xanchor=\"left\",\n",
    "        x=0.01\n",
    "    ),\n",
    "    autosize=False,\n",
    "    width=1100,\n",
    "    height=700,\n",
    "    margin=dict(\n",
    "        l=50,\n",
    "        b=100,\n",
    "        t=100,\n",
    "        pad=10\n",
    "    )\n",
    ")\n",
    "\n",
    "fig.show()"
   ]
  },
  {
   "cell_type": "markdown",
   "id": "fc898f3fe9093156",
   "metadata": {
    "collapsed": false
   },
   "source": [
    "Most average goals are scored in Germany Bundesliga, least in France Ligue 1. The average goals per match are consistent across the various leagues, just France Ligue 1 has a trend of increasing average goals per match over the years."
   ]
  },
  {
   "cell_type": "markdown",
   "id": "8087edfe982007b9",
   "metadata": {
    "collapsed": false
   },
   "source": [
    "## Win, draw, and loss percentages by league playing at home"
   ]
  },
  {
   "cell_type": "code",
   "execution_count": 169,
   "id": "7703f8b3c4df4fad",
   "metadata": {
    "collapsed": false,
    "ExecuteTime": {
     "end_time": "2024-03-28T11:32:29.625049Z",
     "start_time": "2024-03-28T11:32:29.539889Z"
    }
   },
   "outputs": [
    {
     "data": {
      "application/vnd.plotly.v1+json": {
       "data": [
        {
         "alignmentgroup": "True",
         "customdata": [
          [
           "Win"
          ],
          [
           "Win"
          ],
          [
           "Win"
          ],
          [
           "Win"
          ],
          [
           "Win"
          ]
         ],
         "hovertemplate": "League Name=%{x}<br>Percentage=%{y}<extra></extra>",
         "legendgroup": "Win",
         "marker": {
          "color": "#636efa",
          "pattern": {
           "shape": ""
          }
         },
         "name": "Win",
         "offsetgroup": "Win",
         "orientation": "v",
         "showlegend": true,
         "textposition": "auto",
         "x": [
          "England Premier League",
          "France Ligue 1",
          "Germany 1. Bundesliga",
          "Italy Serie A",
          "Spain LIGA BBVA"
         ],
         "xaxis": "x",
         "y": [
          46.0,
          45.0,
          45.0,
          47.0,
          49.0
         ],
         "yaxis": "y",
         "type": "bar"
        },
        {
         "alignmentgroup": "True",
         "customdata": [
          [
           "Draw"
          ],
          [
           "Draw"
          ],
          [
           "Draw"
          ],
          [
           "Draw"
          ],
          [
           "Draw"
          ]
         ],
         "hovertemplate": "League Name=%{x}<br>Percentage=%{y}<extra></extra>",
         "legendgroup": "Draw",
         "marker": {
          "color": "#EF553B",
          "pattern": {
           "shape": ""
          }
         },
         "name": "Draw",
         "offsetgroup": "Draw",
         "orientation": "v",
         "showlegend": true,
         "textposition": "auto",
         "x": [
          "England Premier League",
          "France Ligue 1",
          "Germany 1. Bundesliga",
          "Italy Serie A",
          "Spain LIGA BBVA"
         ],
         "xaxis": "x2",
         "y": [
          26.0,
          28.000000000000004,
          24.0,
          26.0,
          23.0
         ],
         "yaxis": "y2",
         "type": "bar"
        },
        {
         "alignmentgroup": "True",
         "customdata": [
          [
           "Lose"
          ],
          [
           "Lose"
          ],
          [
           "Lose"
          ],
          [
           "Lose"
          ],
          [
           "Lose"
          ]
         ],
         "hovertemplate": "League Name=%{x}<br>Percentage=%{y}<extra></extra>",
         "legendgroup": "Lose",
         "marker": {
          "color": "#00cc96",
          "pattern": {
           "shape": ""
          }
         },
         "name": "Lose",
         "offsetgroup": "Lose",
         "orientation": "v",
         "showlegend": true,
         "textposition": "auto",
         "x": [
          "England Premier League",
          "France Ligue 1",
          "Germany 1. Bundesliga",
          "Italy Serie A",
          "Spain LIGA BBVA"
         ],
         "xaxis": "x3",
         "y": [
          28.999999999999996,
          27.0,
          30.0,
          27.0,
          28.000000000000004
         ],
         "yaxis": "y3",
         "type": "bar"
        }
       ],
       "layout": {
        "template": {
         "data": {
          "histogram2dcontour": [
           {
            "type": "histogram2dcontour",
            "colorbar": {
             "outlinewidth": 0,
             "ticks": ""
            },
            "colorscale": [
             [
              0.0,
              "#0d0887"
             ],
             [
              0.1111111111111111,
              "#46039f"
             ],
             [
              0.2222222222222222,
              "#7201a8"
             ],
             [
              0.3333333333333333,
              "#9c179e"
             ],
             [
              0.4444444444444444,
              "#bd3786"
             ],
             [
              0.5555555555555556,
              "#d8576b"
             ],
             [
              0.6666666666666666,
              "#ed7953"
             ],
             [
              0.7777777777777778,
              "#fb9f3a"
             ],
             [
              0.8888888888888888,
              "#fdca26"
             ],
             [
              1.0,
              "#f0f921"
             ]
            ]
           }
          ],
          "choropleth": [
           {
            "type": "choropleth",
            "colorbar": {
             "outlinewidth": 0,
             "ticks": ""
            }
           }
          ],
          "histogram2d": [
           {
            "type": "histogram2d",
            "colorbar": {
             "outlinewidth": 0,
             "ticks": ""
            },
            "colorscale": [
             [
              0.0,
              "#0d0887"
             ],
             [
              0.1111111111111111,
              "#46039f"
             ],
             [
              0.2222222222222222,
              "#7201a8"
             ],
             [
              0.3333333333333333,
              "#9c179e"
             ],
             [
              0.4444444444444444,
              "#bd3786"
             ],
             [
              0.5555555555555556,
              "#d8576b"
             ],
             [
              0.6666666666666666,
              "#ed7953"
             ],
             [
              0.7777777777777778,
              "#fb9f3a"
             ],
             [
              0.8888888888888888,
              "#fdca26"
             ],
             [
              1.0,
              "#f0f921"
             ]
            ]
           }
          ],
          "heatmap": [
           {
            "type": "heatmap",
            "colorbar": {
             "outlinewidth": 0,
             "ticks": ""
            },
            "colorscale": [
             [
              0.0,
              "#0d0887"
             ],
             [
              0.1111111111111111,
              "#46039f"
             ],
             [
              0.2222222222222222,
              "#7201a8"
             ],
             [
              0.3333333333333333,
              "#9c179e"
             ],
             [
              0.4444444444444444,
              "#bd3786"
             ],
             [
              0.5555555555555556,
              "#d8576b"
             ],
             [
              0.6666666666666666,
              "#ed7953"
             ],
             [
              0.7777777777777778,
              "#fb9f3a"
             ],
             [
              0.8888888888888888,
              "#fdca26"
             ],
             [
              1.0,
              "#f0f921"
             ]
            ]
           }
          ],
          "heatmapgl": [
           {
            "type": "heatmapgl",
            "colorbar": {
             "outlinewidth": 0,
             "ticks": ""
            },
            "colorscale": [
             [
              0.0,
              "#0d0887"
             ],
             [
              0.1111111111111111,
              "#46039f"
             ],
             [
              0.2222222222222222,
              "#7201a8"
             ],
             [
              0.3333333333333333,
              "#9c179e"
             ],
             [
              0.4444444444444444,
              "#bd3786"
             ],
             [
              0.5555555555555556,
              "#d8576b"
             ],
             [
              0.6666666666666666,
              "#ed7953"
             ],
             [
              0.7777777777777778,
              "#fb9f3a"
             ],
             [
              0.8888888888888888,
              "#fdca26"
             ],
             [
              1.0,
              "#f0f921"
             ]
            ]
           }
          ],
          "contourcarpet": [
           {
            "type": "contourcarpet",
            "colorbar": {
             "outlinewidth": 0,
             "ticks": ""
            }
           }
          ],
          "contour": [
           {
            "type": "contour",
            "colorbar": {
             "outlinewidth": 0,
             "ticks": ""
            },
            "colorscale": [
             [
              0.0,
              "#0d0887"
             ],
             [
              0.1111111111111111,
              "#46039f"
             ],
             [
              0.2222222222222222,
              "#7201a8"
             ],
             [
              0.3333333333333333,
              "#9c179e"
             ],
             [
              0.4444444444444444,
              "#bd3786"
             ],
             [
              0.5555555555555556,
              "#d8576b"
             ],
             [
              0.6666666666666666,
              "#ed7953"
             ],
             [
              0.7777777777777778,
              "#fb9f3a"
             ],
             [
              0.8888888888888888,
              "#fdca26"
             ],
             [
              1.0,
              "#f0f921"
             ]
            ]
           }
          ],
          "surface": [
           {
            "type": "surface",
            "colorbar": {
             "outlinewidth": 0,
             "ticks": ""
            },
            "colorscale": [
             [
              0.0,
              "#0d0887"
             ],
             [
              0.1111111111111111,
              "#46039f"
             ],
             [
              0.2222222222222222,
              "#7201a8"
             ],
             [
              0.3333333333333333,
              "#9c179e"
             ],
             [
              0.4444444444444444,
              "#bd3786"
             ],
             [
              0.5555555555555556,
              "#d8576b"
             ],
             [
              0.6666666666666666,
              "#ed7953"
             ],
             [
              0.7777777777777778,
              "#fb9f3a"
             ],
             [
              0.8888888888888888,
              "#fdca26"
             ],
             [
              1.0,
              "#f0f921"
             ]
            ]
           }
          ],
          "mesh3d": [
           {
            "type": "mesh3d",
            "colorbar": {
             "outlinewidth": 0,
             "ticks": ""
            }
           }
          ],
          "scatter": [
           {
            "fillpattern": {
             "fillmode": "overlay",
             "size": 10,
             "solidity": 0.2
            },
            "type": "scatter"
           }
          ],
          "parcoords": [
           {
            "type": "parcoords",
            "line": {
             "colorbar": {
              "outlinewidth": 0,
              "ticks": ""
             }
            }
           }
          ],
          "scatterpolargl": [
           {
            "type": "scatterpolargl",
            "marker": {
             "colorbar": {
              "outlinewidth": 0,
              "ticks": ""
             }
            }
           }
          ],
          "bar": [
           {
            "error_x": {
             "color": "#2a3f5f"
            },
            "error_y": {
             "color": "#2a3f5f"
            },
            "marker": {
             "line": {
              "color": "#E5ECF6",
              "width": 0.5
             },
             "pattern": {
              "fillmode": "overlay",
              "size": 10,
              "solidity": 0.2
             }
            },
            "type": "bar"
           }
          ],
          "scattergeo": [
           {
            "type": "scattergeo",
            "marker": {
             "colorbar": {
              "outlinewidth": 0,
              "ticks": ""
             }
            }
           }
          ],
          "scatterpolar": [
           {
            "type": "scatterpolar",
            "marker": {
             "colorbar": {
              "outlinewidth": 0,
              "ticks": ""
             }
            }
           }
          ],
          "histogram": [
           {
            "marker": {
             "pattern": {
              "fillmode": "overlay",
              "size": 10,
              "solidity": 0.2
             }
            },
            "type": "histogram"
           }
          ],
          "scattergl": [
           {
            "type": "scattergl",
            "marker": {
             "colorbar": {
              "outlinewidth": 0,
              "ticks": ""
             }
            }
           }
          ],
          "scatter3d": [
           {
            "type": "scatter3d",
            "line": {
             "colorbar": {
              "outlinewidth": 0,
              "ticks": ""
             }
            },
            "marker": {
             "colorbar": {
              "outlinewidth": 0,
              "ticks": ""
             }
            }
           }
          ],
          "scattermapbox": [
           {
            "type": "scattermapbox",
            "marker": {
             "colorbar": {
              "outlinewidth": 0,
              "ticks": ""
             }
            }
           }
          ],
          "scatterternary": [
           {
            "type": "scatterternary",
            "marker": {
             "colorbar": {
              "outlinewidth": 0,
              "ticks": ""
             }
            }
           }
          ],
          "scattercarpet": [
           {
            "type": "scattercarpet",
            "marker": {
             "colorbar": {
              "outlinewidth": 0,
              "ticks": ""
             }
            }
           }
          ],
          "carpet": [
           {
            "aaxis": {
             "endlinecolor": "#2a3f5f",
             "gridcolor": "white",
             "linecolor": "white",
             "minorgridcolor": "white",
             "startlinecolor": "#2a3f5f"
            },
            "baxis": {
             "endlinecolor": "#2a3f5f",
             "gridcolor": "white",
             "linecolor": "white",
             "minorgridcolor": "white",
             "startlinecolor": "#2a3f5f"
            },
            "type": "carpet"
           }
          ],
          "table": [
           {
            "cells": {
             "fill": {
              "color": "#EBF0F8"
             },
             "line": {
              "color": "white"
             }
            },
            "header": {
             "fill": {
              "color": "#C8D4E3"
             },
             "line": {
              "color": "white"
             }
            },
            "type": "table"
           }
          ],
          "barpolar": [
           {
            "marker": {
             "line": {
              "color": "#E5ECF6",
              "width": 0.5
             },
             "pattern": {
              "fillmode": "overlay",
              "size": 10,
              "solidity": 0.2
             }
            },
            "type": "barpolar"
           }
          ],
          "pie": [
           {
            "automargin": true,
            "type": "pie"
           }
          ]
         },
         "layout": {
          "autotypenumbers": "strict",
          "colorway": [
           "#636efa",
           "#EF553B",
           "#00cc96",
           "#ab63fa",
           "#FFA15A",
           "#19d3f3",
           "#FF6692",
           "#B6E880",
           "#FF97FF",
           "#FECB52"
          ],
          "font": {
           "color": "#2a3f5f"
          },
          "hovermode": "closest",
          "hoverlabel": {
           "align": "left"
          },
          "paper_bgcolor": "white",
          "plot_bgcolor": "#E5ECF6",
          "polar": {
           "bgcolor": "#E5ECF6",
           "angularaxis": {
            "gridcolor": "white",
            "linecolor": "white",
            "ticks": ""
           },
           "radialaxis": {
            "gridcolor": "white",
            "linecolor": "white",
            "ticks": ""
           }
          },
          "ternary": {
           "bgcolor": "#E5ECF6",
           "aaxis": {
            "gridcolor": "white",
            "linecolor": "white",
            "ticks": ""
           },
           "baxis": {
            "gridcolor": "white",
            "linecolor": "white",
            "ticks": ""
           },
           "caxis": {
            "gridcolor": "white",
            "linecolor": "white",
            "ticks": ""
           }
          },
          "coloraxis": {
           "colorbar": {
            "outlinewidth": 0,
            "ticks": ""
           }
          },
          "colorscale": {
           "sequential": [
            [
             0.0,
             "#0d0887"
            ],
            [
             0.1111111111111111,
             "#46039f"
            ],
            [
             0.2222222222222222,
             "#7201a8"
            ],
            [
             0.3333333333333333,
             "#9c179e"
            ],
            [
             0.4444444444444444,
             "#bd3786"
            ],
            [
             0.5555555555555556,
             "#d8576b"
            ],
            [
             0.6666666666666666,
             "#ed7953"
            ],
            [
             0.7777777777777778,
             "#fb9f3a"
            ],
            [
             0.8888888888888888,
             "#fdca26"
            ],
            [
             1.0,
             "#f0f921"
            ]
           ],
           "sequentialminus": [
            [
             0.0,
             "#0d0887"
            ],
            [
             0.1111111111111111,
             "#46039f"
            ],
            [
             0.2222222222222222,
             "#7201a8"
            ],
            [
             0.3333333333333333,
             "#9c179e"
            ],
            [
             0.4444444444444444,
             "#bd3786"
            ],
            [
             0.5555555555555556,
             "#d8576b"
            ],
            [
             0.6666666666666666,
             "#ed7953"
            ],
            [
             0.7777777777777778,
             "#fb9f3a"
            ],
            [
             0.8888888888888888,
             "#fdca26"
            ],
            [
             1.0,
             "#f0f921"
            ]
           ],
           "diverging": [
            [
             0,
             "#8e0152"
            ],
            [
             0.1,
             "#c51b7d"
            ],
            [
             0.2,
             "#de77ae"
            ],
            [
             0.3,
             "#f1b6da"
            ],
            [
             0.4,
             "#fde0ef"
            ],
            [
             0.5,
             "#f7f7f7"
            ],
            [
             0.6,
             "#e6f5d0"
            ],
            [
             0.7,
             "#b8e186"
            ],
            [
             0.8,
             "#7fbc41"
            ],
            [
             0.9,
             "#4d9221"
            ],
            [
             1,
             "#276419"
            ]
           ]
          },
          "xaxis": {
           "gridcolor": "white",
           "linecolor": "white",
           "ticks": "",
           "title": {
            "standoff": 15
           },
           "zerolinecolor": "white",
           "automargin": true,
           "zerolinewidth": 2
          },
          "yaxis": {
           "gridcolor": "white",
           "linecolor": "white",
           "ticks": "",
           "title": {
            "standoff": 15
           },
           "zerolinecolor": "white",
           "automargin": true,
           "zerolinewidth": 2
          },
          "scene": {
           "xaxis": {
            "backgroundcolor": "#E5ECF6",
            "gridcolor": "white",
            "linecolor": "white",
            "showbackground": true,
            "ticks": "",
            "zerolinecolor": "white",
            "gridwidth": 2
           },
           "yaxis": {
            "backgroundcolor": "#E5ECF6",
            "gridcolor": "white",
            "linecolor": "white",
            "showbackground": true,
            "ticks": "",
            "zerolinecolor": "white",
            "gridwidth": 2
           },
           "zaxis": {
            "backgroundcolor": "#E5ECF6",
            "gridcolor": "white",
            "linecolor": "white",
            "showbackground": true,
            "ticks": "",
            "zerolinecolor": "white",
            "gridwidth": 2
           }
          },
          "shapedefaults": {
           "line": {
            "color": "#2a3f5f"
           }
          },
          "annotationdefaults": {
           "arrowcolor": "#2a3f5f",
           "arrowhead": 0,
           "arrowwidth": 1
          },
          "geo": {
           "bgcolor": "white",
           "landcolor": "#E5ECF6",
           "subunitcolor": "white",
           "showland": true,
           "showlakes": true,
           "lakecolor": "white"
          },
          "title": {
           "x": 0.05
          },
          "mapbox": {
           "style": "light"
          }
         }
        },
        "xaxis": {
         "anchor": "y",
         "domain": [
          0.0,
          0.31999999999999995
         ],
         "title": {
          "text": "League Name"
         }
        },
        "yaxis": {
         "anchor": "x",
         "domain": [
          0.0,
          1.0
         ],
         "title": {
          "text": "Percentage"
         }
        },
        "xaxis2": {
         "anchor": "y2",
         "domain": [
          0.33999999999999997,
          0.6599999999999999
         ],
         "matches": "x",
         "title": {
          "text": "League Name"
         }
        },
        "yaxis2": {
         "anchor": "x2",
         "domain": [
          0.0,
          1.0
         ],
         "matches": "y",
         "showticklabels": false
        },
        "xaxis3": {
         "anchor": "y3",
         "domain": [
          0.6799999999999999,
          0.9999999999999999
         ],
         "matches": "x",
         "title": {
          "text": "League Name"
         }
        },
        "yaxis3": {
         "anchor": "x3",
         "domain": [
          0.0,
          1.0
         ],
         "matches": "y",
         "showticklabels": false
        },
        "legend": {
         "title": {
          "text": "result"
         },
         "tracegroupgap": 0
        },
        "title": {
         "text": "Percentage of Match Results by League",
         "y": 0.9,
         "x": 0.5,
         "xanchor": "center",
         "yanchor": "top"
        },
        "barmode": "relative",
        "autosize": false,
        "width": 1100,
        "height": 700
       },
       "config": {
        "plotlyServerURL": "https://plot.ly"
       }
      },
      "text/html": "<div>                            <div id=\"6ff1a0d1-6069-4bfe-90ba-c26d31f2fa84\" class=\"plotly-graph-div\" style=\"height:700px; width:1100px;\"></div>            <script type=\"text/javascript\">                require([\"plotly\"], function(Plotly) {                    window.PLOTLYENV=window.PLOTLYENV || {};                                    if (document.getElementById(\"6ff1a0d1-6069-4bfe-90ba-c26d31f2fa84\")) {                    Plotly.newPlot(                        \"6ff1a0d1-6069-4bfe-90ba-c26d31f2fa84\",                        [{\"alignmentgroup\":\"True\",\"customdata\":[[\"Win\"],[\"Win\"],[\"Win\"],[\"Win\"],[\"Win\"]],\"hovertemplate\":\"League Name=%{x}\\u003cbr\\u003ePercentage=%{y}\\u003cextra\\u003e\\u003c\\u002fextra\\u003e\",\"legendgroup\":\"Win\",\"marker\":{\"color\":\"#636efa\",\"pattern\":{\"shape\":\"\"}},\"name\":\"Win\",\"offsetgroup\":\"Win\",\"orientation\":\"v\",\"showlegend\":true,\"textposition\":\"auto\",\"x\":[\"England Premier League\",\"France Ligue 1\",\"Germany 1. Bundesliga\",\"Italy Serie A\",\"Spain LIGA BBVA\"],\"xaxis\":\"x\",\"y\":[46.0,45.0,45.0,47.0,49.0],\"yaxis\":\"y\",\"type\":\"bar\"},{\"alignmentgroup\":\"True\",\"customdata\":[[\"Draw\"],[\"Draw\"],[\"Draw\"],[\"Draw\"],[\"Draw\"]],\"hovertemplate\":\"League Name=%{x}\\u003cbr\\u003ePercentage=%{y}\\u003cextra\\u003e\\u003c\\u002fextra\\u003e\",\"legendgroup\":\"Draw\",\"marker\":{\"color\":\"#EF553B\",\"pattern\":{\"shape\":\"\"}},\"name\":\"Draw\",\"offsetgroup\":\"Draw\",\"orientation\":\"v\",\"showlegend\":true,\"textposition\":\"auto\",\"x\":[\"England Premier League\",\"France Ligue 1\",\"Germany 1. Bundesliga\",\"Italy Serie A\",\"Spain LIGA BBVA\"],\"xaxis\":\"x2\",\"y\":[26.0,28.000000000000004,24.0,26.0,23.0],\"yaxis\":\"y2\",\"type\":\"bar\"},{\"alignmentgroup\":\"True\",\"customdata\":[[\"Lose\"],[\"Lose\"],[\"Lose\"],[\"Lose\"],[\"Lose\"]],\"hovertemplate\":\"League Name=%{x}\\u003cbr\\u003ePercentage=%{y}\\u003cextra\\u003e\\u003c\\u002fextra\\u003e\",\"legendgroup\":\"Lose\",\"marker\":{\"color\":\"#00cc96\",\"pattern\":{\"shape\":\"\"}},\"name\":\"Lose\",\"offsetgroup\":\"Lose\",\"orientation\":\"v\",\"showlegend\":true,\"textposition\":\"auto\",\"x\":[\"England Premier League\",\"France Ligue 1\",\"Germany 1. Bundesliga\",\"Italy Serie A\",\"Spain LIGA BBVA\"],\"xaxis\":\"x3\",\"y\":[28.999999999999996,27.0,30.0,27.0,28.000000000000004],\"yaxis\":\"y3\",\"type\":\"bar\"}],                        {\"template\":{\"data\":{\"histogram2dcontour\":[{\"type\":\"histogram2dcontour\",\"colorbar\":{\"outlinewidth\":0,\"ticks\":\"\"},\"colorscale\":[[0.0,\"#0d0887\"],[0.1111111111111111,\"#46039f\"],[0.2222222222222222,\"#7201a8\"],[0.3333333333333333,\"#9c179e\"],[0.4444444444444444,\"#bd3786\"],[0.5555555555555556,\"#d8576b\"],[0.6666666666666666,\"#ed7953\"],[0.7777777777777778,\"#fb9f3a\"],[0.8888888888888888,\"#fdca26\"],[1.0,\"#f0f921\"]]}],\"choropleth\":[{\"type\":\"choropleth\",\"colorbar\":{\"outlinewidth\":0,\"ticks\":\"\"}}],\"histogram2d\":[{\"type\":\"histogram2d\",\"colorbar\":{\"outlinewidth\":0,\"ticks\":\"\"},\"colorscale\":[[0.0,\"#0d0887\"],[0.1111111111111111,\"#46039f\"],[0.2222222222222222,\"#7201a8\"],[0.3333333333333333,\"#9c179e\"],[0.4444444444444444,\"#bd3786\"],[0.5555555555555556,\"#d8576b\"],[0.6666666666666666,\"#ed7953\"],[0.7777777777777778,\"#fb9f3a\"],[0.8888888888888888,\"#fdca26\"],[1.0,\"#f0f921\"]]}],\"heatmap\":[{\"type\":\"heatmap\",\"colorbar\":{\"outlinewidth\":0,\"ticks\":\"\"},\"colorscale\":[[0.0,\"#0d0887\"],[0.1111111111111111,\"#46039f\"],[0.2222222222222222,\"#7201a8\"],[0.3333333333333333,\"#9c179e\"],[0.4444444444444444,\"#bd3786\"],[0.5555555555555556,\"#d8576b\"],[0.6666666666666666,\"#ed7953\"],[0.7777777777777778,\"#fb9f3a\"],[0.8888888888888888,\"#fdca26\"],[1.0,\"#f0f921\"]]}],\"heatmapgl\":[{\"type\":\"heatmapgl\",\"colorbar\":{\"outlinewidth\":0,\"ticks\":\"\"},\"colorscale\":[[0.0,\"#0d0887\"],[0.1111111111111111,\"#46039f\"],[0.2222222222222222,\"#7201a8\"],[0.3333333333333333,\"#9c179e\"],[0.4444444444444444,\"#bd3786\"],[0.5555555555555556,\"#d8576b\"],[0.6666666666666666,\"#ed7953\"],[0.7777777777777778,\"#fb9f3a\"],[0.8888888888888888,\"#fdca26\"],[1.0,\"#f0f921\"]]}],\"contourcarpet\":[{\"type\":\"contourcarpet\",\"colorbar\":{\"outlinewidth\":0,\"ticks\":\"\"}}],\"contour\":[{\"type\":\"contour\",\"colorbar\":{\"outlinewidth\":0,\"ticks\":\"\"},\"colorscale\":[[0.0,\"#0d0887\"],[0.1111111111111111,\"#46039f\"],[0.2222222222222222,\"#7201a8\"],[0.3333333333333333,\"#9c179e\"],[0.4444444444444444,\"#bd3786\"],[0.5555555555555556,\"#d8576b\"],[0.6666666666666666,\"#ed7953\"],[0.7777777777777778,\"#fb9f3a\"],[0.8888888888888888,\"#fdca26\"],[1.0,\"#f0f921\"]]}],\"surface\":[{\"type\":\"surface\",\"colorbar\":{\"outlinewidth\":0,\"ticks\":\"\"},\"colorscale\":[[0.0,\"#0d0887\"],[0.1111111111111111,\"#46039f\"],[0.2222222222222222,\"#7201a8\"],[0.3333333333333333,\"#9c179e\"],[0.4444444444444444,\"#bd3786\"],[0.5555555555555556,\"#d8576b\"],[0.6666666666666666,\"#ed7953\"],[0.7777777777777778,\"#fb9f3a\"],[0.8888888888888888,\"#fdca26\"],[1.0,\"#f0f921\"]]}],\"mesh3d\":[{\"type\":\"mesh3d\",\"colorbar\":{\"outlinewidth\":0,\"ticks\":\"\"}}],\"scatter\":[{\"fillpattern\":{\"fillmode\":\"overlay\",\"size\":10,\"solidity\":0.2},\"type\":\"scatter\"}],\"parcoords\":[{\"type\":\"parcoords\",\"line\":{\"colorbar\":{\"outlinewidth\":0,\"ticks\":\"\"}}}],\"scatterpolargl\":[{\"type\":\"scatterpolargl\",\"marker\":{\"colorbar\":{\"outlinewidth\":0,\"ticks\":\"\"}}}],\"bar\":[{\"error_x\":{\"color\":\"#2a3f5f\"},\"error_y\":{\"color\":\"#2a3f5f\"},\"marker\":{\"line\":{\"color\":\"#E5ECF6\",\"width\":0.5},\"pattern\":{\"fillmode\":\"overlay\",\"size\":10,\"solidity\":0.2}},\"type\":\"bar\"}],\"scattergeo\":[{\"type\":\"scattergeo\",\"marker\":{\"colorbar\":{\"outlinewidth\":0,\"ticks\":\"\"}}}],\"scatterpolar\":[{\"type\":\"scatterpolar\",\"marker\":{\"colorbar\":{\"outlinewidth\":0,\"ticks\":\"\"}}}],\"histogram\":[{\"marker\":{\"pattern\":{\"fillmode\":\"overlay\",\"size\":10,\"solidity\":0.2}},\"type\":\"histogram\"}],\"scattergl\":[{\"type\":\"scattergl\",\"marker\":{\"colorbar\":{\"outlinewidth\":0,\"ticks\":\"\"}}}],\"scatter3d\":[{\"type\":\"scatter3d\",\"line\":{\"colorbar\":{\"outlinewidth\":0,\"ticks\":\"\"}},\"marker\":{\"colorbar\":{\"outlinewidth\":0,\"ticks\":\"\"}}}],\"scattermapbox\":[{\"type\":\"scattermapbox\",\"marker\":{\"colorbar\":{\"outlinewidth\":0,\"ticks\":\"\"}}}],\"scatterternary\":[{\"type\":\"scatterternary\",\"marker\":{\"colorbar\":{\"outlinewidth\":0,\"ticks\":\"\"}}}],\"scattercarpet\":[{\"type\":\"scattercarpet\",\"marker\":{\"colorbar\":{\"outlinewidth\":0,\"ticks\":\"\"}}}],\"carpet\":[{\"aaxis\":{\"endlinecolor\":\"#2a3f5f\",\"gridcolor\":\"white\",\"linecolor\":\"white\",\"minorgridcolor\":\"white\",\"startlinecolor\":\"#2a3f5f\"},\"baxis\":{\"endlinecolor\":\"#2a3f5f\",\"gridcolor\":\"white\",\"linecolor\":\"white\",\"minorgridcolor\":\"white\",\"startlinecolor\":\"#2a3f5f\"},\"type\":\"carpet\"}],\"table\":[{\"cells\":{\"fill\":{\"color\":\"#EBF0F8\"},\"line\":{\"color\":\"white\"}},\"header\":{\"fill\":{\"color\":\"#C8D4E3\"},\"line\":{\"color\":\"white\"}},\"type\":\"table\"}],\"barpolar\":[{\"marker\":{\"line\":{\"color\":\"#E5ECF6\",\"width\":0.5},\"pattern\":{\"fillmode\":\"overlay\",\"size\":10,\"solidity\":0.2}},\"type\":\"barpolar\"}],\"pie\":[{\"automargin\":true,\"type\":\"pie\"}]},\"layout\":{\"autotypenumbers\":\"strict\",\"colorway\":[\"#636efa\",\"#EF553B\",\"#00cc96\",\"#ab63fa\",\"#FFA15A\",\"#19d3f3\",\"#FF6692\",\"#B6E880\",\"#FF97FF\",\"#FECB52\"],\"font\":{\"color\":\"#2a3f5f\"},\"hovermode\":\"closest\",\"hoverlabel\":{\"align\":\"left\"},\"paper_bgcolor\":\"white\",\"plot_bgcolor\":\"#E5ECF6\",\"polar\":{\"bgcolor\":\"#E5ECF6\",\"angularaxis\":{\"gridcolor\":\"white\",\"linecolor\":\"white\",\"ticks\":\"\"},\"radialaxis\":{\"gridcolor\":\"white\",\"linecolor\":\"white\",\"ticks\":\"\"}},\"ternary\":{\"bgcolor\":\"#E5ECF6\",\"aaxis\":{\"gridcolor\":\"white\",\"linecolor\":\"white\",\"ticks\":\"\"},\"baxis\":{\"gridcolor\":\"white\",\"linecolor\":\"white\",\"ticks\":\"\"},\"caxis\":{\"gridcolor\":\"white\",\"linecolor\":\"white\",\"ticks\":\"\"}},\"coloraxis\":{\"colorbar\":{\"outlinewidth\":0,\"ticks\":\"\"}},\"colorscale\":{\"sequential\":[[0.0,\"#0d0887\"],[0.1111111111111111,\"#46039f\"],[0.2222222222222222,\"#7201a8\"],[0.3333333333333333,\"#9c179e\"],[0.4444444444444444,\"#bd3786\"],[0.5555555555555556,\"#d8576b\"],[0.6666666666666666,\"#ed7953\"],[0.7777777777777778,\"#fb9f3a\"],[0.8888888888888888,\"#fdca26\"],[1.0,\"#f0f921\"]],\"sequentialminus\":[[0.0,\"#0d0887\"],[0.1111111111111111,\"#46039f\"],[0.2222222222222222,\"#7201a8\"],[0.3333333333333333,\"#9c179e\"],[0.4444444444444444,\"#bd3786\"],[0.5555555555555556,\"#d8576b\"],[0.6666666666666666,\"#ed7953\"],[0.7777777777777778,\"#fb9f3a\"],[0.8888888888888888,\"#fdca26\"],[1.0,\"#f0f921\"]],\"diverging\":[[0,\"#8e0152\"],[0.1,\"#c51b7d\"],[0.2,\"#de77ae\"],[0.3,\"#f1b6da\"],[0.4,\"#fde0ef\"],[0.5,\"#f7f7f7\"],[0.6,\"#e6f5d0\"],[0.7,\"#b8e186\"],[0.8,\"#7fbc41\"],[0.9,\"#4d9221\"],[1,\"#276419\"]]},\"xaxis\":{\"gridcolor\":\"white\",\"linecolor\":\"white\",\"ticks\":\"\",\"title\":{\"standoff\":15},\"zerolinecolor\":\"white\",\"automargin\":true,\"zerolinewidth\":2},\"yaxis\":{\"gridcolor\":\"white\",\"linecolor\":\"white\",\"ticks\":\"\",\"title\":{\"standoff\":15},\"zerolinecolor\":\"white\",\"automargin\":true,\"zerolinewidth\":2},\"scene\":{\"xaxis\":{\"backgroundcolor\":\"#E5ECF6\",\"gridcolor\":\"white\",\"linecolor\":\"white\",\"showbackground\":true,\"ticks\":\"\",\"zerolinecolor\":\"white\",\"gridwidth\":2},\"yaxis\":{\"backgroundcolor\":\"#E5ECF6\",\"gridcolor\":\"white\",\"linecolor\":\"white\",\"showbackground\":true,\"ticks\":\"\",\"zerolinecolor\":\"white\",\"gridwidth\":2},\"zaxis\":{\"backgroundcolor\":\"#E5ECF6\",\"gridcolor\":\"white\",\"linecolor\":\"white\",\"showbackground\":true,\"ticks\":\"\",\"zerolinecolor\":\"white\",\"gridwidth\":2}},\"shapedefaults\":{\"line\":{\"color\":\"#2a3f5f\"}},\"annotationdefaults\":{\"arrowcolor\":\"#2a3f5f\",\"arrowhead\":0,\"arrowwidth\":1},\"geo\":{\"bgcolor\":\"white\",\"landcolor\":\"#E5ECF6\",\"subunitcolor\":\"white\",\"showland\":true,\"showlakes\":true,\"lakecolor\":\"white\"},\"title\":{\"x\":0.05},\"mapbox\":{\"style\":\"light\"}}},\"xaxis\":{\"anchor\":\"y\",\"domain\":[0.0,0.31999999999999995],\"title\":{\"text\":\"League Name\"}},\"yaxis\":{\"anchor\":\"x\",\"domain\":[0.0,1.0],\"title\":{\"text\":\"Percentage\"}},\"xaxis2\":{\"anchor\":\"y2\",\"domain\":[0.33999999999999997,0.6599999999999999],\"matches\":\"x\",\"title\":{\"text\":\"League Name\"}},\"yaxis2\":{\"anchor\":\"x2\",\"domain\":[0.0,1.0],\"matches\":\"y\",\"showticklabels\":false},\"xaxis3\":{\"anchor\":\"y3\",\"domain\":[0.6799999999999999,0.9999999999999999],\"matches\":\"x\",\"title\":{\"text\":\"League Name\"}},\"yaxis3\":{\"anchor\":\"x3\",\"domain\":[0.0,1.0],\"matches\":\"y\",\"showticklabels\":false},\"legend\":{\"title\":{\"text\":\"result\"},\"tracegroupgap\":0},\"title\":{\"text\":\"Percentage of Match Results by League\",\"y\":0.9,\"x\":0.5,\"xanchor\":\"center\",\"yanchor\":\"top\"},\"barmode\":\"relative\",\"autosize\":false,\"width\":1100,\"height\":700},                        {\"responsive\": true}                    ).then(function(){\n                            \nvar gd = document.getElementById('6ff1a0d1-6069-4bfe-90ba-c26d31f2fa84');\nvar x = new MutationObserver(function (mutations, observer) {{\n        var display = window.getComputedStyle(gd).display;\n        if (!display || display === 'none') {{\n            console.log([gd, 'removed!']);\n            Plotly.purge(gd);\n            observer.disconnect();\n        }}\n}});\n\n// Listen for the removal of the full notebook cells\nvar notebookContainer = gd.closest('#notebook-container');\nif (notebookContainer) {{\n    x.observe(notebookContainer, {childList: true});\n}}\n\n// Listen for the clearing of the current output cell\nvar outputEl = gd.closest('.output');\nif (outputEl) {{\n    x.observe(outputEl, {childList: true});\n}}\n\n                        })                };                });            </script>        </div>"
     },
     "metadata": {},
     "output_type": "display_data"
    }
   ],
   "source": [
    "result_counts = matches.groupby(['league_name', 'result']).size()\n",
    "\n",
    "total_counts = matches.groupby('league_name').size()\n",
    "\n",
    "result_percentages = (result_counts / total_counts).round(2)\n",
    "\n",
    "result_percentages = result_percentages.reset_index(name='percentage')\n",
    "\n",
    "result_percentages['percentage'] = result_percentages['percentage'] * 100\n",
    "result_percentages_long = result_percentages.melt(id_vars=['league_name', 'result'], value_vars='percentage')\n",
    "\n",
    "fig = px.bar(result_percentages_long, x='league_name', y='value', color='result',\n",
    "             labels={'value': 'Percentage', 'league_name': 'League Name'},\n",
    "             facet_col='result', category_orders={'result': ['Win', 'Draw', 'Lose']},\n",
    "             title='Percentage of Match Results by League',\n",
    "             hover_data={'result': False})\n",
    "\n",
    "fig.update_layout(autosize=False, width=1100, height=700,\n",
    "                  title={'text': \"Percentage of Match Results by League\",\n",
    "                         'y': 0.9, 'x': 0.5, 'xanchor': 'center', 'yanchor': 'top'})\n",
    "\n",
    "fig.layout.annotations = []\n",
    "\n",
    "fig.show()"
   ]
  },
  {
   "cell_type": "markdown",
   "id": "28b0b4ff096ddbf0",
   "metadata": {
    "collapsed": false
   },
   "source": [
    "The variations in home game results across different leagues are slight. The Spanish league leads with the highest winning percentage. The French league records the highest percentage of draws, while the German league has the highest loss percentage."
   ]
  },
  {
   "cell_type": "markdown",
   "id": "f944d9f5d35ec074",
   "metadata": {
    "collapsed": false
   },
   "source": [
    "### Summary"
   ]
  },
  {
   "cell_type": "markdown",
   "id": "970d09aea42bdf65",
   "metadata": {
    "collapsed": false
   },
   "source": [
    "During the Exploratory Data Analysis (EDA) of the `matches` dataset, we discovered:\n",
    "\n",
    "- The leagues with the highest player ratings are the English Premier League, Spain LIGA BBVA, Germany 1. Bundesliga, Italy Serie A, and France Ligue 1. We have decided to concentrate on these leagues for our Exploratory Data Analysis (EDA) and subsequent modeling.\n",
    "- The number of games played each season is consistent across the different leagues.\n",
    "- Player ratings are normally distributed with a median of around 68.\n",
    "- Player ratings are consistent across leagues, suggesting a uniform player caliber.\n",
    "- Outliers exist in player ratings, but outliers are in underperforming players\n",
    "- The England Premier League stands out as it has the highest median team rating and no outliers, indicating high competitiveness. This suggests that the England Premier League is highly competitive with a high standard of teams.\n",
    "- Outlier teams in other leagues were identified based on player ratings' Interquartile Range (IQR).\n",
    "- A new column was added to the `matches` DataFrame to indicate outlier teams.\n",
    "- The German Bundesliga has the highest average goals per match, while France's Ligue 1 has the lowest.\n",
    "- The variations in home game results across different leagues are slight. The Spanish league leads with the highest winning percentage. The French league records the highest percentage of draws, while the German league has the highest loss percentage."
   ]
  },
  {
   "cell_type": "markdown",
   "id": "7d141ccff8236782",
   "metadata": {
    "collapsed": false
   },
   "source": [
    "# Hypothesis Testing"
   ]
  },
  {
   "cell_type": "markdown",
   "id": "b5fa5c8f8221c2d7",
   "metadata": {
    "collapsed": false
   },
   "source": [
    "## Home team advantage"
   ]
  },
  {
   "cell_type": "markdown",
   "id": "85c017dbce401519",
   "metadata": {
    "collapsed": false
   },
   "source": [
    "- Null Hypothesis (H0): There is no significant difference between the number of matches won by the home team and the number of matches won by the away team. \n",
    "- Alternative Hypothesis (H1): There is a significant difference between the number of matches won by the home team and the number of matches won by the away team. "
   ]
  },
  {
   "cell_type": "markdown",
   "id": "519797fbdf4afabd",
   "metadata": {
    "collapsed": false
   },
   "source": [
    "Now, we are about to perform the Chi-Square test. This test is a statistical method used to determine if a significant association exists between two categorical variables in a sample. The results of this test will provide us with the following values:\n",
    "\n",
    "- **Degrees of Freedom**: This value reflects the number of values in the final calculation of a statistic that are free to vary. In the context of a Chi-Square test, it is calculated as (number of rows - 1) * (number of columns - 1) in a contingency table.\n",
    "\n",
    "- **Critical Value**: This point on the test distribution is compared to the test statistic to determine whether to reject the null hypothesis. If the Chi-Square statistic is greater than the critical value, the null hypothesis would be rejected.\n",
    "\n",
    "- **Chi-Square Statistic**: This is a single number that tells us how much difference exists between our observed counts and the counts we would expect if there were no relationship at all in the population. A more significant Chi-Square statistic corresponds to a tremendous difference between observed and expected counts.\n",
    "\n",
    "- **P-value**: This is the probability of obtaining the observed data (or data more extreme) if the null hypothesis is true. It's a powerful tool in our statistical arsenal, as a smaller p-value indicates stronger evidence against the null hypothesis. If the p-value is less than 0.05, we reject the null hypothesis.\n",
    "\n",
    "These results will help us understand the relationship between the variables we are testing and determine whether the observed differences are statistically significant."
   ]
  },
  {
   "cell_type": "code",
   "execution_count": 170,
   "id": "e26ab737a462dbef",
   "metadata": {
    "collapsed": false,
    "ExecuteTime": {
     "end_time": "2024-03-28T11:32:29.656031Z",
     "start_time": "2024-03-28T11:32:29.627041Z"
    }
   },
   "outputs": [
    {
     "data": {
      "text/plain": "result                Draw  Lose  Win\nhome_team                            \n1. FC Kaiserslautern    11    15    8\n1. FC Köln              31    39   32\n1. FC Nürnberg          21    34   30\n1. FSV Mainz 05         29    35   55\nAC Ajaccio              19    22   16",
      "text/html": "<div>\n<style scoped>\n    .dataframe tbody tr th:only-of-type {\n        vertical-align: middle;\n    }\n\n    .dataframe tbody tr th {\n        vertical-align: top;\n    }\n\n    .dataframe thead th {\n        text-align: right;\n    }\n</style>\n<table border=\"1\" class=\"dataframe\">\n  <thead>\n    <tr style=\"text-align: right;\">\n      <th>result</th>\n      <th>Draw</th>\n      <th>Lose</th>\n      <th>Win</th>\n    </tr>\n    <tr>\n      <th>home_team</th>\n      <th></th>\n      <th></th>\n      <th></th>\n    </tr>\n  </thead>\n  <tbody>\n    <tr>\n      <th>1. FC Kaiserslautern</th>\n      <td>11</td>\n      <td>15</td>\n      <td>8</td>\n    </tr>\n    <tr>\n      <th>1. FC Köln</th>\n      <td>31</td>\n      <td>39</td>\n      <td>32</td>\n    </tr>\n    <tr>\n      <th>1. FC Nürnberg</th>\n      <td>21</td>\n      <td>34</td>\n      <td>30</td>\n    </tr>\n    <tr>\n      <th>1. FSV Mainz 05</th>\n      <td>29</td>\n      <td>35</td>\n      <td>55</td>\n    </tr>\n    <tr>\n      <th>AC Ajaccio</th>\n      <td>19</td>\n      <td>22</td>\n      <td>16</td>\n    </tr>\n  </tbody>\n</table>\n</div>"
     },
     "execution_count": 170,
     "metadata": {},
     "output_type": "execute_result"
    }
   ],
   "source": [
    "contingency_table = pd.crosstab(matches['home_team'], matches['result'])\n",
    "contingency_table.head()"
   ]
  },
  {
   "cell_type": "code",
   "execution_count": 171,
   "id": "9d48d8e8b525fe7a",
   "metadata": {
    "collapsed": false,
    "ExecuteTime": {
     "end_time": "2024-03-28T11:32:29.664054Z",
     "start_time": "2024-03-28T11:32:29.658030Z"
    }
   },
   "outputs": [
    {
     "name": "stdout",
     "output_type": "stream",
     "text": [
      "Degrees of Freedom: 326\n",
      "Critical Value: 369.106\n",
      "Chi-Square Statistic: 1463.29\n",
      "P-value: 0.0\n"
     ]
    }
   ],
   "source": [
    "chi2_stat, p_value, dof, expected = chi2_contingency(contingency_table)\n",
    "\n",
    "alpha = 0.05\n",
    "\n",
    "critical_value = chi2.ppf(1 - alpha, dof)\n",
    "\n",
    "print(f\"Degrees of Freedom: {dof}\")\n",
    "print(f\"Critical Value: {round(critical_value, 3)}\")\n",
    "print(f\"Chi-Square Statistic: {round(chi2_stat, 3)}\")\n",
    "print(f\"P-value: {round(p_value, 3)}\")"
   ]
  },
  {
   "cell_type": "markdown",
   "id": "28547dfaebaf33ee",
   "metadata": {
    "collapsed": false
   },
   "source": [
    "The p-value is less than 0.05, so we reject the null hypothesis and conclude that there is a significant difference between the number of matches won by the home team and the number of matches won by the away team. This suggests a home team advantage."
   ]
  },
  {
   "cell_type": "markdown",
   "id": "9e4ab7dcf7baf805",
   "metadata": {
    "collapsed": false
   },
   "source": [
    "## Player ratings and match outcomes"
   ]
  },
  {
   "cell_type": "markdown",
   "id": "39128cb33d9a90cf",
   "metadata": {
    "collapsed": false
   },
   "source": [
    "- Null Hypothesis (H0): The average player ratings do not significantly affect the match outcome.\n",
    "- Alternative Hypothesis (H1): The average player ratings significantly affect the match outcome.\n"
   ]
  },
  {
   "cell_type": "markdown",
   "id": "3ea45b0ddd534d0b",
   "metadata": {
    "collapsed": false
   },
   "source": [
    "We will also apply the Chi-Square test for this hypothesis. The Chi-Square test will help us determine if there is a significant association between the average player ratings and the match outcomes. "
   ]
  },
  {
   "cell_type": "code",
   "execution_count": 172,
   "id": "11e6974e95ad8c6a",
   "metadata": {
    "collapsed": false,
    "ExecuteTime": {
     "end_time": "2024-03-28T11:32:29.698009Z",
     "start_time": "2024-03-28T11:32:29.666054Z"
    }
   },
   "outputs": [
    {
     "data": {
      "text/plain": "result                     Draw  Lose   Win\nhome_team_rating_category                  \nLow                         261   329   324\nMedium                     2553  2918  4066\nHigh                        925   851  2358",
      "text/html": "<div>\n<style scoped>\n    .dataframe tbody tr th:only-of-type {\n        vertical-align: middle;\n    }\n\n    .dataframe tbody tr th {\n        vertical-align: top;\n    }\n\n    .dataframe thead th {\n        text-align: right;\n    }\n</style>\n<table border=\"1\" class=\"dataframe\">\n  <thead>\n    <tr style=\"text-align: right;\">\n      <th>result</th>\n      <th>Draw</th>\n      <th>Lose</th>\n      <th>Win</th>\n    </tr>\n    <tr>\n      <th>home_team_rating_category</th>\n      <th></th>\n      <th></th>\n      <th></th>\n    </tr>\n  </thead>\n  <tbody>\n    <tr>\n      <th>Low</th>\n      <td>261</td>\n      <td>329</td>\n      <td>324</td>\n    </tr>\n    <tr>\n      <th>Medium</th>\n      <td>2553</td>\n      <td>2918</td>\n      <td>4066</td>\n    </tr>\n    <tr>\n      <th>High</th>\n      <td>925</td>\n      <td>851</td>\n      <td>2358</td>\n    </tr>\n  </tbody>\n</table>\n</div>"
     },
     "execution_count": 172,
     "metadata": {},
     "output_type": "execute_result"
    }
   ],
   "source": [
    "matches['average_home_player_rating'] = matches[home_columns].mean(axis=1)\n",
    "matches['average_away_player_rating'] = matches[away_columns].mean(axis=1)\n",
    "\n",
    "bins = [0, 60, 70, 100]\n",
    "labels = ['Low', 'Medium', 'High']\n",
    "matches['home_team_rating_category'] = pd.cut(matches['average_home_player_rating'], bins=bins, labels=labels)\n",
    "matches['away_team_rating_category'] = pd.cut(matches['average_away_player_rating'], bins=bins, labels=labels)\n",
    "\n",
    "contingency_table_players = pd.crosstab(matches['home_team_rating_category'], matches['result'])\n",
    "contingency_table_players"
   ]
  },
  {
   "cell_type": "markdown",
   "id": "12c8a987d5688ad0",
   "metadata": {
    "collapsed": false
   },
   "source": []
  },
  {
   "cell_type": "code",
   "execution_count": 173,
   "id": "caf36917366cab17",
   "metadata": {
    "collapsed": false,
    "ExecuteTime": {
     "end_time": "2024-03-28T11:32:29.706546Z",
     "start_time": "2024-03-28T11:32:29.699012Z"
    }
   },
   "outputs": [
    {
     "name": "stdout",
     "output_type": "stream",
     "text": [
      "Degrees of Freedom: 4\n",
      "Critical Value: 9.488\n",
      "Chi-Square Statistic: 303.495\n",
      "P-value: 0.0\n"
     ]
    }
   ],
   "source": [
    "chi2_stat, p_value, dof, expected = chi2_contingency(contingency_table_players)\n",
    "\n",
    "alpha = 0.05\n",
    "\n",
    "critical_value = chi2.ppf(1 - alpha, dof)\n",
    "\n",
    "print(f\"Degrees of Freedom: {dof}\")\n",
    "print(f\"Critical Value: {round(critical_value, 3)}\")\n",
    "print(f\"Chi-Square Statistic: {round(chi2_stat, 3)}\")\n",
    "print(f\"P-value: {round(p_value, 3)}\")"
   ]
  },
  {
   "cell_type": "markdown",
   "id": "28d541a33fe44a7f",
   "metadata": {
    "collapsed": false
   },
   "source": [
    "The p-value is less than 0.05, so we reject the null hypothesis and conclude that the average player ratings significantly affect the match outcome."
   ]
  },
  {
   "cell_type": "markdown",
   "id": "702683dbf0a82335",
   "metadata": {
    "collapsed": false
   },
   "source": [
    "### Hypothesis summary"
   ]
  },
  {
   "cell_type": "markdown",
   "id": "d7a281c55343b36d",
   "metadata": {
    "collapsed": false
   },
   "source": [
    "The `EDA_Hypothesis` notebook conducts hypothesis testing for two key hypotheses related to a football match prediction project:\n",
    "\n",
    "1. Home Team Advantage: The null hypothesis stated that there is no significant difference between the number of matches won by the home team and the number of matches won by the away team. The Chi-Square Test was used to test this hypothesis. The p-value was less than 0.05, leading to the rejection of the null hypothesis. This suggests a significant difference, indicating a home team advantage.\n",
    "\n",
    "2. Player Ratings and Match Outcomes: The null hypothesis stated that the average player ratings do not significantly affect the match outcome. The Chi-Square Test was again used to test this hypothesis. The p-value was less than 0.05, leading to the rejection of the null hypothesis. This suggests that the average player ratings significantly affect the match outcome.\n",
    "\n",
    "In conclusion, the statistical tests supported both hypotheses, indicating a home team advantage and a significant impact of player ratings on match outcomes."
   ]
  },
  {
   "cell_type": "markdown",
   "id": "12996cfdd72aa006",
   "metadata": {
    "collapsed": false
   },
   "source": [
    "# Saving the dataset"
   ]
  },
  {
   "cell_type": "code",
   "execution_count": 174,
   "id": "fc726773661a5b65",
   "metadata": {
    "collapsed": false,
    "ExecuteTime": {
     "end_time": "2024-03-28T11:32:31.012142Z",
     "start_time": "2024-03-28T11:32:29.707547Z"
    }
   },
   "outputs": [],
   "source": [
    "matches.to_csv('matches_top_5.csv', index=False)"
   ]
  },
  {
   "cell_type": "code",
   "outputs": [],
   "source": [],
   "metadata": {
    "collapsed": false,
    "ExecuteTime": {
     "end_time": "2024-03-28T11:32:31.016129Z",
     "start_time": "2024-03-28T11:32:31.013137Z"
    }
   },
   "id": "257f53b6aafed6bd",
   "execution_count": 174
  }
 ],
 "metadata": {
  "kernelspec": {
   "display_name": "Python 3",
   "language": "python",
   "name": "python3"
  },
  "language_info": {
   "codemirror_mode": {
    "name": "ipython",
    "version": 2
   },
   "file_extension": ".py",
   "mimetype": "text/x-python",
   "name": "python",
   "nbconvert_exporter": "python",
   "pygments_lexer": "ipython2",
   "version": "2.7.6"
  }
 },
 "nbformat": 4,
 "nbformat_minor": 5
}

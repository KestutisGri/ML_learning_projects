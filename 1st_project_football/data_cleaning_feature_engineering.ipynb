{
 "cells": [
  {
   "cell_type": "markdown",
   "source": [
    "# Football dataset"
   ],
   "metadata": {
    "collapsed": false
   },
   "id": "c9f50d18a79fc4a3"
  },
  {
   "cell_type": "markdown",
   "source": [
    "## Importing the libraries"
   ],
   "metadata": {
    "collapsed": false
   },
   "id": "79361db706bb1419"
  },
  {
   "cell_type": "code",
   "outputs": [],
   "source": [
    "import sqlite3\n",
    "\n",
    "import numpy as np\n",
    "import pandas as pd"
   ],
   "metadata": {
    "collapsed": false,
    "ExecuteTime": {
     "end_time": "2024-03-28T13:32:07.212823Z",
     "start_time": "2024-03-28T13:32:07.208806Z"
    }
   },
   "id": "51e972ce2ec0138d",
   "execution_count": 49
  },
  {
   "cell_type": "code",
   "outputs": [],
   "source": [
    "conn = sqlite3.connect('football.sqlite')\n",
    "cursor = conn.cursor()"
   ],
   "metadata": {
    "collapsed": false,
    "ExecuteTime": {
     "end_time": "2024-03-28T13:32:07.914315Z",
     "start_time": "2024-03-28T13:32:07.909268Z"
    }
   },
   "id": "3382a9b4739ac13c",
   "execution_count": 50
  },
  {
   "cell_type": "markdown",
   "source": [
    "# Introduction"
   ],
   "metadata": {
    "collapsed": false
   },
   "id": "453fd5aae3be835e"
  },
  {
   "cell_type": "markdown",
   "source": [
    "The primary objective of this project is to develop a predictive model that can outperform bookmakers' odds in predicting the outcome of a football match, specifically the home team's victory. This task is complex, involving the prediction of a binary outcome influenced by numerous factors. However, we are well-equipped to tackle this challenge with the comprehensive dataset from Kaggle, which includes data from 11 different leagues across 11 countries, 299 unique teams, 11,060 unique players, and 25,979 matches from 2008 to 2016. The ultimate goal is to develop a superior predictive model and commercialize our predictions, opening up a potentially lucrative business opportunity that could significantly outperform traditional betting strategies.\n",
    "\n",
    "A secondary objective of this project is to construct a model that can accurately predict whether a football match will end with 'Under' or 'Over' 2.5 goals. This is a binary classification problem, and we aim to optimize the model for accuracy in predicting 'Under' outcomes.\n",
    "\n",
    "To achieve these objectives, the project is carefully divided into several phases. The first phase, as outlined in the `data_cleaning` file, involves preparing the data for analysis. This includes importing necessary libraries, establishing a connection to the database, and extracting essential data from various tables. The data is then thoroughly cleaned by addressing null values, duplicates, and data types, ensuring the highest data quality for our analysis.\n",
    "\n",
    "Following data cleaning, the project proceeds to the feature engineering phase. Here, we generate several new features expected to enhance the predictive power of our models. These features include the average rating of team players, the difference in home and away team ratings, the average player age, and the difference in home and away team ages. We also calculate the form of the home and away teams in the last five matches of the season, the team formations, and the rolling average of goals scored and conceded.\n",
    "\n",
    "After completing feature engineering, we transition to the `eda_hypothesis` file, where we conduct exploratory data analysis and formulate hypotheses. This step is critical as it enables us to understand the data and identify potential features for our predictive models.\n",
    "\n",
    "The core of our project is encapsulated in the `home_team_win_model` file, where we construct and evaluate various machine learning models. These models are trained on the cleaned and enriched data and evaluated using appropriate metrics. The model with the best performance is selected for further optimization. Additionally, we test our model's predictions against the bookmakers' odds for the 2015/2016 season. This allows us to evaluate the profitability of our model.\n",
    "\n",
    "In the `goals_models` file, we concentrate on the specific predictive task of predicting whether a football match will end with 'Under' or 'Over' goals. We employ several machine learning algorithms to train our model. The model's performance is evaluated, and the best model is selected for further optimization. As we lack betting companies' odds for comparison, we evaluate our model using other metrics like ROC AUC score, ROC curve, and confusion matrix.\n",
    "\n",
    "In conclusion, this project is a comprehensive and in-depth investigation into football match prediction. It presents a challenging yet rewarding endeavor, and we anticipate uncovering valuable insights and outperforming the odds. We delve into various aspects of the game, from team formations to player ratings, to construct a robust predictive model."
   ],
   "metadata": {
    "collapsed": false
   },
   "id": "e71589a5cc3413a"
  },
  {
   "cell_type": "markdown",
   "source": [
    "# Information about the dataset"
   ],
   "metadata": {
    "collapsed": false
   },
   "id": "638852489f7a1b12"
  },
  {
   "cell_type": "markdown",
   "source": [
    "## Countries and leagues"
   ],
   "metadata": {
    "collapsed": false
   },
   "id": "963f263d9e2afb41"
  },
  {
   "cell_type": "code",
   "outputs": [
    {
     "name": "stdout",
     "output_type": "stream",
     "text": [
      "Belgium Jupiler League\n",
      "England Premier League\n",
      "France Ligue 1\n",
      "Germany 1. Bundesliga\n",
      "Italy Serie A\n",
      "Netherlands Eredivisie\n",
      "Poland Ekstraklasa\n",
      "Portugal Liga ZON Sagres\n",
      "Scotland Premier League\n",
      "Spain LIGA BBVA\n",
      "Switzerland Super League\n",
      "Count: 11\n"
     ]
    }
   ],
   "source": [
    "query = \"SELECT * FROM league\"\n",
    "cursor.execute(query)\n",
    "\n",
    "rows = cursor.fetchall()\n",
    "\n",
    "for row in rows:\n",
    "    print(row[2])\n",
    "\n",
    "print(f\"Count: {len(rows)}\")"
   ],
   "metadata": {
    "collapsed": false,
    "ExecuteTime": {
     "end_time": "2024-03-28T13:32:07.951528Z",
     "start_time": "2024-03-28T13:32:07.946234Z"
    }
   },
   "id": "52b79fbde9f88803",
   "execution_count": 51
  },
  {
   "cell_type": "markdown",
   "source": [
    "In this database, there are 11 leagues from 11 different countries."
   ],
   "metadata": {
    "collapsed": false
   },
   "id": "3257bdad41bdae77"
  },
  {
   "cell_type": "markdown",
   "source": [
    "## Time period"
   ],
   "metadata": {
    "collapsed": false
   },
   "id": "659280a054bf83dd"
  },
  {
   "cell_type": "code",
   "outputs": [
    {
     "name": "stdout",
     "output_type": "stream",
     "text": [
      "Min date: 2008-07-18 00:00:00, Max date: 2016-05-25 00:00:00\n"
     ]
    }
   ],
   "source": [
    "query = \"SELECT MIN(date), MAX(date) FROM match\"\n",
    "cursor.execute(query)\n",
    "\n",
    "rows = cursor.fetchall()\n",
    "\n",
    "for row in rows:\n",
    "    print(f\"Min date: {row[0]}, Max date: {row[1]}\")"
   ],
   "metadata": {
    "collapsed": false,
    "ExecuteTime": {
     "end_time": "2024-03-28T13:32:08.088970Z",
     "start_time": "2024-03-28T13:32:07.997403Z"
    }
   },
   "id": "417037bd4e585d53",
   "execution_count": 52
  },
  {
   "cell_type": "markdown",
   "source": [
    "## Teams"
   ],
   "metadata": {
    "collapsed": false
   },
   "id": "e43e06b093ea6000"
  },
  {
   "cell_type": "markdown",
   "source": [
    "- Unique teams"
   ],
   "metadata": {
    "collapsed": false
   },
   "id": "7f9680147d566a6f"
  },
  {
   "cell_type": "markdown",
   "source": [
    "Let's check out how many unique teams played in these leagues during this time."
   ],
   "metadata": {
    "collapsed": false
   },
   "id": "b1e66256f260ad83"
  },
  {
   "cell_type": "code",
   "outputs": [
    {
     "name": "stdout",
     "output_type": "stream",
     "text": [
      "League: Belgium Jupiler League, Team Count: 25\n",
      "League: England Premier League, Team Count: 34\n",
      "League: France Ligue 1, Team Count: 35\n",
      "League: Germany 1. Bundesliga, Team Count: 30\n",
      "League: Italy Serie A, Team Count: 32\n",
      "League: Netherlands Eredivisie, Team Count: 25\n",
      "League: Poland Ekstraklasa, Team Count: 24\n",
      "League: Portugal Liga ZON Sagres, Team Count: 29\n",
      "League: Scotland Premier League, Team Count: 17\n",
      "League: Spain LIGA BBVA, Team Count: 33\n",
      "League: Switzerland Super League, Team Count: 15\n",
      "Total unique teams: 299\n"
     ]
    }
   ],
   "source": [
    "query = \"\"\"\n",
    "SELECT L.name AS league_name, COUNT(DISTINCT M.team_id) AS team_count\n",
    "FROM (\n",
    "    SELECT home_team_api_id AS team_id, country_id\n",
    "    FROM Match\n",
    ") M\n",
    "JOIN League L ON M.country_id = L.country_id\n",
    "GROUP BY L.name\n",
    "\"\"\"\n",
    "\n",
    "cursor.execute(query)\n",
    "\n",
    "rows = cursor.fetchall()\n",
    "\n",
    "for row in rows:\n",
    "    print(f\"League: {row[0]}, Team Count: {row[1]}\")\n",
    "\n",
    "query_total = \"SELECT COUNT(DISTINCT home_team_api_id) FROM Match\"\n",
    "cursor.execute(query_total)\n",
    "\n",
    "total_teams = cursor.fetchone()[0]\n",
    "\n",
    "print(f\"Total unique teams: {total_teams}\")"
   ],
   "metadata": {
    "collapsed": false,
    "ExecuteTime": {
     "end_time": "2024-03-28T13:32:08.293729Z",
     "start_time": "2024-03-28T13:32:08.089970Z"
    }
   },
   "id": "390bcc58db17c33f",
   "execution_count": 53
  },
  {
   "cell_type": "markdown",
   "source": [
    " - Team attributes"
   ],
   "metadata": {
    "collapsed": false
   },
   "id": "a79d4c849688e412"
  },
  {
   "cell_type": "markdown",
   "source": [
    "Let's check out the team attributes."
   ],
   "metadata": {
    "collapsed": false
   },
   "id": "21eaae920758a601"
  },
  {
   "cell_type": "code",
   "outputs": [
    {
     "data": {
      "text/plain": "   id  team_fifa_api_id  team_api_id                 date  buildUpPlaySpeed  \\\n0   1               434         9930  2010-02-22 00:00:00                60   \n1   2               434         9930  2014-09-19 00:00:00                52   \n2   3               434         9930  2015-09-10 00:00:00                47   \n3   4                77         8485  2010-02-22 00:00:00                70   \n4   5                77         8485  2011-02-22 00:00:00                47   \n\n  buildUpPlaySpeedClass  buildUpPlayDribbling buildUpPlayDribblingClass  \\\n0              Balanced                   NaN                    Little   \n1              Balanced                  48.0                    Normal   \n2              Balanced                  41.0                    Normal   \n3                  Fast                   NaN                    Little   \n4              Balanced                   NaN                    Little   \n\n   buildUpPlayPassing buildUpPlayPassingClass  ... chanceCreationShooting  \\\n0                  50                   Mixed  ...                     55   \n1                  56                   Mixed  ...                     64   \n2                  54                   Mixed  ...                     64   \n3                  70                    Long  ...                     70   \n4                  52                   Mixed  ...                     52   \n\n   chanceCreationShootingClass chanceCreationPositioningClass  \\\n0                       Normal                      Organised   \n1                       Normal                      Organised   \n2                       Normal                      Organised   \n3                         Lots                      Organised   \n4                       Normal                      Organised   \n\n   defencePressure defencePressureClass  defenceAggression  \\\n0               50               Medium                 55   \n1               47               Medium                 44   \n2               47               Medium                 44   \n3               60               Medium                 70   \n4               47               Medium                 47   \n\n  defenceAggressionClass defenceTeamWidth  defenceTeamWidthClass  \\\n0                  Press               45                 Normal   \n1                  Press               54                 Normal   \n2                  Press               54                 Normal   \n3                 Double               70                   Wide   \n4                  Press               52                 Normal   \n\n  defenceDefenderLineClass  \n0                    Cover  \n1                    Cover  \n2                    Cover  \n3                    Cover  \n4                    Cover  \n\n[5 rows x 25 columns]",
      "text/html": "<div>\n<style scoped>\n    .dataframe tbody tr th:only-of-type {\n        vertical-align: middle;\n    }\n\n    .dataframe tbody tr th {\n        vertical-align: top;\n    }\n\n    .dataframe thead th {\n        text-align: right;\n    }\n</style>\n<table border=\"1\" class=\"dataframe\">\n  <thead>\n    <tr style=\"text-align: right;\">\n      <th></th>\n      <th>id</th>\n      <th>team_fifa_api_id</th>\n      <th>team_api_id</th>\n      <th>date</th>\n      <th>buildUpPlaySpeed</th>\n      <th>buildUpPlaySpeedClass</th>\n      <th>buildUpPlayDribbling</th>\n      <th>buildUpPlayDribblingClass</th>\n      <th>buildUpPlayPassing</th>\n      <th>buildUpPlayPassingClass</th>\n      <th>...</th>\n      <th>chanceCreationShooting</th>\n      <th>chanceCreationShootingClass</th>\n      <th>chanceCreationPositioningClass</th>\n      <th>defencePressure</th>\n      <th>defencePressureClass</th>\n      <th>defenceAggression</th>\n      <th>defenceAggressionClass</th>\n      <th>defenceTeamWidth</th>\n      <th>defenceTeamWidthClass</th>\n      <th>defenceDefenderLineClass</th>\n    </tr>\n  </thead>\n  <tbody>\n    <tr>\n      <th>0</th>\n      <td>1</td>\n      <td>434</td>\n      <td>9930</td>\n      <td>2010-02-22 00:00:00</td>\n      <td>60</td>\n      <td>Balanced</td>\n      <td>NaN</td>\n      <td>Little</td>\n      <td>50</td>\n      <td>Mixed</td>\n      <td>...</td>\n      <td>55</td>\n      <td>Normal</td>\n      <td>Organised</td>\n      <td>50</td>\n      <td>Medium</td>\n      <td>55</td>\n      <td>Press</td>\n      <td>45</td>\n      <td>Normal</td>\n      <td>Cover</td>\n    </tr>\n    <tr>\n      <th>1</th>\n      <td>2</td>\n      <td>434</td>\n      <td>9930</td>\n      <td>2014-09-19 00:00:00</td>\n      <td>52</td>\n      <td>Balanced</td>\n      <td>48.0</td>\n      <td>Normal</td>\n      <td>56</td>\n      <td>Mixed</td>\n      <td>...</td>\n      <td>64</td>\n      <td>Normal</td>\n      <td>Organised</td>\n      <td>47</td>\n      <td>Medium</td>\n      <td>44</td>\n      <td>Press</td>\n      <td>54</td>\n      <td>Normal</td>\n      <td>Cover</td>\n    </tr>\n    <tr>\n      <th>2</th>\n      <td>3</td>\n      <td>434</td>\n      <td>9930</td>\n      <td>2015-09-10 00:00:00</td>\n      <td>47</td>\n      <td>Balanced</td>\n      <td>41.0</td>\n      <td>Normal</td>\n      <td>54</td>\n      <td>Mixed</td>\n      <td>...</td>\n      <td>64</td>\n      <td>Normal</td>\n      <td>Organised</td>\n      <td>47</td>\n      <td>Medium</td>\n      <td>44</td>\n      <td>Press</td>\n      <td>54</td>\n      <td>Normal</td>\n      <td>Cover</td>\n    </tr>\n    <tr>\n      <th>3</th>\n      <td>4</td>\n      <td>77</td>\n      <td>8485</td>\n      <td>2010-02-22 00:00:00</td>\n      <td>70</td>\n      <td>Fast</td>\n      <td>NaN</td>\n      <td>Little</td>\n      <td>70</td>\n      <td>Long</td>\n      <td>...</td>\n      <td>70</td>\n      <td>Lots</td>\n      <td>Organised</td>\n      <td>60</td>\n      <td>Medium</td>\n      <td>70</td>\n      <td>Double</td>\n      <td>70</td>\n      <td>Wide</td>\n      <td>Cover</td>\n    </tr>\n    <tr>\n      <th>4</th>\n      <td>5</td>\n      <td>77</td>\n      <td>8485</td>\n      <td>2011-02-22 00:00:00</td>\n      <td>47</td>\n      <td>Balanced</td>\n      <td>NaN</td>\n      <td>Little</td>\n      <td>52</td>\n      <td>Mixed</td>\n      <td>...</td>\n      <td>52</td>\n      <td>Normal</td>\n      <td>Organised</td>\n      <td>47</td>\n      <td>Medium</td>\n      <td>47</td>\n      <td>Press</td>\n      <td>52</td>\n      <td>Normal</td>\n      <td>Cover</td>\n    </tr>\n  </tbody>\n</table>\n<p>5 rows × 25 columns</p>\n</div>"
     },
     "execution_count": 54,
     "metadata": {},
     "output_type": "execute_result"
    }
   ],
   "source": [
    "query = \"SELECT * FROM Team_Attributes LIMIT 5\"\n",
    "team_attributes_5 = pd.read_sql_query(query, conn)\n",
    "team_attributes_5"
   ],
   "metadata": {
    "collapsed": false,
    "ExecuteTime": {
     "end_time": "2024-03-28T13:32:08.311918Z",
     "start_time": "2024-03-28T13:32:08.294728Z"
    }
   },
   "id": "39c5c8978150f72f",
   "execution_count": 54
  },
  {
   "cell_type": "markdown",
   "source": [
    "## Matches"
   ],
   "metadata": {
    "collapsed": false
   },
   "id": "5926a10b8439effb"
  },
  {
   "cell_type": "markdown",
   "source": [
    "- Count of matches"
   ],
   "metadata": {
    "collapsed": false
   },
   "id": "cd139b1568a41dad"
  },
  {
   "cell_type": "markdown",
   "source": [
    "Let's find out how many games each league had. Knowing the number of games in each league is key because it gives us the sample size for our models."
   ],
   "metadata": {
    "collapsed": false
   },
   "id": "a98b94dc76076a23"
  },
  {
   "cell_type": "code",
   "outputs": [
    {
     "name": "stdout",
     "output_type": "stream",
     "text": [
      "League: Belgium Jupiler League, Match Count: 1728\n",
      "League: England Premier League, Match Count: 3040\n",
      "League: France Ligue 1, Match Count: 3040\n",
      "League: Germany 1. Bundesliga, Match Count: 2448\n",
      "League: Italy Serie A, Match Count: 3017\n",
      "League: Netherlands Eredivisie, Match Count: 2448\n",
      "League: Poland Ekstraklasa, Match Count: 1920\n",
      "League: Portugal Liga ZON Sagres, Match Count: 2052\n",
      "League: Scotland Premier League, Match Count: 1824\n",
      "League: Spain LIGA BBVA, Match Count: 3040\n",
      "League: Switzerland Super League, Match Count: 1422\n",
      "Total matches: 25979\n"
     ]
    }
   ],
   "source": [
    "query = \"\"\"\n",
    "SELECT L.name AS league_name, COUNT(*) AS match_count\n",
    "FROM Match M\n",
    "JOIN League L ON M.country_id = L.country_id\n",
    "GROUP BY L.name\n",
    "\"\"\"\n",
    "\n",
    "cursor.execute(query)\n",
    "\n",
    "rows = cursor.fetchall()\n",
    "\n",
    "for row in rows:\n",
    "    print(f\"League: {row[0]}, Match Count: {row[1]}\")\n",
    "\n",
    "query_total = \"SELECT COUNT(*) FROM Match\"\n",
    "cursor.execute(query_total)\n",
    "\n",
    "total_matches = cursor.fetchone()[0]\n",
    "\n",
    "print(f\"Total matches: {total_matches}\")"
   ],
   "metadata": {
    "collapsed": false,
    "ExecuteTime": {
     "end_time": "2024-03-28T13:32:08.418902Z",
     "start_time": "2024-03-28T13:32:08.312920Z"
    }
   },
   "id": "b73d92da0d7096d5",
   "execution_count": 55
  },
  {
   "cell_type": "markdown",
   "source": [
    "-  Information about the matches"
   ],
   "metadata": {
    "collapsed": false
   },
   "id": "33074f3f5c06acdd"
  },
  {
   "cell_type": "code",
   "outputs": [
    {
     "data": {
      "text/plain": "   id  country_id  league_id     season  stage                 date  \\\n0   1           1          1  2008/2009      1  2008-08-17 00:00:00   \n1   2           1          1  2008/2009      1  2008-08-16 00:00:00   \n2   3           1          1  2008/2009      1  2008-08-16 00:00:00   \n3   4           1          1  2008/2009      1  2008-08-17 00:00:00   \n4   5           1          1  2008/2009      1  2008-08-16 00:00:00   \n\n   match_api_id  home_team_api_id  away_team_api_id  home_team_goal  ...  \\\n0        492473              9987              9993               1  ...   \n1        492474             10000              9994               0  ...   \n2        492475              9984              8635               0  ...   \n3        492476              9991              9998               5  ...   \n4        492477              7947              9985               1  ...   \n\n    SJA   VCH   VCD   VCA   GBH   GBD   GBA   BSH   BSD   BSA  \n0  4.00  1.65  3.40  4.50  1.78  3.25  4.00  1.73  3.40  4.20  \n1  3.80  2.00  3.25  3.25  1.85  3.25  3.75  1.91  3.25  3.60  \n2  2.50  2.35  3.25  2.65  2.50  3.20  2.50  2.30  3.20  2.75  \n3  7.50  1.45  3.75  6.50  1.50  3.75  5.50  1.44  3.75  6.50  \n4  1.73  4.50  3.40  1.65  4.50  3.50  1.65  4.75  3.30  1.67  \n\n[5 rows x 115 columns]",
      "text/html": "<div>\n<style scoped>\n    .dataframe tbody tr th:only-of-type {\n        vertical-align: middle;\n    }\n\n    .dataframe tbody tr th {\n        vertical-align: top;\n    }\n\n    .dataframe thead th {\n        text-align: right;\n    }\n</style>\n<table border=\"1\" class=\"dataframe\">\n  <thead>\n    <tr style=\"text-align: right;\">\n      <th></th>\n      <th>id</th>\n      <th>country_id</th>\n      <th>league_id</th>\n      <th>season</th>\n      <th>stage</th>\n      <th>date</th>\n      <th>match_api_id</th>\n      <th>home_team_api_id</th>\n      <th>away_team_api_id</th>\n      <th>home_team_goal</th>\n      <th>...</th>\n      <th>SJA</th>\n      <th>VCH</th>\n      <th>VCD</th>\n      <th>VCA</th>\n      <th>GBH</th>\n      <th>GBD</th>\n      <th>GBA</th>\n      <th>BSH</th>\n      <th>BSD</th>\n      <th>BSA</th>\n    </tr>\n  </thead>\n  <tbody>\n    <tr>\n      <th>0</th>\n      <td>1</td>\n      <td>1</td>\n      <td>1</td>\n      <td>2008/2009</td>\n      <td>1</td>\n      <td>2008-08-17 00:00:00</td>\n      <td>492473</td>\n      <td>9987</td>\n      <td>9993</td>\n      <td>1</td>\n      <td>...</td>\n      <td>4.00</td>\n      <td>1.65</td>\n      <td>3.40</td>\n      <td>4.50</td>\n      <td>1.78</td>\n      <td>3.25</td>\n      <td>4.00</td>\n      <td>1.73</td>\n      <td>3.40</td>\n      <td>4.20</td>\n    </tr>\n    <tr>\n      <th>1</th>\n      <td>2</td>\n      <td>1</td>\n      <td>1</td>\n      <td>2008/2009</td>\n      <td>1</td>\n      <td>2008-08-16 00:00:00</td>\n      <td>492474</td>\n      <td>10000</td>\n      <td>9994</td>\n      <td>0</td>\n      <td>...</td>\n      <td>3.80</td>\n      <td>2.00</td>\n      <td>3.25</td>\n      <td>3.25</td>\n      <td>1.85</td>\n      <td>3.25</td>\n      <td>3.75</td>\n      <td>1.91</td>\n      <td>3.25</td>\n      <td>3.60</td>\n    </tr>\n    <tr>\n      <th>2</th>\n      <td>3</td>\n      <td>1</td>\n      <td>1</td>\n      <td>2008/2009</td>\n      <td>1</td>\n      <td>2008-08-16 00:00:00</td>\n      <td>492475</td>\n      <td>9984</td>\n      <td>8635</td>\n      <td>0</td>\n      <td>...</td>\n      <td>2.50</td>\n      <td>2.35</td>\n      <td>3.25</td>\n      <td>2.65</td>\n      <td>2.50</td>\n      <td>3.20</td>\n      <td>2.50</td>\n      <td>2.30</td>\n      <td>3.20</td>\n      <td>2.75</td>\n    </tr>\n    <tr>\n      <th>3</th>\n      <td>4</td>\n      <td>1</td>\n      <td>1</td>\n      <td>2008/2009</td>\n      <td>1</td>\n      <td>2008-08-17 00:00:00</td>\n      <td>492476</td>\n      <td>9991</td>\n      <td>9998</td>\n      <td>5</td>\n      <td>...</td>\n      <td>7.50</td>\n      <td>1.45</td>\n      <td>3.75</td>\n      <td>6.50</td>\n      <td>1.50</td>\n      <td>3.75</td>\n      <td>5.50</td>\n      <td>1.44</td>\n      <td>3.75</td>\n      <td>6.50</td>\n    </tr>\n    <tr>\n      <th>4</th>\n      <td>5</td>\n      <td>1</td>\n      <td>1</td>\n      <td>2008/2009</td>\n      <td>1</td>\n      <td>2008-08-16 00:00:00</td>\n      <td>492477</td>\n      <td>7947</td>\n      <td>9985</td>\n      <td>1</td>\n      <td>...</td>\n      <td>1.73</td>\n      <td>4.50</td>\n      <td>3.40</td>\n      <td>1.65</td>\n      <td>4.50</td>\n      <td>3.50</td>\n      <td>1.65</td>\n      <td>4.75</td>\n      <td>3.30</td>\n      <td>1.67</td>\n    </tr>\n  </tbody>\n</table>\n<p>5 rows × 115 columns</p>\n</div>"
     },
     "execution_count": 56,
     "metadata": {},
     "output_type": "execute_result"
    }
   ],
   "source": [
    "query = \"SELECT * FROM Match LIMIT 5\"\n",
    "match_5 = pd.read_sql_query(query, conn)\n",
    "match_5"
   ],
   "metadata": {
    "collapsed": false,
    "ExecuteTime": {
     "end_time": "2024-03-28T13:32:08.444909Z",
     "start_time": "2024-03-28T13:32:08.420905Z"
    }
   },
   "id": "e0be3c66448ef8ea",
   "execution_count": 56
  },
  {
   "cell_type": "markdown",
   "source": [
    "## Players"
   ],
   "metadata": {
    "collapsed": false
   },
   "id": "53dcdba71fe6e9ef"
  },
  {
   "cell_type": "markdown",
   "source": [
    "- Unique players"
   ],
   "metadata": {
    "collapsed": false
   },
   "id": "b75623909fee79af"
  },
  {
   "cell_type": "code",
   "outputs": [
    {
     "name": "stdout",
     "output_type": "stream",
     "text": [
      "Unique players: 11060\n"
     ]
    }
   ],
   "source": [
    "query = \"SELECT COUNT(DISTINCT player_api_id) FROM Player\"\n",
    "cursor.execute(query)\n",
    "\n",
    "rows = cursor.fetchall()\n",
    "\n",
    "for row in rows:\n",
    "    print(f\"Unique players: {row[0]}\")"
   ],
   "metadata": {
    "collapsed": false,
    "ExecuteTime": {
     "end_time": "2024-03-28T13:32:08.452596Z",
     "start_time": "2024-03-28T13:32:08.445911Z"
    }
   },
   "id": "3ee64ca22b775123",
   "execution_count": 57
  },
  {
   "cell_type": "code",
   "outputs": [
    {
     "name": "stdout",
     "output_type": "stream",
     "text": [
      "Total rows in Player_Attributes: 183978\n"
     ]
    }
   ],
   "source": [
    "query = \"SELECT COUNT(*) FROM Player_Attributes\"\n",
    "cursor.execute(query)\n",
    "\n",
    "rows = cursor.fetchone()\n",
    "\n",
    "print(f\"Total rows in Player_Attributes: {rows[0]}\")"
   ],
   "metadata": {
    "collapsed": false,
    "ExecuteTime": {
     "end_time": "2024-03-28T13:32:08.538460Z",
     "start_time": "2024-03-28T13:32:08.453591Z"
    }
   },
   "id": "ab6eeec6f5728b23",
   "execution_count": 58
  },
  {
   "cell_type": "markdown",
   "source": [
    "- Player attributes"
   ],
   "metadata": {
    "collapsed": false
   },
   "id": "ee5da3a8b613f7b4"
  },
  {
   "cell_type": "markdown",
   "source": [
    "Let's check the players' attributes."
   ],
   "metadata": {
    "collapsed": false
   },
   "id": "e06c9f4b5ee25e27"
  },
  {
   "cell_type": "code",
   "outputs": [
    {
     "data": {
      "text/plain": "   id  player_fifa_api_id  player_api_id                 date  overall_rating  \\\n0   1              218353         505942  2016-02-18 00:00:00              67   \n1   2              218353         505942  2015-11-19 00:00:00              67   \n2   3              218353         505942  2015-09-21 00:00:00              62   \n3   4              218353         505942  2015-03-20 00:00:00              61   \n4   5              218353         505942  2007-02-22 00:00:00              61   \n\n   potential preferred_foot attacking_work_rate defensive_work_rate  crossing  \\\n0         71          right              medium              medium        49   \n1         71          right              medium              medium        49   \n2         66          right              medium              medium        49   \n3         65          right              medium              medium        48   \n4         65          right              medium              medium        48   \n\n   ...  vision  penalties  marking  standing_tackle  sliding_tackle  \\\n0  ...      54         48       65               69              69   \n1  ...      54         48       65               69              69   \n2  ...      54         48       65               66              69   \n3  ...      53         47       62               63              66   \n4  ...      53         47       62               63              66   \n\n   gk_diving  gk_handling  gk_kicking  gk_positioning  gk_reflexes  \n0          6           11          10               8            8  \n1          6           11          10               8            8  \n2          6           11          10               8            8  \n3          5           10           9               7            7  \n4          5           10           9               7            7  \n\n[5 rows x 42 columns]",
      "text/html": "<div>\n<style scoped>\n    .dataframe tbody tr th:only-of-type {\n        vertical-align: middle;\n    }\n\n    .dataframe tbody tr th {\n        vertical-align: top;\n    }\n\n    .dataframe thead th {\n        text-align: right;\n    }\n</style>\n<table border=\"1\" class=\"dataframe\">\n  <thead>\n    <tr style=\"text-align: right;\">\n      <th></th>\n      <th>id</th>\n      <th>player_fifa_api_id</th>\n      <th>player_api_id</th>\n      <th>date</th>\n      <th>overall_rating</th>\n      <th>potential</th>\n      <th>preferred_foot</th>\n      <th>attacking_work_rate</th>\n      <th>defensive_work_rate</th>\n      <th>crossing</th>\n      <th>...</th>\n      <th>vision</th>\n      <th>penalties</th>\n      <th>marking</th>\n      <th>standing_tackle</th>\n      <th>sliding_tackle</th>\n      <th>gk_diving</th>\n      <th>gk_handling</th>\n      <th>gk_kicking</th>\n      <th>gk_positioning</th>\n      <th>gk_reflexes</th>\n    </tr>\n  </thead>\n  <tbody>\n    <tr>\n      <th>0</th>\n      <td>1</td>\n      <td>218353</td>\n      <td>505942</td>\n      <td>2016-02-18 00:00:00</td>\n      <td>67</td>\n      <td>71</td>\n      <td>right</td>\n      <td>medium</td>\n      <td>medium</td>\n      <td>49</td>\n      <td>...</td>\n      <td>54</td>\n      <td>48</td>\n      <td>65</td>\n      <td>69</td>\n      <td>69</td>\n      <td>6</td>\n      <td>11</td>\n      <td>10</td>\n      <td>8</td>\n      <td>8</td>\n    </tr>\n    <tr>\n      <th>1</th>\n      <td>2</td>\n      <td>218353</td>\n      <td>505942</td>\n      <td>2015-11-19 00:00:00</td>\n      <td>67</td>\n      <td>71</td>\n      <td>right</td>\n      <td>medium</td>\n      <td>medium</td>\n      <td>49</td>\n      <td>...</td>\n      <td>54</td>\n      <td>48</td>\n      <td>65</td>\n      <td>69</td>\n      <td>69</td>\n      <td>6</td>\n      <td>11</td>\n      <td>10</td>\n      <td>8</td>\n      <td>8</td>\n    </tr>\n    <tr>\n      <th>2</th>\n      <td>3</td>\n      <td>218353</td>\n      <td>505942</td>\n      <td>2015-09-21 00:00:00</td>\n      <td>62</td>\n      <td>66</td>\n      <td>right</td>\n      <td>medium</td>\n      <td>medium</td>\n      <td>49</td>\n      <td>...</td>\n      <td>54</td>\n      <td>48</td>\n      <td>65</td>\n      <td>66</td>\n      <td>69</td>\n      <td>6</td>\n      <td>11</td>\n      <td>10</td>\n      <td>8</td>\n      <td>8</td>\n    </tr>\n    <tr>\n      <th>3</th>\n      <td>4</td>\n      <td>218353</td>\n      <td>505942</td>\n      <td>2015-03-20 00:00:00</td>\n      <td>61</td>\n      <td>65</td>\n      <td>right</td>\n      <td>medium</td>\n      <td>medium</td>\n      <td>48</td>\n      <td>...</td>\n      <td>53</td>\n      <td>47</td>\n      <td>62</td>\n      <td>63</td>\n      <td>66</td>\n      <td>5</td>\n      <td>10</td>\n      <td>9</td>\n      <td>7</td>\n      <td>7</td>\n    </tr>\n    <tr>\n      <th>4</th>\n      <td>5</td>\n      <td>218353</td>\n      <td>505942</td>\n      <td>2007-02-22 00:00:00</td>\n      <td>61</td>\n      <td>65</td>\n      <td>right</td>\n      <td>medium</td>\n      <td>medium</td>\n      <td>48</td>\n      <td>...</td>\n      <td>53</td>\n      <td>47</td>\n      <td>62</td>\n      <td>63</td>\n      <td>66</td>\n      <td>5</td>\n      <td>10</td>\n      <td>9</td>\n      <td>7</td>\n      <td>7</td>\n    </tr>\n  </tbody>\n</table>\n<p>5 rows × 42 columns</p>\n</div>"
     },
     "execution_count": 59,
     "metadata": {},
     "output_type": "execute_result"
    }
   ],
   "source": [
    "query = \"SELECT * FROM Player_Attributes LIMIT 5\"\n",
    "player_attributes_5 = pd.read_sql_query(query, conn)\n",
    "player_attributes_5"
   ],
   "metadata": {
    "collapsed": false,
    "ExecuteTime": {
     "end_time": "2024-03-28T13:32:08.561411Z",
     "start_time": "2024-03-28T13:32:08.540458Z"
    }
   },
   "id": "f8889edc0aa29484",
   "execution_count": 59
  },
  {
   "cell_type": "markdown",
   "source": [
    "### Summary of the dataset"
   ],
   "metadata": {
    "collapsed": false
   },
   "id": "3f92b922bb8ce8f3"
  },
  {
   "cell_type": "markdown",
   "source": [
    "This dataset contains information about football matches, teams, players, and player attributes. It has 11 leagues from 11 different countries. The time period is from 2008 to 2016. There are 299 unique teams and 11060 unique players. The total number of matches is 25979.\n",
    "\n"
   ],
   "metadata": {
    "collapsed": false
   },
   "id": "5fc10e3613344649"
  },
  {
   "cell_type": "markdown",
   "source": [
    "# Data Cleaning "
   ],
   "metadata": {
    "collapsed": false
   },
   "id": "8d0134445617215f"
  },
  {
   "cell_type": "markdown",
   "source": [
    "## Players "
   ],
   "metadata": {
    "collapsed": false
   },
   "id": "bd1abbaa30c8c4bd"
  },
  {
   "cell_type": "markdown",
   "source": [
    "First, we will merge the player and player attributes tables and will leave most important columns."
   ],
   "metadata": {
    "collapsed": false
   },
   "id": "1e38fa622076edf9"
  },
  {
   "cell_type": "code",
   "outputs": [],
   "source": [
    "query = \"\"\"\n",
    "SELECT Player.player_api_id, Player.player_name, Player.birthday, Player.height, Player.weight, \n",
    "       Player_Attributes.overall_rating, Player_Attributes.potential, \n",
    "       Player_Attributes.attacking_work_rate, Player_Attributes.defensive_work_rate,\n",
    "       Player_Attributes.date\n",
    "FROM Player\n",
    "JOIN Player_Attributes ON Player.player_api_id = Player_Attributes.player_api_id\n",
    "\"\"\"\n",
    "players = pd.read_sql_query(query, conn)"
   ],
   "metadata": {
    "collapsed": false,
    "ExecuteTime": {
     "end_time": "2024-03-28T13:32:09.508276Z",
     "start_time": "2024-03-28T13:32:08.606288Z"
    }
   },
   "id": "3f93747464802494",
   "execution_count": 60
  },
  {
   "cell_type": "code",
   "outputs": [
    {
     "data": {
      "text/plain": "   player_api_id         player_name             birthday  height  weight  \\\n0         505942  Aaron Appindangoye  1992-02-29 00:00:00  182.88     187   \n1         505942  Aaron Appindangoye  1992-02-29 00:00:00  182.88     187   \n2         505942  Aaron Appindangoye  1992-02-29 00:00:00  182.88     187   \n3         505942  Aaron Appindangoye  1992-02-29 00:00:00  182.88     187   \n4         505942  Aaron Appindangoye  1992-02-29 00:00:00  182.88     187   \n\n   overall_rating  potential attacking_work_rate defensive_work_rate  \\\n0            67.0       71.0              medium              medium   \n1            67.0       71.0              medium              medium   \n2            62.0       66.0              medium              medium   \n3            61.0       65.0              medium              medium   \n4            61.0       65.0              medium              medium   \n\n                  date  \n0  2016-02-18 00:00:00  \n1  2015-11-19 00:00:00  \n2  2015-09-21 00:00:00  \n3  2015-03-20 00:00:00  \n4  2007-02-22 00:00:00  ",
      "text/html": "<div>\n<style scoped>\n    .dataframe tbody tr th:only-of-type {\n        vertical-align: middle;\n    }\n\n    .dataframe tbody tr th {\n        vertical-align: top;\n    }\n\n    .dataframe thead th {\n        text-align: right;\n    }\n</style>\n<table border=\"1\" class=\"dataframe\">\n  <thead>\n    <tr style=\"text-align: right;\">\n      <th></th>\n      <th>player_api_id</th>\n      <th>player_name</th>\n      <th>birthday</th>\n      <th>height</th>\n      <th>weight</th>\n      <th>overall_rating</th>\n      <th>potential</th>\n      <th>attacking_work_rate</th>\n      <th>defensive_work_rate</th>\n      <th>date</th>\n    </tr>\n  </thead>\n  <tbody>\n    <tr>\n      <th>0</th>\n      <td>505942</td>\n      <td>Aaron Appindangoye</td>\n      <td>1992-02-29 00:00:00</td>\n      <td>182.88</td>\n      <td>187</td>\n      <td>67.0</td>\n      <td>71.0</td>\n      <td>medium</td>\n      <td>medium</td>\n      <td>2016-02-18 00:00:00</td>\n    </tr>\n    <tr>\n      <th>1</th>\n      <td>505942</td>\n      <td>Aaron Appindangoye</td>\n      <td>1992-02-29 00:00:00</td>\n      <td>182.88</td>\n      <td>187</td>\n      <td>67.0</td>\n      <td>71.0</td>\n      <td>medium</td>\n      <td>medium</td>\n      <td>2015-11-19 00:00:00</td>\n    </tr>\n    <tr>\n      <th>2</th>\n      <td>505942</td>\n      <td>Aaron Appindangoye</td>\n      <td>1992-02-29 00:00:00</td>\n      <td>182.88</td>\n      <td>187</td>\n      <td>62.0</td>\n      <td>66.0</td>\n      <td>medium</td>\n      <td>medium</td>\n      <td>2015-09-21 00:00:00</td>\n    </tr>\n    <tr>\n      <th>3</th>\n      <td>505942</td>\n      <td>Aaron Appindangoye</td>\n      <td>1992-02-29 00:00:00</td>\n      <td>182.88</td>\n      <td>187</td>\n      <td>61.0</td>\n      <td>65.0</td>\n      <td>medium</td>\n      <td>medium</td>\n      <td>2015-03-20 00:00:00</td>\n    </tr>\n    <tr>\n      <th>4</th>\n      <td>505942</td>\n      <td>Aaron Appindangoye</td>\n      <td>1992-02-29 00:00:00</td>\n      <td>182.88</td>\n      <td>187</td>\n      <td>61.0</td>\n      <td>65.0</td>\n      <td>medium</td>\n      <td>medium</td>\n      <td>2007-02-22 00:00:00</td>\n    </tr>\n  </tbody>\n</table>\n</div>"
     },
     "execution_count": 61,
     "metadata": {},
     "output_type": "execute_result"
    }
   ],
   "source": [
    "players.head()"
   ],
   "metadata": {
    "collapsed": false,
    "ExecuteTime": {
     "end_time": "2024-03-28T13:32:09.525503Z",
     "start_time": "2024-03-28T13:32:09.510274Z"
    }
   },
   "id": "2cb21443761b613f",
   "execution_count": 61
  },
  {
   "cell_type": "markdown",
   "source": [
    "- Null values"
   ],
   "metadata": {
    "collapsed": false
   },
   "id": "215d4ec39245c348"
  },
  {
   "cell_type": "code",
   "outputs": [
    {
     "data": {
      "text/plain": "player_api_id             0\nplayer_name               0\nbirthday                  0\nheight                    0\nweight                    0\noverall_rating          836\npotential               836\nattacking_work_rate    3230\ndefensive_work_rate     836\ndate                      0\ndtype: int64"
     },
     "execution_count": 62,
     "metadata": {},
     "output_type": "execute_result"
    }
   ],
   "source": [
    "players.isnull().sum()"
   ],
   "metadata": {
    "collapsed": false,
    "ExecuteTime": {
     "end_time": "2024-03-28T13:32:09.573958Z",
     "start_time": "2024-03-28T13:32:09.526503Z"
    }
   },
   "id": "fb2bde854012e69",
   "execution_count": 62
  },
  {
   "cell_type": "markdown",
   "source": [
    "We will discard the rows that contain null values in the 'overall_rating' column. This column is vital for our analysis, and therefore, we do not need to retain rows with null values in this column."
   ],
   "metadata": {
    "collapsed": false
   },
   "id": "a44c01e86434c6f1"
  },
  {
   "cell_type": "code",
   "outputs": [],
   "source": [
    "players = players[players['overall_rating'].notnull()]"
   ],
   "metadata": {
    "collapsed": false,
    "ExecuteTime": {
     "end_time": "2024-03-28T13:32:09.599328Z",
     "start_time": "2024-03-28T13:32:09.575956Z"
    }
   },
   "id": "ddbfc5ab7d95a0d9",
   "execution_count": 63
  },
  {
   "cell_type": "code",
   "outputs": [
    {
     "data": {
      "text/plain": "player_api_id             0\nplayer_name               0\nbirthday                  0\nheight                    0\nweight                    0\noverall_rating            0\npotential                 0\nattacking_work_rate    2394\ndefensive_work_rate       0\ndate                      0\ndtype: int64"
     },
     "execution_count": 64,
     "metadata": {},
     "output_type": "execute_result"
    }
   ],
   "source": [
    "players.isnull().sum()"
   ],
   "metadata": {
    "collapsed": false,
    "ExecuteTime": {
     "end_time": "2024-03-28T13:32:09.644247Z",
     "start_time": "2024-03-28T13:32:09.600328Z"
    }
   },
   "id": "1a33e4f6e777e7d2",
   "execution_count": 64
  },
  {
   "cell_type": "markdown",
   "source": [
    "- Duplicates"
   ],
   "metadata": {
    "collapsed": false
   },
   "id": "ceefc85c3c2d9854"
  },
  {
   "cell_type": "code",
   "outputs": [
    {
     "data": {
      "text/plain": "0"
     },
     "execution_count": 65,
     "metadata": {},
     "output_type": "execute_result"
    }
   ],
   "source": [
    "players.duplicated().sum()"
   ],
   "metadata": {
    "collapsed": false,
    "ExecuteTime": {
     "end_time": "2024-03-28T13:32:09.768748Z",
     "start_time": "2024-03-28T13:32:09.645246Z"
    }
   },
   "id": "1c3976a237f36e39",
   "execution_count": 65
  },
  {
   "cell_type": "markdown",
   "source": [
    "- Date and birthday columns"
   ],
   "metadata": {
    "collapsed": false
   },
   "id": "59815f05486d38af"
  },
  {
   "cell_type": "markdown",
   "source": [
    "We will convert the date and birthday columns to datetime data type. We will also calculate the age of the players at the time of the match."
   ],
   "metadata": {
    "collapsed": false
   },
   "id": "d2d72e094e265092"
  },
  {
   "cell_type": "code",
   "outputs": [],
   "source": [
    "players['birthday'] = pd.to_datetime(players['birthday'])\n",
    "players['date'] = pd.to_datetime(players['date'])\n",
    "\n",
    "players['age'] = players['date'] - players['birthday']\n",
    "\n",
    "players['age'] = players['age'] / pd.Timedelta(days=365.25)\n",
    "\n",
    "players['age'] = players['age'].astype(int)"
   ],
   "metadata": {
    "collapsed": false,
    "ExecuteTime": {
     "end_time": "2024-03-28T13:32:09.867912Z",
     "start_time": "2024-03-28T13:32:09.769744Z"
    }
   },
   "id": "359b39bf0933eae5",
   "execution_count": 66
  },
  {
   "cell_type": "code",
   "outputs": [
    {
     "data": {
      "text/plain": "   player_api_id         player_name   birthday  height  weight  \\\n0         505942  Aaron Appindangoye 1992-02-29  182.88     187   \n1         505942  Aaron Appindangoye 1992-02-29  182.88     187   \n2         505942  Aaron Appindangoye 1992-02-29  182.88     187   \n3         505942  Aaron Appindangoye 1992-02-29  182.88     187   \n4         505942  Aaron Appindangoye 1992-02-29  182.88     187   \n\n   overall_rating  potential attacking_work_rate defensive_work_rate  \\\n0            67.0       71.0              medium              medium   \n1            67.0       71.0              medium              medium   \n2            62.0       66.0              medium              medium   \n3            61.0       65.0              medium              medium   \n4            61.0       65.0              medium              medium   \n\n        date  age  \n0 2016-02-18   23  \n1 2015-11-19   23  \n2 2015-09-21   23  \n3 2015-03-20   23  \n4 2007-02-22   14  ",
      "text/html": "<div>\n<style scoped>\n    .dataframe tbody tr th:only-of-type {\n        vertical-align: middle;\n    }\n\n    .dataframe tbody tr th {\n        vertical-align: top;\n    }\n\n    .dataframe thead th {\n        text-align: right;\n    }\n</style>\n<table border=\"1\" class=\"dataframe\">\n  <thead>\n    <tr style=\"text-align: right;\">\n      <th></th>\n      <th>player_api_id</th>\n      <th>player_name</th>\n      <th>birthday</th>\n      <th>height</th>\n      <th>weight</th>\n      <th>overall_rating</th>\n      <th>potential</th>\n      <th>attacking_work_rate</th>\n      <th>defensive_work_rate</th>\n      <th>date</th>\n      <th>age</th>\n    </tr>\n  </thead>\n  <tbody>\n    <tr>\n      <th>0</th>\n      <td>505942</td>\n      <td>Aaron Appindangoye</td>\n      <td>1992-02-29</td>\n      <td>182.88</td>\n      <td>187</td>\n      <td>67.0</td>\n      <td>71.0</td>\n      <td>medium</td>\n      <td>medium</td>\n      <td>2016-02-18</td>\n      <td>23</td>\n    </tr>\n    <tr>\n      <th>1</th>\n      <td>505942</td>\n      <td>Aaron Appindangoye</td>\n      <td>1992-02-29</td>\n      <td>182.88</td>\n      <td>187</td>\n      <td>67.0</td>\n      <td>71.0</td>\n      <td>medium</td>\n      <td>medium</td>\n      <td>2015-11-19</td>\n      <td>23</td>\n    </tr>\n    <tr>\n      <th>2</th>\n      <td>505942</td>\n      <td>Aaron Appindangoye</td>\n      <td>1992-02-29</td>\n      <td>182.88</td>\n      <td>187</td>\n      <td>62.0</td>\n      <td>66.0</td>\n      <td>medium</td>\n      <td>medium</td>\n      <td>2015-09-21</td>\n      <td>23</td>\n    </tr>\n    <tr>\n      <th>3</th>\n      <td>505942</td>\n      <td>Aaron Appindangoye</td>\n      <td>1992-02-29</td>\n      <td>182.88</td>\n      <td>187</td>\n      <td>61.0</td>\n      <td>65.0</td>\n      <td>medium</td>\n      <td>medium</td>\n      <td>2015-03-20</td>\n      <td>23</td>\n    </tr>\n    <tr>\n      <th>4</th>\n      <td>505942</td>\n      <td>Aaron Appindangoye</td>\n      <td>1992-02-29</td>\n      <td>182.88</td>\n      <td>187</td>\n      <td>61.0</td>\n      <td>65.0</td>\n      <td>medium</td>\n      <td>medium</td>\n      <td>2007-02-22</td>\n      <td>14</td>\n    </tr>\n  </tbody>\n</table>\n</div>"
     },
     "execution_count": 67,
     "metadata": {},
     "output_type": "execute_result"
    }
   ],
   "source": [
    "players.head()"
   ],
   "metadata": {
    "collapsed": false,
    "ExecuteTime": {
     "end_time": "2024-03-28T13:32:09.882420Z",
     "start_time": "2024-03-28T13:32:09.868908Z"
    }
   },
   "id": "a3013b7969206ede",
   "execution_count": 67
  },
  {
   "cell_type": "markdown",
   "source": [
    "## Matches"
   ],
   "metadata": {
    "collapsed": false
   },
   "id": "a5d3d40890685fb5"
  },
  {
   "cell_type": "markdown",
   "source": [
    "We will now extract important data from the Match,League,Team tables.\n",
    "\n",
    "The data we are extracting includes:  \n",
    "-Match details: match id, season, stage, date, home team goals, away team goals, and goal, and the home and away players ids.\n",
    "-League details: Name of the league.\n",
    "-Team details: Long names of the home and away teams."
   ],
   "metadata": {
    "collapsed": false
   },
   "id": "8652d084d0e3187a"
  },
  {
   "cell_type": "markdown",
   "source": [],
   "metadata": {
    "collapsed": false
   },
   "id": "dd75c709df0c2fca"
  },
  {
   "cell_type": "code",
   "outputs": [],
   "source": [
    "query = \"\"\"\n",
    "SELECT Match.match_api_id, Match.season, Match.date, Match.home_team_goal, Match.away_team_goal,\n",
    "       Match.stage,\n",
    "       League.name AS league_name,\n",
    "       home_team.team_long_name AS home_team,\n",
    "       away_team.team_long_name AS away_team,\n",
    "\"\"\" + ', '.join(f'Match.home_player_{i}, Match.away_player_{i}' for i in range(1, 12)) + ', ' + ', '.join(\n",
    "    f'Match.home_player_y{i}, Match.away_player_y{i}' for i in range(1, 12)) + \"\"\"\n",
    "FROM Match\n",
    "JOIN League ON Match.country_id = League.id\n",
    "JOIN Team AS home_team ON Match.home_team_api_id = home_team.team_api_id\n",
    "JOIN Team AS away_team ON Match.away_team_api_id = away_team.team_api_id\n",
    "\"\"\"\n",
    "\n",
    "matches = pd.read_sql_query(query, conn)"
   ],
   "metadata": {
    "collapsed": false,
    "ExecuteTime": {
     "end_time": "2024-03-28T13:32:10.632264Z",
     "start_time": "2024-03-28T13:32:09.883420Z"
    }
   },
   "id": "b0ba199ca7c482b4",
   "execution_count": 68
  },
  {
   "cell_type": "code",
   "outputs": [
    {
     "data": {
      "text/plain": "   match_api_id     season                 date  home_team_goal  \\\n0        492473  2008/2009  2008-08-17 00:00:00               1   \n1        492474  2008/2009  2008-08-16 00:00:00               0   \n2        492475  2008/2009  2008-08-16 00:00:00               0   \n3        492476  2008/2009  2008-08-17 00:00:00               5   \n4        492477  2008/2009  2008-08-16 00:00:00               1   \n\n   away_team_goal  stage             league_name          home_team  \\\n0               1      1  Belgium Jupiler League           KRC Genk   \n1               0      1  Belgium Jupiler League   SV Zulte-Waregem   \n2               3      1  Belgium Jupiler League  KSV Cercle Brugge   \n3               0      1  Belgium Jupiler League           KAA Gent   \n4               3      1  Belgium Jupiler League      FCV Dender EH   \n\n           away_team  home_player_1  ...  home_player_Y7  away_player_Y7  \\\n0       Beerschot AC            NaN  ...             NaN             NaN   \n1   Sporting Lokeren            NaN  ...             NaN             NaN   \n2     RSC Anderlecht            NaN  ...             NaN             NaN   \n3          RAEC Mons            NaN  ...             NaN             NaN   \n4  Standard de Liège            NaN  ...             NaN             NaN   \n\n   home_player_Y8  away_player_Y8  home_player_Y9  away_player_Y9  \\\n0             NaN             NaN             NaN             NaN   \n1             NaN             NaN             NaN             NaN   \n2             NaN             NaN             NaN             NaN   \n3             NaN             NaN             NaN             NaN   \n4             NaN             NaN             NaN             NaN   \n\n   home_player_Y10  away_player_Y10  home_player_Y11  away_player_Y11  \n0              NaN              NaN              NaN              NaN  \n1              NaN              NaN              NaN              NaN  \n2              NaN              NaN              NaN              NaN  \n3              NaN              NaN              NaN              NaN  \n4              NaN              NaN              NaN              NaN  \n\n[5 rows x 53 columns]",
      "text/html": "<div>\n<style scoped>\n    .dataframe tbody tr th:only-of-type {\n        vertical-align: middle;\n    }\n\n    .dataframe tbody tr th {\n        vertical-align: top;\n    }\n\n    .dataframe thead th {\n        text-align: right;\n    }\n</style>\n<table border=\"1\" class=\"dataframe\">\n  <thead>\n    <tr style=\"text-align: right;\">\n      <th></th>\n      <th>match_api_id</th>\n      <th>season</th>\n      <th>date</th>\n      <th>home_team_goal</th>\n      <th>away_team_goal</th>\n      <th>stage</th>\n      <th>league_name</th>\n      <th>home_team</th>\n      <th>away_team</th>\n      <th>home_player_1</th>\n      <th>...</th>\n      <th>home_player_Y7</th>\n      <th>away_player_Y7</th>\n      <th>home_player_Y8</th>\n      <th>away_player_Y8</th>\n      <th>home_player_Y9</th>\n      <th>away_player_Y9</th>\n      <th>home_player_Y10</th>\n      <th>away_player_Y10</th>\n      <th>home_player_Y11</th>\n      <th>away_player_Y11</th>\n    </tr>\n  </thead>\n  <tbody>\n    <tr>\n      <th>0</th>\n      <td>492473</td>\n      <td>2008/2009</td>\n      <td>2008-08-17 00:00:00</td>\n      <td>1</td>\n      <td>1</td>\n      <td>1</td>\n      <td>Belgium Jupiler League</td>\n      <td>KRC Genk</td>\n      <td>Beerschot AC</td>\n      <td>NaN</td>\n      <td>...</td>\n      <td>NaN</td>\n      <td>NaN</td>\n      <td>NaN</td>\n      <td>NaN</td>\n      <td>NaN</td>\n      <td>NaN</td>\n      <td>NaN</td>\n      <td>NaN</td>\n      <td>NaN</td>\n      <td>NaN</td>\n    </tr>\n    <tr>\n      <th>1</th>\n      <td>492474</td>\n      <td>2008/2009</td>\n      <td>2008-08-16 00:00:00</td>\n      <td>0</td>\n      <td>0</td>\n      <td>1</td>\n      <td>Belgium Jupiler League</td>\n      <td>SV Zulte-Waregem</td>\n      <td>Sporting Lokeren</td>\n      <td>NaN</td>\n      <td>...</td>\n      <td>NaN</td>\n      <td>NaN</td>\n      <td>NaN</td>\n      <td>NaN</td>\n      <td>NaN</td>\n      <td>NaN</td>\n      <td>NaN</td>\n      <td>NaN</td>\n      <td>NaN</td>\n      <td>NaN</td>\n    </tr>\n    <tr>\n      <th>2</th>\n      <td>492475</td>\n      <td>2008/2009</td>\n      <td>2008-08-16 00:00:00</td>\n      <td>0</td>\n      <td>3</td>\n      <td>1</td>\n      <td>Belgium Jupiler League</td>\n      <td>KSV Cercle Brugge</td>\n      <td>RSC Anderlecht</td>\n      <td>NaN</td>\n      <td>...</td>\n      <td>NaN</td>\n      <td>NaN</td>\n      <td>NaN</td>\n      <td>NaN</td>\n      <td>NaN</td>\n      <td>NaN</td>\n      <td>NaN</td>\n      <td>NaN</td>\n      <td>NaN</td>\n      <td>NaN</td>\n    </tr>\n    <tr>\n      <th>3</th>\n      <td>492476</td>\n      <td>2008/2009</td>\n      <td>2008-08-17 00:00:00</td>\n      <td>5</td>\n      <td>0</td>\n      <td>1</td>\n      <td>Belgium Jupiler League</td>\n      <td>KAA Gent</td>\n      <td>RAEC Mons</td>\n      <td>NaN</td>\n      <td>...</td>\n      <td>NaN</td>\n      <td>NaN</td>\n      <td>NaN</td>\n      <td>NaN</td>\n      <td>NaN</td>\n      <td>NaN</td>\n      <td>NaN</td>\n      <td>NaN</td>\n      <td>NaN</td>\n      <td>NaN</td>\n    </tr>\n    <tr>\n      <th>4</th>\n      <td>492477</td>\n      <td>2008/2009</td>\n      <td>2008-08-16 00:00:00</td>\n      <td>1</td>\n      <td>3</td>\n      <td>1</td>\n      <td>Belgium Jupiler League</td>\n      <td>FCV Dender EH</td>\n      <td>Standard de Liège</td>\n      <td>NaN</td>\n      <td>...</td>\n      <td>NaN</td>\n      <td>NaN</td>\n      <td>NaN</td>\n      <td>NaN</td>\n      <td>NaN</td>\n      <td>NaN</td>\n      <td>NaN</td>\n      <td>NaN</td>\n      <td>NaN</td>\n      <td>NaN</td>\n    </tr>\n  </tbody>\n</table>\n<p>5 rows × 53 columns</p>\n</div>"
     },
     "execution_count": 69,
     "metadata": {},
     "output_type": "execute_result"
    }
   ],
   "source": [
    "matches.head()"
   ],
   "metadata": {
    "collapsed": false,
    "ExecuteTime": {
     "end_time": "2024-03-28T13:32:10.652388Z",
     "start_time": "2024-03-28T13:32:10.635259Z"
    }
   },
   "id": "af66819f8bc545ed",
   "execution_count": 69
  },
  {
   "cell_type": "markdown",
   "source": [
    "- Null values"
   ],
   "metadata": {
    "collapsed": false
   },
   "id": "d598073fbf77921d"
  },
  {
   "cell_type": "code",
   "outputs": [
    {
     "data": {
      "text/plain": "match_api_id          0\nseason                0\ndate                  0\nhome_team_goal        0\naway_team_goal        0\nstage                 0\nleague_name           0\nhome_team             0\naway_team             0\nhome_player_1      1224\naway_player_1      1234\nhome_player_2      1315\naway_player_2      1278\nhome_player_3      1281\naway_player_3      1293\nhome_player_4      1323\naway_player_4      1321\nhome_player_5      1316\naway_player_5      1335\nhome_player_6      1325\naway_player_6      1313\nhome_player_7      1227\naway_player_7      1235\nhome_player_8      1309\naway_player_8      1341\nhome_player_9      1273\naway_player_9      1328\nhome_player_10     1436\naway_player_10     1441\nhome_player_11     1555\naway_player_11     1554\nhome_player_Y1     1821\naway_player_Y1     1832\nhome_player_Y2     1821\naway_player_Y2     1832\nhome_player_Y3     1832\naway_player_Y3     1832\nhome_player_Y4     1832\naway_player_Y4     1832\nhome_player_Y5     1832\naway_player_Y5     1832\nhome_player_Y6     1832\naway_player_Y6     1832\nhome_player_Y7     1832\naway_player_Y7     1832\nhome_player_Y8     1832\naway_player_Y8     1832\nhome_player_Y9     1832\naway_player_Y9     1833\nhome_player_Y10    1832\naway_player_Y10    1833\nhome_player_Y11    1832\naway_player_Y11    1839\ndtype: int64"
     },
     "execution_count": 70,
     "metadata": {},
     "output_type": "execute_result"
    }
   ],
   "source": [
    "matches.isnull().sum()"
   ],
   "metadata": {
    "collapsed": false,
    "ExecuteTime": {
     "end_time": "2024-03-28T13:32:10.667314Z",
     "start_time": "2024-03-28T13:32:10.653388Z"
    }
   },
   "id": "b49425acaef1cef8",
   "execution_count": 70
  },
  {
   "cell_type": "markdown",
   "source": [
    "There are a significant number of null values in the home and away player columns. We will analyze the null values by league to determine the extent of the missing data."
   ],
   "metadata": {
    "collapsed": false
   },
   "id": "8a7d33bc9df80619"
  },
  {
   "cell_type": "markdown",
   "source": [],
   "metadata": {
    "collapsed": false
   },
   "id": "d15fe665a3c0dc4"
  },
  {
   "cell_type": "code",
   "outputs": [
    {
     "data": {
      "text/plain": "                           Null  Not Null  Total  Not Null Percentage\nleague_name                                                          \nBelgium Jupiler League     5051     32965  38016            86.713489\nEngland Premier League       80     66800  66880            99.880383\nFrance Ligue 1              197     66683  66880            99.705443\nGermany 1. Bundesliga        90     53766  53856            99.832888\nItaly Serie A               279     66095  66374            99.579655\nNetherlands Eredivisie     4776     49080  53856            91.131907\nPoland Ekstraklasa        12286     29954  42240            70.913826\nPortugal Liga ZON Sagres   3299     41845  45144            92.692274\nScotland Premier League     334     39794  40128            99.167663\nSpain LIGA BBVA             398     66482  66880            99.404904\nSwitzerland Super League   2467     28817  31284            92.114180",
      "text/html": "<div>\n<style scoped>\n    .dataframe tbody tr th:only-of-type {\n        vertical-align: middle;\n    }\n\n    .dataframe tbody tr th {\n        vertical-align: top;\n    }\n\n    .dataframe thead th {\n        text-align: right;\n    }\n</style>\n<table border=\"1\" class=\"dataframe\">\n  <thead>\n    <tr style=\"text-align: right;\">\n      <th></th>\n      <th>Null</th>\n      <th>Not Null</th>\n      <th>Total</th>\n      <th>Not Null Percentage</th>\n    </tr>\n    <tr>\n      <th>league_name</th>\n      <th></th>\n      <th></th>\n      <th></th>\n      <th></th>\n    </tr>\n  </thead>\n  <tbody>\n    <tr>\n      <th>Belgium Jupiler League</th>\n      <td>5051</td>\n      <td>32965</td>\n      <td>38016</td>\n      <td>86.713489</td>\n    </tr>\n    <tr>\n      <th>England Premier League</th>\n      <td>80</td>\n      <td>66800</td>\n      <td>66880</td>\n      <td>99.880383</td>\n    </tr>\n    <tr>\n      <th>France Ligue 1</th>\n      <td>197</td>\n      <td>66683</td>\n      <td>66880</td>\n      <td>99.705443</td>\n    </tr>\n    <tr>\n      <th>Germany 1. Bundesliga</th>\n      <td>90</td>\n      <td>53766</td>\n      <td>53856</td>\n      <td>99.832888</td>\n    </tr>\n    <tr>\n      <th>Italy Serie A</th>\n      <td>279</td>\n      <td>66095</td>\n      <td>66374</td>\n      <td>99.579655</td>\n    </tr>\n    <tr>\n      <th>Netherlands Eredivisie</th>\n      <td>4776</td>\n      <td>49080</td>\n      <td>53856</td>\n      <td>91.131907</td>\n    </tr>\n    <tr>\n      <th>Poland Ekstraklasa</th>\n      <td>12286</td>\n      <td>29954</td>\n      <td>42240</td>\n      <td>70.913826</td>\n    </tr>\n    <tr>\n      <th>Portugal Liga ZON Sagres</th>\n      <td>3299</td>\n      <td>41845</td>\n      <td>45144</td>\n      <td>92.692274</td>\n    </tr>\n    <tr>\n      <th>Scotland Premier League</th>\n      <td>334</td>\n      <td>39794</td>\n      <td>40128</td>\n      <td>99.167663</td>\n    </tr>\n    <tr>\n      <th>Spain LIGA BBVA</th>\n      <td>398</td>\n      <td>66482</td>\n      <td>66880</td>\n      <td>99.404904</td>\n    </tr>\n    <tr>\n      <th>Switzerland Super League</th>\n      <td>2467</td>\n      <td>28817</td>\n      <td>31284</td>\n      <td>92.114180</td>\n    </tr>\n  </tbody>\n</table>\n</div>"
     },
     "execution_count": 71,
     "metadata": {},
     "output_type": "execute_result"
    }
   ],
   "source": [
    "player_columns = [f'home_player_{i}' for i in range(1, 12)] + [f'away_player_{i}' for i in range(1, 12)]\n",
    "\n",
    "null_counts = {\n",
    "    'Null': matches[player_columns].isnull().groupby(matches['league_name']).sum().sum(axis=1),\n",
    "    'Not Null': matches[player_columns].notnull().groupby(matches['league_name']).sum().sum(axis=1)\n",
    "}\n",
    "\n",
    "null_counts_df = pd.DataFrame(null_counts)\n",
    "null_counts_df['Total'] = null_counts_df.sum(axis=1)\n",
    "null_counts_df['Not Null Percentage'] = (null_counts_df['Not Null'] / null_counts_df['Total']) * 100\n",
    "null_counts_df"
   ],
   "metadata": {
    "collapsed": false,
    "ExecuteTime": {
     "end_time": "2024-03-28T13:32:10.696430Z",
     "start_time": "2024-03-28T13:32:10.668308Z"
    }
   },
   "id": "3b52eda8a688c96a",
   "execution_count": 71
  },
  {
   "cell_type": "markdown",
   "source": [
    "We can see from the data that the leagues from Belgium, Netherlands, Poland, and Portugal have a significant amount of missing data regarding the players who participated in the matches."
   ],
   "metadata": {
    "collapsed": false
   },
   "id": "e7fc6ebaf987a8e0"
  },
  {
   "cell_type": "markdown",
   "source": [
    "Our data shows that the football leagues of Spain, England, Germany, France, Italy, and Scotland have the most comprehensive data, making them strong candidates for predictive modeling. However, we must also consider the players' skill levels across these leagues. We aim to avoid modeling significantly different players' skill levels within the same model. To this end, we will look to league levels later in the project. Then, we will decide which leagues can be grouped in the same model and which must be separated. This approach ensures a more accurate, suitable, and efficient analysis and better resource utilization compared to analyzing all leagues simultaneously."
   ],
   "metadata": {
    "collapsed": false
   },
   "id": "86b08a1353b180aa"
  },
  {
   "cell_type": "markdown",
   "source": [
    "- Duplicates"
   ],
   "metadata": {
    "collapsed": false
   },
   "id": "d5984ea9e8623c9"
  },
  {
   "cell_type": "code",
   "outputs": [
    {
     "data": {
      "text/plain": "0"
     },
     "execution_count": 72,
     "metadata": {},
     "output_type": "execute_result"
    }
   ],
   "source": [
    "matches.duplicated().sum()"
   ],
   "metadata": {
    "collapsed": false,
    "ExecuteTime": {
     "end_time": "2024-03-28T13:32:10.764231Z",
     "start_time": "2024-03-28T13:32:10.697431Z"
    }
   },
   "id": "ad4d9019b1c7630a",
   "execution_count": 72
  },
  {
   "cell_type": "markdown",
   "source": [
    "- Date column"
   ],
   "metadata": {
    "collapsed": false
   },
   "id": "c52234c4b6e287db"
  },
  {
   "cell_type": "code",
   "outputs": [],
   "source": [
    "matches['date'] = pd.to_datetime(matches['date'])"
   ],
   "metadata": {
    "collapsed": false,
    "ExecuteTime": {
     "end_time": "2024-03-28T13:32:10.777194Z",
     "start_time": "2024-03-28T13:32:10.765226Z"
    }
   },
   "id": "a9608819cf436a7d",
   "execution_count": 73
  },
  {
   "cell_type": "markdown",
   "source": [
    "- Replacing player ID with overall rating "
   ],
   "metadata": {
    "collapsed": false
   },
   "id": "6b6a7028706de9ae"
  },
  {
   "cell_type": "code",
   "outputs": [],
   "source": [
    "players_sorted = players.sort_values('date', ascending=False)\n",
    "\n",
    "player_ratings = players_sorted.set_index('player_api_id')['overall_rating'].to_dict()\n",
    "player_ages = players_sorted.set_index('player_api_id')['age'].to_dict()\n",
    "\n",
    "for column in player_columns:\n",
    "    matches[column + '_age'] = matches[column].map(player_ages)\n",
    "    matches[column] = matches[column].map(player_ratings)"
   ],
   "metadata": {
    "collapsed": false,
    "ExecuteTime": {
     "end_time": "2024-03-28T13:32:11.392201Z",
     "start_time": "2024-03-28T13:32:10.778192Z"
    }
   },
   "id": "be584c4d294b7894",
   "execution_count": 74
  },
  {
   "cell_type": "markdown",
   "source": [
    "- Result column"
   ],
   "metadata": {
    "collapsed": false
   },
   "id": "dad43770fc80c398"
  },
  {
   "cell_type": "code",
   "outputs": [],
   "source": [
    "conditions = [\n",
    "    (matches['home_team_goal'] > matches['away_team_goal']),\n",
    "    (matches['home_team_goal'] < matches['away_team_goal']),\n",
    "    (matches['home_team_goal'] == matches['away_team_goal'])\n",
    "]\n",
    "\n",
    "choices = ['Win', 'Lose', 'Draw']\n",
    "\n",
    "matches['result'] = np.select(conditions, choices)"
   ],
   "metadata": {
    "collapsed": false,
    "ExecuteTime": {
     "end_time": "2024-03-28T13:32:11.402828Z",
     "start_time": "2024-03-28T13:32:11.394200Z"
    }
   },
   "id": "2db19c79d73cc0a9",
   "execution_count": 75
  },
  {
   "cell_type": "markdown",
   "source": [
    "## Teams"
   ],
   "metadata": {
    "collapsed": false
   },
   "id": "397f7d8323a9e552"
  },
  {
   "cell_type": "markdown",
   "source": [
    "We will now retrieve essential data from the Team and Team_attributes tables. We will limit our selection to only those teams that are part of the four leagues: Spain LIGA BBVA, England Premier League, Germany 1. Bundesliga, and Italy Serie A."
   ],
   "metadata": {
    "collapsed": false
   },
   "id": "1fbe54baf306478e"
  },
  {
   "cell_type": "code",
   "outputs": [],
   "source": [
    "query = \"\"\"\n",
    "SELECT Team.team_long_name, Team_attributes.team_api_id, Team_attributes.date,\n",
    "       Team_attributes.buildUpPlaySpeed, Team_attributes.buildUpPlaySpeedClass, Team_attributes.buildUpPlayDribbling,\n",
    "       Team_attributes.buildUpPlayDribblingClass, Team_attributes.buildUpPlayPassing, Team_attributes.buildUpPlayPassingClass,\n",
    "       Team_attributes.buildUpPlayPositioningClass, Team_attributes.chanceCreationPassing, Team_attributes.chanceCreationPassingClass,\n",
    "       Team_attributes.chanceCreationCrossing, Team_attributes.chanceCreationCrossingClass, Team_attributes.chanceCreationShooting,\n",
    "       Team_attributes.chanceCreationShootingClass, Team_attributes.chanceCreationPositioningClass, Team_attributes.defencePressure,\n",
    "       Team_attributes.defencePressureClass, Team_attributes.defenceAggression, Team_attributes.defenceAggressionClass,\n",
    "       Team_attributes.defenceTeamWidth, Team_attributes.defenceTeamWidthClass, Team_attributes.defenceDefenderLineClass\n",
    "FROM Team_attributes\n",
    "JOIN Team ON Team_attributes.team_api_id = Team.team_api_id\n",
    "WHERE Team_attributes.team_api_id IN (\n",
    "    SELECT home_team_api_id FROM Match WHERE country_id IN (1729, 7809, 10257, 21518)\n",
    "    UNION\n",
    "    SELECT away_team_api_id FROM Match WHERE country_id IN (1729, 7809, 10257, 21518)\n",
    ")\n",
    "\"\"\"\n",
    "team_attributes = pd.read_sql_query(query, conn)"
   ],
   "metadata": {
    "collapsed": false,
    "ExecuteTime": {
     "end_time": "2024-03-28T13:32:11.628171Z",
     "start_time": "2024-03-28T13:32:11.403828Z"
    }
   },
   "id": "982362473e6087ae",
   "execution_count": 76
  },
  {
   "cell_type": "code",
   "outputs": [
    {
     "data": {
      "text/plain": "  team_long_name  team_api_id                 date  buildUpPlaySpeed  \\\n0          Milan         8564  2010-02-22 00:00:00                45   \n1          Milan         8564  2011-02-22 00:00:00                65   \n2          Milan         8564  2012-02-22 00:00:00                45   \n3          Milan         8564  2013-09-20 00:00:00                48   \n4          Milan         8564  2014-09-19 00:00:00                48   \n\n  buildUpPlaySpeedClass  buildUpPlayDribbling buildUpPlayDribblingClass  \\\n0              Balanced                   NaN                    Little   \n1              Balanced                   NaN                    Little   \n2              Balanced                   NaN                    Little   \n3              Balanced                   NaN                    Little   \n4              Balanced                  70.0                      Lots   \n\n   buildUpPlayPassing buildUpPlayPassingClass buildUpPlayPositioningClass  \\\n0                  30                   Short                   Free Form   \n1                  50                   Mixed                   Organised   \n2                  50                   Mixed                   Organised   \n3                  54                   Mixed                   Organised   \n4                  52                   Mixed                   Organised   \n\n   ...  chanceCreationShooting chanceCreationShootingClass  \\\n0  ...                      70                        Lots   \n1  ...                      50                      Normal   \n2  ...                      50                      Normal   \n3  ...                      64                      Normal   \n4  ...                      75                        Lots   \n\n   chanceCreationPositioningClass defencePressure  defencePressureClass  \\\n0                       Free Form              30                  Deep   \n1                       Free Form              50                Medium   \n2                       Free Form              45                Medium   \n3                       Free Form              48                Medium   \n4                       Organised              58                Medium   \n\n  defenceAggression defenceAggressionClass  defenceTeamWidth  \\\n0                35                  Press                60   \n1                50                  Press                50   \n2                45                  Press                50   \n3                49                  Press                53   \n4                57                  Press                49   \n\n  defenceTeamWidthClass  defenceDefenderLineClass  \n0                Normal              Offside Trap  \n1                Normal              Offside Trap  \n2                Normal                     Cover  \n3                Normal                     Cover  \n4                Normal                     Cover  \n\n[5 rows x 24 columns]",
      "text/html": "<div>\n<style scoped>\n    .dataframe tbody tr th:only-of-type {\n        vertical-align: middle;\n    }\n\n    .dataframe tbody tr th {\n        vertical-align: top;\n    }\n\n    .dataframe thead th {\n        text-align: right;\n    }\n</style>\n<table border=\"1\" class=\"dataframe\">\n  <thead>\n    <tr style=\"text-align: right;\">\n      <th></th>\n      <th>team_long_name</th>\n      <th>team_api_id</th>\n      <th>date</th>\n      <th>buildUpPlaySpeed</th>\n      <th>buildUpPlaySpeedClass</th>\n      <th>buildUpPlayDribbling</th>\n      <th>buildUpPlayDribblingClass</th>\n      <th>buildUpPlayPassing</th>\n      <th>buildUpPlayPassingClass</th>\n      <th>buildUpPlayPositioningClass</th>\n      <th>...</th>\n      <th>chanceCreationShooting</th>\n      <th>chanceCreationShootingClass</th>\n      <th>chanceCreationPositioningClass</th>\n      <th>defencePressure</th>\n      <th>defencePressureClass</th>\n      <th>defenceAggression</th>\n      <th>defenceAggressionClass</th>\n      <th>defenceTeamWidth</th>\n      <th>defenceTeamWidthClass</th>\n      <th>defenceDefenderLineClass</th>\n    </tr>\n  </thead>\n  <tbody>\n    <tr>\n      <th>0</th>\n      <td>Milan</td>\n      <td>8564</td>\n      <td>2010-02-22 00:00:00</td>\n      <td>45</td>\n      <td>Balanced</td>\n      <td>NaN</td>\n      <td>Little</td>\n      <td>30</td>\n      <td>Short</td>\n      <td>Free Form</td>\n      <td>...</td>\n      <td>70</td>\n      <td>Lots</td>\n      <td>Free Form</td>\n      <td>30</td>\n      <td>Deep</td>\n      <td>35</td>\n      <td>Press</td>\n      <td>60</td>\n      <td>Normal</td>\n      <td>Offside Trap</td>\n    </tr>\n    <tr>\n      <th>1</th>\n      <td>Milan</td>\n      <td>8564</td>\n      <td>2011-02-22 00:00:00</td>\n      <td>65</td>\n      <td>Balanced</td>\n      <td>NaN</td>\n      <td>Little</td>\n      <td>50</td>\n      <td>Mixed</td>\n      <td>Organised</td>\n      <td>...</td>\n      <td>50</td>\n      <td>Normal</td>\n      <td>Free Form</td>\n      <td>50</td>\n      <td>Medium</td>\n      <td>50</td>\n      <td>Press</td>\n      <td>50</td>\n      <td>Normal</td>\n      <td>Offside Trap</td>\n    </tr>\n    <tr>\n      <th>2</th>\n      <td>Milan</td>\n      <td>8564</td>\n      <td>2012-02-22 00:00:00</td>\n      <td>45</td>\n      <td>Balanced</td>\n      <td>NaN</td>\n      <td>Little</td>\n      <td>50</td>\n      <td>Mixed</td>\n      <td>Organised</td>\n      <td>...</td>\n      <td>50</td>\n      <td>Normal</td>\n      <td>Free Form</td>\n      <td>45</td>\n      <td>Medium</td>\n      <td>45</td>\n      <td>Press</td>\n      <td>50</td>\n      <td>Normal</td>\n      <td>Cover</td>\n    </tr>\n    <tr>\n      <th>3</th>\n      <td>Milan</td>\n      <td>8564</td>\n      <td>2013-09-20 00:00:00</td>\n      <td>48</td>\n      <td>Balanced</td>\n      <td>NaN</td>\n      <td>Little</td>\n      <td>54</td>\n      <td>Mixed</td>\n      <td>Organised</td>\n      <td>...</td>\n      <td>64</td>\n      <td>Normal</td>\n      <td>Free Form</td>\n      <td>48</td>\n      <td>Medium</td>\n      <td>49</td>\n      <td>Press</td>\n      <td>53</td>\n      <td>Normal</td>\n      <td>Cover</td>\n    </tr>\n    <tr>\n      <th>4</th>\n      <td>Milan</td>\n      <td>8564</td>\n      <td>2014-09-19 00:00:00</td>\n      <td>48</td>\n      <td>Balanced</td>\n      <td>70.0</td>\n      <td>Lots</td>\n      <td>52</td>\n      <td>Mixed</td>\n      <td>Organised</td>\n      <td>...</td>\n      <td>75</td>\n      <td>Lots</td>\n      <td>Organised</td>\n      <td>58</td>\n      <td>Medium</td>\n      <td>57</td>\n      <td>Press</td>\n      <td>49</td>\n      <td>Normal</td>\n      <td>Cover</td>\n    </tr>\n  </tbody>\n</table>\n<p>5 rows × 24 columns</p>\n</div>"
     },
     "execution_count": 77,
     "metadata": {},
     "output_type": "execute_result"
    }
   ],
   "source": [
    "team_attributes.head()"
   ],
   "metadata": {
    "collapsed": false,
    "ExecuteTime": {
     "end_time": "2024-03-28T13:32:11.644463Z",
     "start_time": "2024-03-28T13:32:11.629174Z"
    }
   },
   "id": "35d981a406973d9f",
   "execution_count": 77
  },
  {
   "cell_type": "code",
   "outputs": [
    {
     "data": {
      "text/plain": "(733, 24)"
     },
     "execution_count": 78,
     "metadata": {},
     "output_type": "execute_result"
    }
   ],
   "source": [
    "team_attributes.shape"
   ],
   "metadata": {
    "collapsed": false,
    "ExecuteTime": {
     "end_time": "2024-03-28T13:32:11.651956Z",
     "start_time": "2024-03-28T13:32:11.645464Z"
    }
   },
   "id": "22f71d5e38ec09d3",
   "execution_count": 78
  },
  {
   "cell_type": "markdown",
   "source": [
    "- Null values"
   ],
   "metadata": {
    "collapsed": false
   },
   "id": "44dde7835aec2bf0"
  },
  {
   "cell_type": "code",
   "outputs": [
    {
     "data": {
      "text/plain": "team_long_name                      0\nteam_api_id                         0\ndate                                0\nbuildUpPlaySpeed                    0\nbuildUpPlaySpeedClass               0\nbuildUpPlayDribbling              488\nbuildUpPlayDribblingClass           0\nbuildUpPlayPassing                  0\nbuildUpPlayPassingClass             0\nbuildUpPlayPositioningClass         0\nchanceCreationPassing               0\nchanceCreationPassingClass          0\nchanceCreationCrossing              0\nchanceCreationCrossingClass         0\nchanceCreationShooting              0\nchanceCreationShootingClass         0\nchanceCreationPositioningClass      0\ndefencePressure                     0\ndefencePressureClass                0\ndefenceAggression                   0\ndefenceAggressionClass              0\ndefenceTeamWidth                    0\ndefenceTeamWidthClass               0\ndefenceDefenderLineClass            0\ndtype: int64"
     },
     "execution_count": 79,
     "metadata": {},
     "output_type": "execute_result"
    }
   ],
   "source": [
    "team_attributes.isnull().sum()"
   ],
   "metadata": {
    "collapsed": false,
    "ExecuteTime": {
     "end_time": "2024-03-28T13:32:11.662469Z",
     "start_time": "2024-03-28T13:32:11.654951Z"
    }
   },
   "id": "46c6a1c8b1178f7f",
   "execution_count": 79
  },
  {
   "cell_type": "code",
   "outputs": [
    {
     "data": {
      "text/plain": "(733, 24)"
     },
     "execution_count": 80,
     "metadata": {},
     "output_type": "execute_result"
    }
   ],
   "source": [
    "team_attributes.shape"
   ],
   "metadata": {
    "collapsed": false,
    "ExecuteTime": {
     "end_time": "2024-03-28T13:32:11.670400Z",
     "start_time": "2024-03-28T13:32:11.663470Z"
    }
   },
   "id": "4e579fbb32628975",
   "execution_count": 80
  },
  {
   "cell_type": "markdown",
   "source": [
    "We will remove the column buildUpPlayDribbling because it has a lot of missing values. 488/733 are null value"
   ],
   "metadata": {
    "collapsed": false
   },
   "id": "e28b250bd69c59cc"
  },
  {
   "cell_type": "code",
   "outputs": [],
   "source": [
    "team_attributes = team_attributes.drop('buildUpPlayDribbling', axis=1)"
   ],
   "metadata": {
    "collapsed": false,
    "ExecuteTime": {
     "end_time": "2024-03-28T13:32:11.678474Z",
     "start_time": "2024-03-28T13:32:11.672393Z"
    }
   },
   "id": "d2dc8142c554e851",
   "execution_count": 81
  },
  {
   "cell_type": "markdown",
   "source": [
    "- Duplicates"
   ],
   "metadata": {
    "collapsed": false
   },
   "id": "acd587259217955d"
  },
  {
   "cell_type": "code",
   "outputs": [
    {
     "data": {
      "text/plain": "0"
     },
     "execution_count": 82,
     "metadata": {},
     "output_type": "execute_result"
    }
   ],
   "source": [
    "team_attributes.duplicated().sum()"
   ],
   "metadata": {
    "collapsed": false,
    "ExecuteTime": {
     "end_time": "2024-03-28T13:32:11.690648Z",
     "start_time": "2024-03-28T13:32:11.679470Z"
    }
   },
   "id": "1776594a867044c9",
   "execution_count": 82
  },
  {
   "cell_type": "markdown",
   "source": [
    "- Date column"
   ],
   "metadata": {
    "collapsed": false
   },
   "id": "5faf764b29e25da"
  },
  {
   "cell_type": "code",
   "outputs": [],
   "source": [
    "team_attributes['date'] = pd.to_datetime(team_attributes['date'])"
   ],
   "metadata": {
    "collapsed": false,
    "ExecuteTime": {
     "end_time": "2024-03-28T13:32:11.697484Z",
     "start_time": "2024-03-28T13:32:11.691648Z"
    }
   },
   "id": "d373fec5758ad33a",
   "execution_count": 83
  },
  {
   "cell_type": "code",
   "outputs": [
    {
     "data": {
      "text/plain": "             team_long_name  team_api_id       date  buildUpPlaySpeed  \\\n0                     Milan         8564 2010-02-22                45   \n1                     Milan         8564 2011-02-22                65   \n2                     Milan         8564 2012-02-22                45   \n3                     Milan         8564 2013-09-20                48   \n4                     Milan         8564 2014-09-19                48   \n5                     Milan         8564 2015-09-10                48   \n6                UD Almería         9865 2010-02-22                65   \n7                UD Almería         9865 2011-02-22                55   \n8                UD Almería         9865 2012-02-22                42   \n9                UD Almería         9865 2013-09-20                46   \n10               UD Almería         9865 2014-09-19                46   \n11               UD Almería         9865 2015-09-10                46   \n12    DSC Arminia Bielefeld         9912 2010-02-22                40   \n13    DSC Arminia Bielefeld         9912 2011-02-22                46   \n14    DSC Arminia Bielefeld         9912 2014-09-19                62   \n15                  Arsenal         9825 2010-02-22                66   \n16                  Arsenal         9825 2011-02-22                75   \n17                  Arsenal         9825 2012-02-22                25   \n18                  Arsenal         9825 2013-09-20                30   \n19                  Arsenal         9825 2014-09-19                59   \n20                  Arsenal         9825 2015-09-10                59   \n21              Aston Villa        10252 2010-02-22                70   \n22              Aston Villa        10252 2011-02-22                65   \n23              Aston Villa        10252 2012-02-22                67   \n24              Aston Villa        10252 2013-09-20                63   \n25              Aston Villa        10252 2014-09-19                66   \n26              Aston Villa        10252 2015-09-10                63   \n27                 Atalanta         8524 2010-02-22                35   \n28                 Atalanta         8524 2011-02-22                65   \n29                 Atalanta         8524 2012-02-22                40   \n30                 Atalanta         8524 2013-09-20                64   \n31                 Atalanta         8524 2014-09-19                64   \n32                 Atalanta         8524 2015-09-10                64   \n33  Athletic Club de Bilbao         8315 2010-02-22                60   \n34  Athletic Club de Bilbao         8315 2011-02-22                70   \n35  Athletic Club de Bilbao         8315 2012-02-22                42   \n36  Athletic Club de Bilbao         8315 2013-09-20                46   \n37  Athletic Club de Bilbao         8315 2014-09-19                46   \n38  Athletic Club de Bilbao         8315 2015-09-10                46   \n39          Atlético Madrid         9906 2010-02-22                64   \n40          Atlético Madrid         9906 2011-02-22                57   \n41          Atlético Madrid         9906 2012-02-22                47   \n42          Atlético Madrid         9906 2013-09-20                47   \n43          Atlético Madrid         9906 2014-09-19                47   \n44          Atlético Madrid         9906 2015-09-10                57   \n45              FC Augsburg         8406 2010-02-22                45   \n46              FC Augsburg         8406 2011-02-22                68   \n47              FC Augsburg         8406 2012-02-22                55   \n48              FC Augsburg         8406 2013-09-20                40   \n49              FC Augsburg         8406 2014-09-19                62   \n\n   buildUpPlaySpeedClass buildUpPlayDribblingClass  buildUpPlayPassing  \\\n0               Balanced                    Little                  30   \n1               Balanced                    Little                  50   \n2               Balanced                    Little                  50   \n3               Balanced                    Little                  54   \n4               Balanced                      Lots                  52   \n5               Balanced                      Lots                  52   \n6               Balanced                    Little                  45   \n7               Balanced                    Little                  53   \n8               Balanced                    Little                  70   \n9               Balanced                    Little                  65   \n10              Balanced                    Normal                  65   \n11              Balanced                    Normal                  65   \n12              Balanced                    Little                  65   \n13              Balanced                    Little                  58   \n14              Balanced                    Normal                  55   \n15              Balanced                    Little                  30   \n16                  Fast                    Little                  40   \n17                  Slow                    Little                  32   \n18                  Slow                    Little                  29   \n19              Balanced                    Normal                  26   \n20              Balanced                    Normal                  30   \n21                  Fast                    Little                  59   \n22              Balanced                    Little                  50   \n23                  Fast                    Little                  58   \n24              Balanced                    Little                  59   \n25              Balanced                    Little                  72   \n26              Balanced                    Normal                  54   \n27              Balanced                    Little                  40   \n28              Balanced                    Little                  50   \n29              Balanced                    Little                  50   \n30              Balanced                    Little                  36   \n31              Balanced                    Normal                  37   \n32              Balanced                    Normal                  37   \n33              Balanced                    Little                  45   \n34                  Fast                    Little                  69   \n35              Balanced                    Little                  59   \n36              Balanced                    Little                  38   \n37              Balanced                    Normal                  38   \n38              Balanced                    Normal                  39   \n39              Balanced                    Little                  30   \n40              Balanced                    Little                  54   \n41              Balanced                    Little                  51   \n42              Balanced                    Little                  51   \n43              Balanced                    Normal                  51   \n44              Balanced                    Normal                  50   \n45              Balanced                    Little                  45   \n46                  Fast                    Little                  40   \n47              Balanced                    Little                  55   \n48              Balanced                    Little                  55   \n49              Balanced                    Normal                  69   \n\n   buildUpPlayPassingClass buildUpPlayPositioningClass  chanceCreationPassing  \\\n0                    Short                   Free Form                     55   \n1                    Mixed                   Organised                     50   \n2                    Mixed                   Organised                     65   \n3                    Mixed                   Organised                     51   \n4                    Mixed                   Organised                     66   \n5                    Mixed                   Organised                     66   \n6                    Mixed                   Organised                     45   \n7                    Mixed                   Organised                     57   \n8                     Long                   Organised                     57   \n9                    Mixed                   Organised                     57   \n10                   Mixed                   Organised                     57   \n11                   Mixed                   Organised                     57   \n12                   Mixed                   Organised                     45   \n13                   Mixed                   Organised                     45   \n14                   Mixed                   Organised                     56   \n15                   Short                   Free Form                     30   \n16                   Mixed                   Free Form                     40   \n17                   Short                   Organised                     41   \n18                   Short                   Organised                     41   \n19                   Short                   Organised                     28   \n20                   Short                   Organised                     28   \n21                   Mixed                   Organised                     65   \n22                   Mixed                   Organised                     45   \n23                   Mixed                   Organised                     44   \n24                   Mixed                   Organised                     52   \n25                    Long                   Organised                     63   \n26                   Mixed                   Organised                     60   \n27                   Mixed                   Organised                     35   \n28                   Mixed                   Organised                     50   \n29                   Mixed                   Organised                     53   \n30                   Mixed                   Organised                     38   \n31                   Mixed                   Organised                     38   \n32                   Mixed                   Organised                     38   \n33                   Mixed                   Organised                     35   \n34                    Long                   Organised                     55   \n35                   Mixed                   Organised                     36   \n36                   Mixed                   Organised                     52   \n37                   Mixed                   Organised                     52   \n38                   Mixed                   Organised                     50   \n39                   Short                   Free Form                     65   \n40                   Mixed                   Organised                     58   \n41                   Mixed                   Organised                     67   \n42                   Mixed                   Organised                     70   \n43                   Mixed                   Organised                     67   \n44                   Mixed                   Organised                     61   \n45                   Mixed                   Organised                     35   \n46                   Mixed                   Organised                     52   \n47                   Mixed                   Organised                     49   \n48                   Mixed                   Organised                     49   \n49                    Long                   Organised                     41   \n\n    ... chanceCreationShooting  chanceCreationShootingClass  \\\n0   ...                     70                         Lots   \n1   ...                     50                       Normal   \n2   ...                     50                       Normal   \n3   ...                     64                       Normal   \n4   ...                     75                         Lots   \n5   ...                     69                         Lots   \n6   ...                     70                         Lots   \n7   ...                     69                         Lots   \n8   ...                     40                       Normal   \n9   ...                     40                       Normal   \n10  ...                     40                       Normal   \n11  ...                     40                       Normal   \n12  ...                     50                       Normal   \n13  ...                     42                       Normal   \n14  ...                     52                       Normal   \n15  ...                     35                       Normal   \n16  ...                     65                       Normal   \n17  ...                     30                       Little   \n18  ...                     39                       Normal   \n19  ...                     64                       Normal   \n20  ...                     46                       Normal   \n21  ...                     50                       Normal   \n22  ...                     50                       Normal   \n23  ...                     56                       Normal   \n24  ...                     34                       Normal   \n25  ...                     56                       Normal   \n26  ...                     38                       Normal   \n27  ...                     55                       Normal   \n28  ...                     55                       Normal   \n29  ...                     50                       Normal   \n30  ...                     51                       Normal   \n31  ...                     51                       Normal   \n32  ...                     51                       Normal   \n33  ...                     55                       Normal   \n34  ...                     57                       Normal   \n35  ...                     59                       Normal   \n36  ...                     37                       Normal   \n37  ...                     37                       Normal   \n38  ...                     36                       Normal   \n39  ...                     70                         Lots   \n40  ...                     79                         Lots   \n41  ...                     54                       Normal   \n42  ...                     54                       Normal   \n43  ...                     54                       Normal   \n44  ...                     49                       Normal   \n45  ...                     70                         Lots   \n46  ...                     72                         Lots   \n47  ...                     55                       Normal   \n48  ...                     53                       Normal   \n49  ...                     56                       Normal   \n\n   chanceCreationPositioningClass  defencePressure defencePressureClass  \\\n0                       Free Form               30                 Deep   \n1                       Free Form               50               Medium   \n2                       Free Form               45               Medium   \n3                       Free Form               48               Medium   \n4                       Organised               58               Medium   \n5                       Organised               58               Medium   \n6                       Organised               70                 High   \n7                       Organised               58               Medium   \n8                       Organised               37               Medium   \n9                       Organised               37               Medium   \n10                      Organised               37               Medium   \n11                      Organised               37               Medium   \n12                      Organised               45               Medium   \n13                      Organised               38               Medium   \n14                      Organised               36               Medium   \n15                      Free Form               30                 Deep   \n16                      Free Form               50               Medium   \n17                      Free Form               57               Medium   \n18                      Free Form               64               Medium   \n19                      Free Form               51               Medium   \n20                      Free Form               51               Medium   \n21                      Free Form               30                 Deep   \n22                      Organised               35               Medium   \n23                      Organised               43               Medium   \n24                      Organised               39               Medium   \n25                      Organised               39               Medium   \n26                      Organised               35               Medium   \n27                      Organised               30                 Deep   \n28                      Organised               45               Medium   \n29                      Organised               55               Medium   \n30                      Free Form               54               Medium   \n31                      Organised               36               Medium   \n32                      Organised               36               Medium   \n33                      Organised               30                 Deep   \n34                      Organised               48               Medium   \n35                      Organised               37               Medium   \n36                      Free Form               37               Medium   \n37                      Organised               37               Medium   \n38                      Free Form               49               Medium   \n39                      Free Form               70                 High   \n40                      Organised               58               Medium   \n41                      Organised               52               Medium   \n42                      Organised               52               Medium   \n43                      Organised               52               Medium   \n44                      Organised               49               Medium   \n45                      Organised               45               Medium   \n46                      Organised               59               Medium   \n47                      Organised               47               Medium   \n48                      Organised               33                 Deep   \n49                      Organised               47               Medium   \n\n   defenceAggression  defenceAggressionClass defenceTeamWidth  \\\n0                 35                   Press               60   \n1                 50                   Press               50   \n2                 45                   Press               50   \n3                 49                   Press               53   \n4                 57                   Press               49   \n5                 57                   Press               49   \n6                 65                   Press               30   \n7                 68                  Double               67   \n8                 53                   Press               45   \n9                 53                   Press               45   \n10                53                   Press               45   \n11                53                   Press               45   \n12                40                   Press               50   \n13                48                   Press               50   \n14                54                   Press               48   \n15                40                   Press               50   \n16                40                   Press               45   \n17                57                   Press               52   \n18                54                   Press               52   \n19                44                   Press               52   \n20                44                   Press               52   \n21                70                  Double               30   \n22                45                   Press               65   \n23                50                   Press               52   \n24                41                   Press               54   \n25                42                   Press               52   \n26                44                   Press               54   \n27                30                 Contain               55   \n28                55                   Press               65   \n29                42                   Press               50   \n30                53                   Press               49   \n31                66                   Press               49   \n32                63                   Press               49   \n33                70                  Double               35   \n34                67                  Double               55   \n35                60                   Press               68   \n36                60                   Press               68   \n37                60                   Press               65   \n38                57                   Press               50   \n39                34                   Press               55   \n40                48                   Press               54   \n41                37                   Press               55   \n42                37                   Press               55   \n43                37                   Press               55   \n44                42                   Press               52   \n45                55                   Press               45   \n46                49                   Press               42   \n47                58                   Press               56   \n48                43                   Press               52   \n49                55                   Press               52   \n\n    defenceTeamWidthClass defenceDefenderLineClass  \n0                  Normal             Offside Trap  \n1                  Normal             Offside Trap  \n2                  Normal                    Cover  \n3                  Normal                    Cover  \n4                  Normal                    Cover  \n5                  Normal                    Cover  \n6                  Narrow                    Cover  \n7                    Wide                    Cover  \n8                  Normal                    Cover  \n9                  Normal                    Cover  \n10                 Normal                    Cover  \n11                 Normal                    Cover  \n12                 Normal                    Cover  \n13                 Normal                    Cover  \n14                 Normal                    Cover  \n15                 Normal                    Cover  \n16                 Normal                    Cover  \n17                 Normal                    Cover  \n18                 Normal                    Cover  \n19                 Normal                    Cover  \n20                 Normal                    Cover  \n21                 Narrow                    Cover  \n22                 Normal                    Cover  \n23                 Normal                    Cover  \n24                 Normal                    Cover  \n25                 Normal                    Cover  \n26                 Normal                    Cover  \n27                 Normal             Offside Trap  \n28                 Normal                    Cover  \n29                 Normal                    Cover  \n30                 Normal                    Cover  \n31                 Normal                    Cover  \n32                 Normal                    Cover  \n33                 Normal                    Cover  \n34                 Normal                    Cover  \n35                   Wide                    Cover  \n36                   Wide                    Cover  \n37                 Normal                    Cover  \n38                 Normal                    Cover  \n39                 Normal             Offside Trap  \n40                 Normal                    Cover  \n41                 Normal                    Cover  \n42                 Normal                    Cover  \n43                 Normal                    Cover  \n44                 Normal                    Cover  \n45                 Normal                    Cover  \n46                 Normal                    Cover  \n47                 Normal                    Cover  \n48                 Normal                    Cover  \n49                 Normal                    Cover  \n\n[50 rows x 23 columns]",
      "text/html": "<div>\n<style scoped>\n    .dataframe tbody tr th:only-of-type {\n        vertical-align: middle;\n    }\n\n    .dataframe tbody tr th {\n        vertical-align: top;\n    }\n\n    .dataframe thead th {\n        text-align: right;\n    }\n</style>\n<table border=\"1\" class=\"dataframe\">\n  <thead>\n    <tr style=\"text-align: right;\">\n      <th></th>\n      <th>team_long_name</th>\n      <th>team_api_id</th>\n      <th>date</th>\n      <th>buildUpPlaySpeed</th>\n      <th>buildUpPlaySpeedClass</th>\n      <th>buildUpPlayDribblingClass</th>\n      <th>buildUpPlayPassing</th>\n      <th>buildUpPlayPassingClass</th>\n      <th>buildUpPlayPositioningClass</th>\n      <th>chanceCreationPassing</th>\n      <th>...</th>\n      <th>chanceCreationShooting</th>\n      <th>chanceCreationShootingClass</th>\n      <th>chanceCreationPositioningClass</th>\n      <th>defencePressure</th>\n      <th>defencePressureClass</th>\n      <th>defenceAggression</th>\n      <th>defenceAggressionClass</th>\n      <th>defenceTeamWidth</th>\n      <th>defenceTeamWidthClass</th>\n      <th>defenceDefenderLineClass</th>\n    </tr>\n  </thead>\n  <tbody>\n    <tr>\n      <th>0</th>\n      <td>Milan</td>\n      <td>8564</td>\n      <td>2010-02-22</td>\n      <td>45</td>\n      <td>Balanced</td>\n      <td>Little</td>\n      <td>30</td>\n      <td>Short</td>\n      <td>Free Form</td>\n      <td>55</td>\n      <td>...</td>\n      <td>70</td>\n      <td>Lots</td>\n      <td>Free Form</td>\n      <td>30</td>\n      <td>Deep</td>\n      <td>35</td>\n      <td>Press</td>\n      <td>60</td>\n      <td>Normal</td>\n      <td>Offside Trap</td>\n    </tr>\n    <tr>\n      <th>1</th>\n      <td>Milan</td>\n      <td>8564</td>\n      <td>2011-02-22</td>\n      <td>65</td>\n      <td>Balanced</td>\n      <td>Little</td>\n      <td>50</td>\n      <td>Mixed</td>\n      <td>Organised</td>\n      <td>50</td>\n      <td>...</td>\n      <td>50</td>\n      <td>Normal</td>\n      <td>Free Form</td>\n      <td>50</td>\n      <td>Medium</td>\n      <td>50</td>\n      <td>Press</td>\n      <td>50</td>\n      <td>Normal</td>\n      <td>Offside Trap</td>\n    </tr>\n    <tr>\n      <th>2</th>\n      <td>Milan</td>\n      <td>8564</td>\n      <td>2012-02-22</td>\n      <td>45</td>\n      <td>Balanced</td>\n      <td>Little</td>\n      <td>50</td>\n      <td>Mixed</td>\n      <td>Organised</td>\n      <td>65</td>\n      <td>...</td>\n      <td>50</td>\n      <td>Normal</td>\n      <td>Free Form</td>\n      <td>45</td>\n      <td>Medium</td>\n      <td>45</td>\n      <td>Press</td>\n      <td>50</td>\n      <td>Normal</td>\n      <td>Cover</td>\n    </tr>\n    <tr>\n      <th>3</th>\n      <td>Milan</td>\n      <td>8564</td>\n      <td>2013-09-20</td>\n      <td>48</td>\n      <td>Balanced</td>\n      <td>Little</td>\n      <td>54</td>\n      <td>Mixed</td>\n      <td>Organised</td>\n      <td>51</td>\n      <td>...</td>\n      <td>64</td>\n      <td>Normal</td>\n      <td>Free Form</td>\n      <td>48</td>\n      <td>Medium</td>\n      <td>49</td>\n      <td>Press</td>\n      <td>53</td>\n      <td>Normal</td>\n      <td>Cover</td>\n    </tr>\n    <tr>\n      <th>4</th>\n      <td>Milan</td>\n      <td>8564</td>\n      <td>2014-09-19</td>\n      <td>48</td>\n      <td>Balanced</td>\n      <td>Lots</td>\n      <td>52</td>\n      <td>Mixed</td>\n      <td>Organised</td>\n      <td>66</td>\n      <td>...</td>\n      <td>75</td>\n      <td>Lots</td>\n      <td>Organised</td>\n      <td>58</td>\n      <td>Medium</td>\n      <td>57</td>\n      <td>Press</td>\n      <td>49</td>\n      <td>Normal</td>\n      <td>Cover</td>\n    </tr>\n    <tr>\n      <th>5</th>\n      <td>Milan</td>\n      <td>8564</td>\n      <td>2015-09-10</td>\n      <td>48</td>\n      <td>Balanced</td>\n      <td>Lots</td>\n      <td>52</td>\n      <td>Mixed</td>\n      <td>Organised</td>\n      <td>66</td>\n      <td>...</td>\n      <td>69</td>\n      <td>Lots</td>\n      <td>Organised</td>\n      <td>58</td>\n      <td>Medium</td>\n      <td>57</td>\n      <td>Press</td>\n      <td>49</td>\n      <td>Normal</td>\n      <td>Cover</td>\n    </tr>\n    <tr>\n      <th>6</th>\n      <td>UD Almería</td>\n      <td>9865</td>\n      <td>2010-02-22</td>\n      <td>65</td>\n      <td>Balanced</td>\n      <td>Little</td>\n      <td>45</td>\n      <td>Mixed</td>\n      <td>Organised</td>\n      <td>45</td>\n      <td>...</td>\n      <td>70</td>\n      <td>Lots</td>\n      <td>Organised</td>\n      <td>70</td>\n      <td>High</td>\n      <td>65</td>\n      <td>Press</td>\n      <td>30</td>\n      <td>Narrow</td>\n      <td>Cover</td>\n    </tr>\n    <tr>\n      <th>7</th>\n      <td>UD Almería</td>\n      <td>9865</td>\n      <td>2011-02-22</td>\n      <td>55</td>\n      <td>Balanced</td>\n      <td>Little</td>\n      <td>53</td>\n      <td>Mixed</td>\n      <td>Organised</td>\n      <td>57</td>\n      <td>...</td>\n      <td>69</td>\n      <td>Lots</td>\n      <td>Organised</td>\n      <td>58</td>\n      <td>Medium</td>\n      <td>68</td>\n      <td>Double</td>\n      <td>67</td>\n      <td>Wide</td>\n      <td>Cover</td>\n    </tr>\n    <tr>\n      <th>8</th>\n      <td>UD Almería</td>\n      <td>9865</td>\n      <td>2012-02-22</td>\n      <td>42</td>\n      <td>Balanced</td>\n      <td>Little</td>\n      <td>70</td>\n      <td>Long</td>\n      <td>Organised</td>\n      <td>57</td>\n      <td>...</td>\n      <td>40</td>\n      <td>Normal</td>\n      <td>Organised</td>\n      <td>37</td>\n      <td>Medium</td>\n      <td>53</td>\n      <td>Press</td>\n      <td>45</td>\n      <td>Normal</td>\n      <td>Cover</td>\n    </tr>\n    <tr>\n      <th>9</th>\n      <td>UD Almería</td>\n      <td>9865</td>\n      <td>2013-09-20</td>\n      <td>46</td>\n      <td>Balanced</td>\n      <td>Little</td>\n      <td>65</td>\n      <td>Mixed</td>\n      <td>Organised</td>\n      <td>57</td>\n      <td>...</td>\n      <td>40</td>\n      <td>Normal</td>\n      <td>Organised</td>\n      <td>37</td>\n      <td>Medium</td>\n      <td>53</td>\n      <td>Press</td>\n      <td>45</td>\n      <td>Normal</td>\n      <td>Cover</td>\n    </tr>\n    <tr>\n      <th>10</th>\n      <td>UD Almería</td>\n      <td>9865</td>\n      <td>2014-09-19</td>\n      <td>46</td>\n      <td>Balanced</td>\n      <td>Normal</td>\n      <td>65</td>\n      <td>Mixed</td>\n      <td>Organised</td>\n      <td>57</td>\n      <td>...</td>\n      <td>40</td>\n      <td>Normal</td>\n      <td>Organised</td>\n      <td>37</td>\n      <td>Medium</td>\n      <td>53</td>\n      <td>Press</td>\n      <td>45</td>\n      <td>Normal</td>\n      <td>Cover</td>\n    </tr>\n    <tr>\n      <th>11</th>\n      <td>UD Almería</td>\n      <td>9865</td>\n      <td>2015-09-10</td>\n      <td>46</td>\n      <td>Balanced</td>\n      <td>Normal</td>\n      <td>65</td>\n      <td>Mixed</td>\n      <td>Organised</td>\n      <td>57</td>\n      <td>...</td>\n      <td>40</td>\n      <td>Normal</td>\n      <td>Organised</td>\n      <td>37</td>\n      <td>Medium</td>\n      <td>53</td>\n      <td>Press</td>\n      <td>45</td>\n      <td>Normal</td>\n      <td>Cover</td>\n    </tr>\n    <tr>\n      <th>12</th>\n      <td>DSC Arminia Bielefeld</td>\n      <td>9912</td>\n      <td>2010-02-22</td>\n      <td>40</td>\n      <td>Balanced</td>\n      <td>Little</td>\n      <td>65</td>\n      <td>Mixed</td>\n      <td>Organised</td>\n      <td>45</td>\n      <td>...</td>\n      <td>50</td>\n      <td>Normal</td>\n      <td>Organised</td>\n      <td>45</td>\n      <td>Medium</td>\n      <td>40</td>\n      <td>Press</td>\n      <td>50</td>\n      <td>Normal</td>\n      <td>Cover</td>\n    </tr>\n    <tr>\n      <th>13</th>\n      <td>DSC Arminia Bielefeld</td>\n      <td>9912</td>\n      <td>2011-02-22</td>\n      <td>46</td>\n      <td>Balanced</td>\n      <td>Little</td>\n      <td>58</td>\n      <td>Mixed</td>\n      <td>Organised</td>\n      <td>45</td>\n      <td>...</td>\n      <td>42</td>\n      <td>Normal</td>\n      <td>Organised</td>\n      <td>38</td>\n      <td>Medium</td>\n      <td>48</td>\n      <td>Press</td>\n      <td>50</td>\n      <td>Normal</td>\n      <td>Cover</td>\n    </tr>\n    <tr>\n      <th>14</th>\n      <td>DSC Arminia Bielefeld</td>\n      <td>9912</td>\n      <td>2014-09-19</td>\n      <td>62</td>\n      <td>Balanced</td>\n      <td>Normal</td>\n      <td>55</td>\n      <td>Mixed</td>\n      <td>Organised</td>\n      <td>56</td>\n      <td>...</td>\n      <td>52</td>\n      <td>Normal</td>\n      <td>Organised</td>\n      <td>36</td>\n      <td>Medium</td>\n      <td>54</td>\n      <td>Press</td>\n      <td>48</td>\n      <td>Normal</td>\n      <td>Cover</td>\n    </tr>\n    <tr>\n      <th>15</th>\n      <td>Arsenal</td>\n      <td>9825</td>\n      <td>2010-02-22</td>\n      <td>66</td>\n      <td>Balanced</td>\n      <td>Little</td>\n      <td>30</td>\n      <td>Short</td>\n      <td>Free Form</td>\n      <td>30</td>\n      <td>...</td>\n      <td>35</td>\n      <td>Normal</td>\n      <td>Free Form</td>\n      <td>30</td>\n      <td>Deep</td>\n      <td>40</td>\n      <td>Press</td>\n      <td>50</td>\n      <td>Normal</td>\n      <td>Cover</td>\n    </tr>\n    <tr>\n      <th>16</th>\n      <td>Arsenal</td>\n      <td>9825</td>\n      <td>2011-02-22</td>\n      <td>75</td>\n      <td>Fast</td>\n      <td>Little</td>\n      <td>40</td>\n      <td>Mixed</td>\n      <td>Free Form</td>\n      <td>40</td>\n      <td>...</td>\n      <td>65</td>\n      <td>Normal</td>\n      <td>Free Form</td>\n      <td>50</td>\n      <td>Medium</td>\n      <td>40</td>\n      <td>Press</td>\n      <td>45</td>\n      <td>Normal</td>\n      <td>Cover</td>\n    </tr>\n    <tr>\n      <th>17</th>\n      <td>Arsenal</td>\n      <td>9825</td>\n      <td>2012-02-22</td>\n      <td>25</td>\n      <td>Slow</td>\n      <td>Little</td>\n      <td>32</td>\n      <td>Short</td>\n      <td>Organised</td>\n      <td>41</td>\n      <td>...</td>\n      <td>30</td>\n      <td>Little</td>\n      <td>Free Form</td>\n      <td>57</td>\n      <td>Medium</td>\n      <td>57</td>\n      <td>Press</td>\n      <td>52</td>\n      <td>Normal</td>\n      <td>Cover</td>\n    </tr>\n    <tr>\n      <th>18</th>\n      <td>Arsenal</td>\n      <td>9825</td>\n      <td>2013-09-20</td>\n      <td>30</td>\n      <td>Slow</td>\n      <td>Little</td>\n      <td>29</td>\n      <td>Short</td>\n      <td>Organised</td>\n      <td>41</td>\n      <td>...</td>\n      <td>39</td>\n      <td>Normal</td>\n      <td>Free Form</td>\n      <td>64</td>\n      <td>Medium</td>\n      <td>54</td>\n      <td>Press</td>\n      <td>52</td>\n      <td>Normal</td>\n      <td>Cover</td>\n    </tr>\n    <tr>\n      <th>19</th>\n      <td>Arsenal</td>\n      <td>9825</td>\n      <td>2014-09-19</td>\n      <td>59</td>\n      <td>Balanced</td>\n      <td>Normal</td>\n      <td>26</td>\n      <td>Short</td>\n      <td>Organised</td>\n      <td>28</td>\n      <td>...</td>\n      <td>64</td>\n      <td>Normal</td>\n      <td>Free Form</td>\n      <td>51</td>\n      <td>Medium</td>\n      <td>44</td>\n      <td>Press</td>\n      <td>52</td>\n      <td>Normal</td>\n      <td>Cover</td>\n    </tr>\n    <tr>\n      <th>20</th>\n      <td>Arsenal</td>\n      <td>9825</td>\n      <td>2015-09-10</td>\n      <td>59</td>\n      <td>Balanced</td>\n      <td>Normal</td>\n      <td>30</td>\n      <td>Short</td>\n      <td>Organised</td>\n      <td>28</td>\n      <td>...</td>\n      <td>46</td>\n      <td>Normal</td>\n      <td>Free Form</td>\n      <td>51</td>\n      <td>Medium</td>\n      <td>44</td>\n      <td>Press</td>\n      <td>52</td>\n      <td>Normal</td>\n      <td>Cover</td>\n    </tr>\n    <tr>\n      <th>21</th>\n      <td>Aston Villa</td>\n      <td>10252</td>\n      <td>2010-02-22</td>\n      <td>70</td>\n      <td>Fast</td>\n      <td>Little</td>\n      <td>59</td>\n      <td>Mixed</td>\n      <td>Organised</td>\n      <td>65</td>\n      <td>...</td>\n      <td>50</td>\n      <td>Normal</td>\n      <td>Free Form</td>\n      <td>30</td>\n      <td>Deep</td>\n      <td>70</td>\n      <td>Double</td>\n      <td>30</td>\n      <td>Narrow</td>\n      <td>Cover</td>\n    </tr>\n    <tr>\n      <th>22</th>\n      <td>Aston Villa</td>\n      <td>10252</td>\n      <td>2011-02-22</td>\n      <td>65</td>\n      <td>Balanced</td>\n      <td>Little</td>\n      <td>50</td>\n      <td>Mixed</td>\n      <td>Organised</td>\n      <td>45</td>\n      <td>...</td>\n      <td>50</td>\n      <td>Normal</td>\n      <td>Organised</td>\n      <td>35</td>\n      <td>Medium</td>\n      <td>45</td>\n      <td>Press</td>\n      <td>65</td>\n      <td>Normal</td>\n      <td>Cover</td>\n    </tr>\n    <tr>\n      <th>23</th>\n      <td>Aston Villa</td>\n      <td>10252</td>\n      <td>2012-02-22</td>\n      <td>67</td>\n      <td>Fast</td>\n      <td>Little</td>\n      <td>58</td>\n      <td>Mixed</td>\n      <td>Organised</td>\n      <td>44</td>\n      <td>...</td>\n      <td>56</td>\n      <td>Normal</td>\n      <td>Organised</td>\n      <td>43</td>\n      <td>Medium</td>\n      <td>50</td>\n      <td>Press</td>\n      <td>52</td>\n      <td>Normal</td>\n      <td>Cover</td>\n    </tr>\n    <tr>\n      <th>24</th>\n      <td>Aston Villa</td>\n      <td>10252</td>\n      <td>2013-09-20</td>\n      <td>63</td>\n      <td>Balanced</td>\n      <td>Little</td>\n      <td>59</td>\n      <td>Mixed</td>\n      <td>Organised</td>\n      <td>52</td>\n      <td>...</td>\n      <td>34</td>\n      <td>Normal</td>\n      <td>Organised</td>\n      <td>39</td>\n      <td>Medium</td>\n      <td>41</td>\n      <td>Press</td>\n      <td>54</td>\n      <td>Normal</td>\n      <td>Cover</td>\n    </tr>\n    <tr>\n      <th>25</th>\n      <td>Aston Villa</td>\n      <td>10252</td>\n      <td>2014-09-19</td>\n      <td>66</td>\n      <td>Balanced</td>\n      <td>Little</td>\n      <td>72</td>\n      <td>Long</td>\n      <td>Organised</td>\n      <td>63</td>\n      <td>...</td>\n      <td>56</td>\n      <td>Normal</td>\n      <td>Organised</td>\n      <td>39</td>\n      <td>Medium</td>\n      <td>42</td>\n      <td>Press</td>\n      <td>52</td>\n      <td>Normal</td>\n      <td>Cover</td>\n    </tr>\n    <tr>\n      <th>26</th>\n      <td>Aston Villa</td>\n      <td>10252</td>\n      <td>2015-09-10</td>\n      <td>63</td>\n      <td>Balanced</td>\n      <td>Normal</td>\n      <td>54</td>\n      <td>Mixed</td>\n      <td>Organised</td>\n      <td>60</td>\n      <td>...</td>\n      <td>38</td>\n      <td>Normal</td>\n      <td>Organised</td>\n      <td>35</td>\n      <td>Medium</td>\n      <td>44</td>\n      <td>Press</td>\n      <td>54</td>\n      <td>Normal</td>\n      <td>Cover</td>\n    </tr>\n    <tr>\n      <th>27</th>\n      <td>Atalanta</td>\n      <td>8524</td>\n      <td>2010-02-22</td>\n      <td>35</td>\n      <td>Balanced</td>\n      <td>Little</td>\n      <td>40</td>\n      <td>Mixed</td>\n      <td>Organised</td>\n      <td>35</td>\n      <td>...</td>\n      <td>55</td>\n      <td>Normal</td>\n      <td>Organised</td>\n      <td>30</td>\n      <td>Deep</td>\n      <td>30</td>\n      <td>Contain</td>\n      <td>55</td>\n      <td>Normal</td>\n      <td>Offside Trap</td>\n    </tr>\n    <tr>\n      <th>28</th>\n      <td>Atalanta</td>\n      <td>8524</td>\n      <td>2011-02-22</td>\n      <td>65</td>\n      <td>Balanced</td>\n      <td>Little</td>\n      <td>50</td>\n      <td>Mixed</td>\n      <td>Organised</td>\n      <td>50</td>\n      <td>...</td>\n      <td>55</td>\n      <td>Normal</td>\n      <td>Organised</td>\n      <td>45</td>\n      <td>Medium</td>\n      <td>55</td>\n      <td>Press</td>\n      <td>65</td>\n      <td>Normal</td>\n      <td>Cover</td>\n    </tr>\n    <tr>\n      <th>29</th>\n      <td>Atalanta</td>\n      <td>8524</td>\n      <td>2012-02-22</td>\n      <td>40</td>\n      <td>Balanced</td>\n      <td>Little</td>\n      <td>50</td>\n      <td>Mixed</td>\n      <td>Organised</td>\n      <td>53</td>\n      <td>...</td>\n      <td>50</td>\n      <td>Normal</td>\n      <td>Organised</td>\n      <td>55</td>\n      <td>Medium</td>\n      <td>42</td>\n      <td>Press</td>\n      <td>50</td>\n      <td>Normal</td>\n      <td>Cover</td>\n    </tr>\n    <tr>\n      <th>30</th>\n      <td>Atalanta</td>\n      <td>8524</td>\n      <td>2013-09-20</td>\n      <td>64</td>\n      <td>Balanced</td>\n      <td>Little</td>\n      <td>36</td>\n      <td>Mixed</td>\n      <td>Organised</td>\n      <td>38</td>\n      <td>...</td>\n      <td>51</td>\n      <td>Normal</td>\n      <td>Free Form</td>\n      <td>54</td>\n      <td>Medium</td>\n      <td>53</td>\n      <td>Press</td>\n      <td>49</td>\n      <td>Normal</td>\n      <td>Cover</td>\n    </tr>\n    <tr>\n      <th>31</th>\n      <td>Atalanta</td>\n      <td>8524</td>\n      <td>2014-09-19</td>\n      <td>64</td>\n      <td>Balanced</td>\n      <td>Normal</td>\n      <td>37</td>\n      <td>Mixed</td>\n      <td>Organised</td>\n      <td>38</td>\n      <td>...</td>\n      <td>51</td>\n      <td>Normal</td>\n      <td>Organised</td>\n      <td>36</td>\n      <td>Medium</td>\n      <td>66</td>\n      <td>Press</td>\n      <td>49</td>\n      <td>Normal</td>\n      <td>Cover</td>\n    </tr>\n    <tr>\n      <th>32</th>\n      <td>Atalanta</td>\n      <td>8524</td>\n      <td>2015-09-10</td>\n      <td>64</td>\n      <td>Balanced</td>\n      <td>Normal</td>\n      <td>37</td>\n      <td>Mixed</td>\n      <td>Organised</td>\n      <td>38</td>\n      <td>...</td>\n      <td>51</td>\n      <td>Normal</td>\n      <td>Organised</td>\n      <td>36</td>\n      <td>Medium</td>\n      <td>63</td>\n      <td>Press</td>\n      <td>49</td>\n      <td>Normal</td>\n      <td>Cover</td>\n    </tr>\n    <tr>\n      <th>33</th>\n      <td>Athletic Club de Bilbao</td>\n      <td>8315</td>\n      <td>2010-02-22</td>\n      <td>60</td>\n      <td>Balanced</td>\n      <td>Little</td>\n      <td>45</td>\n      <td>Mixed</td>\n      <td>Organised</td>\n      <td>35</td>\n      <td>...</td>\n      <td>55</td>\n      <td>Normal</td>\n      <td>Organised</td>\n      <td>30</td>\n      <td>Deep</td>\n      <td>70</td>\n      <td>Double</td>\n      <td>35</td>\n      <td>Normal</td>\n      <td>Cover</td>\n    </tr>\n    <tr>\n      <th>34</th>\n      <td>Athletic Club de Bilbao</td>\n      <td>8315</td>\n      <td>2011-02-22</td>\n      <td>70</td>\n      <td>Fast</td>\n      <td>Little</td>\n      <td>69</td>\n      <td>Long</td>\n      <td>Organised</td>\n      <td>55</td>\n      <td>...</td>\n      <td>57</td>\n      <td>Normal</td>\n      <td>Organised</td>\n      <td>48</td>\n      <td>Medium</td>\n      <td>67</td>\n      <td>Double</td>\n      <td>55</td>\n      <td>Normal</td>\n      <td>Cover</td>\n    </tr>\n    <tr>\n      <th>35</th>\n      <td>Athletic Club de Bilbao</td>\n      <td>8315</td>\n      <td>2012-02-22</td>\n      <td>42</td>\n      <td>Balanced</td>\n      <td>Little</td>\n      <td>59</td>\n      <td>Mixed</td>\n      <td>Organised</td>\n      <td>36</td>\n      <td>...</td>\n      <td>59</td>\n      <td>Normal</td>\n      <td>Organised</td>\n      <td>37</td>\n      <td>Medium</td>\n      <td>60</td>\n      <td>Press</td>\n      <td>68</td>\n      <td>Wide</td>\n      <td>Cover</td>\n    </tr>\n    <tr>\n      <th>36</th>\n      <td>Athletic Club de Bilbao</td>\n      <td>8315</td>\n      <td>2013-09-20</td>\n      <td>46</td>\n      <td>Balanced</td>\n      <td>Little</td>\n      <td>38</td>\n      <td>Mixed</td>\n      <td>Organised</td>\n      <td>52</td>\n      <td>...</td>\n      <td>37</td>\n      <td>Normal</td>\n      <td>Free Form</td>\n      <td>37</td>\n      <td>Medium</td>\n      <td>60</td>\n      <td>Press</td>\n      <td>68</td>\n      <td>Wide</td>\n      <td>Cover</td>\n    </tr>\n    <tr>\n      <th>37</th>\n      <td>Athletic Club de Bilbao</td>\n      <td>8315</td>\n      <td>2014-09-19</td>\n      <td>46</td>\n      <td>Balanced</td>\n      <td>Normal</td>\n      <td>38</td>\n      <td>Mixed</td>\n      <td>Organised</td>\n      <td>52</td>\n      <td>...</td>\n      <td>37</td>\n      <td>Normal</td>\n      <td>Organised</td>\n      <td>37</td>\n      <td>Medium</td>\n      <td>60</td>\n      <td>Press</td>\n      <td>65</td>\n      <td>Normal</td>\n      <td>Cover</td>\n    </tr>\n    <tr>\n      <th>38</th>\n      <td>Athletic Club de Bilbao</td>\n      <td>8315</td>\n      <td>2015-09-10</td>\n      <td>46</td>\n      <td>Balanced</td>\n      <td>Normal</td>\n      <td>39</td>\n      <td>Mixed</td>\n      <td>Organised</td>\n      <td>50</td>\n      <td>...</td>\n      <td>36</td>\n      <td>Normal</td>\n      <td>Free Form</td>\n      <td>49</td>\n      <td>Medium</td>\n      <td>57</td>\n      <td>Press</td>\n      <td>50</td>\n      <td>Normal</td>\n      <td>Cover</td>\n    </tr>\n    <tr>\n      <th>39</th>\n      <td>Atlético Madrid</td>\n      <td>9906</td>\n      <td>2010-02-22</td>\n      <td>64</td>\n      <td>Balanced</td>\n      <td>Little</td>\n      <td>30</td>\n      <td>Short</td>\n      <td>Free Form</td>\n      <td>65</td>\n      <td>...</td>\n      <td>70</td>\n      <td>Lots</td>\n      <td>Free Form</td>\n      <td>70</td>\n      <td>High</td>\n      <td>34</td>\n      <td>Press</td>\n      <td>55</td>\n      <td>Normal</td>\n      <td>Offside Trap</td>\n    </tr>\n    <tr>\n      <th>40</th>\n      <td>Atlético Madrid</td>\n      <td>9906</td>\n      <td>2011-02-22</td>\n      <td>57</td>\n      <td>Balanced</td>\n      <td>Little</td>\n      <td>54</td>\n      <td>Mixed</td>\n      <td>Organised</td>\n      <td>58</td>\n      <td>...</td>\n      <td>79</td>\n      <td>Lots</td>\n      <td>Organised</td>\n      <td>58</td>\n      <td>Medium</td>\n      <td>48</td>\n      <td>Press</td>\n      <td>54</td>\n      <td>Normal</td>\n      <td>Cover</td>\n    </tr>\n    <tr>\n      <th>41</th>\n      <td>Atlético Madrid</td>\n      <td>9906</td>\n      <td>2012-02-22</td>\n      <td>47</td>\n      <td>Balanced</td>\n      <td>Little</td>\n      <td>51</td>\n      <td>Mixed</td>\n      <td>Organised</td>\n      <td>67</td>\n      <td>...</td>\n      <td>54</td>\n      <td>Normal</td>\n      <td>Organised</td>\n      <td>52</td>\n      <td>Medium</td>\n      <td>37</td>\n      <td>Press</td>\n      <td>55</td>\n      <td>Normal</td>\n      <td>Cover</td>\n    </tr>\n    <tr>\n      <th>42</th>\n      <td>Atlético Madrid</td>\n      <td>9906</td>\n      <td>2013-09-20</td>\n      <td>47</td>\n      <td>Balanced</td>\n      <td>Little</td>\n      <td>51</td>\n      <td>Mixed</td>\n      <td>Organised</td>\n      <td>70</td>\n      <td>...</td>\n      <td>54</td>\n      <td>Normal</td>\n      <td>Organised</td>\n      <td>52</td>\n      <td>Medium</td>\n      <td>37</td>\n      <td>Press</td>\n      <td>55</td>\n      <td>Normal</td>\n      <td>Cover</td>\n    </tr>\n    <tr>\n      <th>43</th>\n      <td>Atlético Madrid</td>\n      <td>9906</td>\n      <td>2014-09-19</td>\n      <td>47</td>\n      <td>Balanced</td>\n      <td>Normal</td>\n      <td>51</td>\n      <td>Mixed</td>\n      <td>Organised</td>\n      <td>67</td>\n      <td>...</td>\n      <td>54</td>\n      <td>Normal</td>\n      <td>Organised</td>\n      <td>52</td>\n      <td>Medium</td>\n      <td>37</td>\n      <td>Press</td>\n      <td>55</td>\n      <td>Normal</td>\n      <td>Cover</td>\n    </tr>\n    <tr>\n      <th>44</th>\n      <td>Atlético Madrid</td>\n      <td>9906</td>\n      <td>2015-09-10</td>\n      <td>57</td>\n      <td>Balanced</td>\n      <td>Normal</td>\n      <td>50</td>\n      <td>Mixed</td>\n      <td>Organised</td>\n      <td>61</td>\n      <td>...</td>\n      <td>49</td>\n      <td>Normal</td>\n      <td>Organised</td>\n      <td>49</td>\n      <td>Medium</td>\n      <td>42</td>\n      <td>Press</td>\n      <td>52</td>\n      <td>Normal</td>\n      <td>Cover</td>\n    </tr>\n    <tr>\n      <th>45</th>\n      <td>FC Augsburg</td>\n      <td>8406</td>\n      <td>2010-02-22</td>\n      <td>45</td>\n      <td>Balanced</td>\n      <td>Little</td>\n      <td>45</td>\n      <td>Mixed</td>\n      <td>Organised</td>\n      <td>35</td>\n      <td>...</td>\n      <td>70</td>\n      <td>Lots</td>\n      <td>Organised</td>\n      <td>45</td>\n      <td>Medium</td>\n      <td>55</td>\n      <td>Press</td>\n      <td>45</td>\n      <td>Normal</td>\n      <td>Cover</td>\n    </tr>\n    <tr>\n      <th>46</th>\n      <td>FC Augsburg</td>\n      <td>8406</td>\n      <td>2011-02-22</td>\n      <td>68</td>\n      <td>Fast</td>\n      <td>Little</td>\n      <td>40</td>\n      <td>Mixed</td>\n      <td>Organised</td>\n      <td>52</td>\n      <td>...</td>\n      <td>72</td>\n      <td>Lots</td>\n      <td>Organised</td>\n      <td>59</td>\n      <td>Medium</td>\n      <td>49</td>\n      <td>Press</td>\n      <td>42</td>\n      <td>Normal</td>\n      <td>Cover</td>\n    </tr>\n    <tr>\n      <th>47</th>\n      <td>FC Augsburg</td>\n      <td>8406</td>\n      <td>2012-02-22</td>\n      <td>55</td>\n      <td>Balanced</td>\n      <td>Little</td>\n      <td>55</td>\n      <td>Mixed</td>\n      <td>Organised</td>\n      <td>49</td>\n      <td>...</td>\n      <td>55</td>\n      <td>Normal</td>\n      <td>Organised</td>\n      <td>47</td>\n      <td>Medium</td>\n      <td>58</td>\n      <td>Press</td>\n      <td>56</td>\n      <td>Normal</td>\n      <td>Cover</td>\n    </tr>\n    <tr>\n      <th>48</th>\n      <td>FC Augsburg</td>\n      <td>8406</td>\n      <td>2013-09-20</td>\n      <td>40</td>\n      <td>Balanced</td>\n      <td>Little</td>\n      <td>55</td>\n      <td>Mixed</td>\n      <td>Organised</td>\n      <td>49</td>\n      <td>...</td>\n      <td>53</td>\n      <td>Normal</td>\n      <td>Organised</td>\n      <td>33</td>\n      <td>Deep</td>\n      <td>43</td>\n      <td>Press</td>\n      <td>52</td>\n      <td>Normal</td>\n      <td>Cover</td>\n    </tr>\n    <tr>\n      <th>49</th>\n      <td>FC Augsburg</td>\n      <td>8406</td>\n      <td>2014-09-19</td>\n      <td>62</td>\n      <td>Balanced</td>\n      <td>Normal</td>\n      <td>69</td>\n      <td>Long</td>\n      <td>Organised</td>\n      <td>41</td>\n      <td>...</td>\n      <td>56</td>\n      <td>Normal</td>\n      <td>Organised</td>\n      <td>47</td>\n      <td>Medium</td>\n      <td>55</td>\n      <td>Press</td>\n      <td>52</td>\n      <td>Normal</td>\n      <td>Cover</td>\n    </tr>\n  </tbody>\n</table>\n<p>50 rows × 23 columns</p>\n</div>"
     },
     "execution_count": 84,
     "metadata": {},
     "output_type": "execute_result"
    }
   ],
   "source": [
    "team_attributes.head(50)"
   ],
   "metadata": {
    "collapsed": false,
    "ExecuteTime": {
     "end_time": "2024-03-28T13:32:11.725968Z",
     "start_time": "2024-03-28T13:32:11.698486Z"
    }
   },
   "id": "dd8a6fafec34be9c",
   "execution_count": 84
  },
  {
   "cell_type": "markdown",
   "source": [
    "The Team Attributes table may not significantly contribute to our analysis as it is updated only once a year. All the values remain constant throughout the season, but ideally, they should vary based on the team's starting lineup and formation. Therefore, we will exclude this table from our analysis to avoid potential confusion and ensure the accuracy of our model."
   ],
   "metadata": {
    "collapsed": false
   },
   "id": "154a2cd8a976ef36"
  },
  {
   "cell_type": "markdown",
   "source": [
    "## Summary of data cleaning"
   ],
   "metadata": {
    "collapsed": false
   },
   "id": "e74a3bce388dc67"
  },
  {
   "cell_type": "markdown",
   "source": [
    "In the data-cleaning process, the following steps were taken:\n",
    "\n",
    "1. **Players Data**: The `Player` and `Player_Attributes` tables were merged, keeping only the most important columns. Null values in the 'overall_rating' column were discarded as this column is vital for the analysis. The 'date' and 'birthday' columns were converted to datetime data type and the age of the players at the time of the match was calculated.\n",
    "\n",
    "2. **Matches Data**: Important data from the `Match,` `League,` and `Team` tables were extracted. Null values in the home and away player columns were analyzed by the league to determine the extent of the missing data. The 'date' column was converted to datetime data type. The player ID was replaced with the overall rating and age. The result of the match was calculated and added as a new column.\n",
    "\n",
    "3. **Teams Data**: Essential data from the 'Team' and 'Team_Attributes' tables were retrieved. The column 'buildUpPlayDribbling' was removed due to a significant number of missing values. The 'date' column was converted to datetime data type. However, the Team Attributes table was later excluded from the analysis as it was updated only once a year and all the values remained constant throughout the season, a decision made to ensure the accuracy and relevance of the analysis."
   ],
   "metadata": {
    "collapsed": false
   },
   "id": "40de0587a7d3805c"
  },
  {
   "cell_type": "markdown",
   "source": [
    "# Feature Engineering"
   ],
   "metadata": {
    "collapsed": false
   },
   "id": "8fe05de02f9aeeba"
  },
  {
   "cell_type": "markdown",
   "source": [
    "- Average rating of team and difference of home and away team rating"
   ],
   "metadata": {
    "collapsed": false
   },
   "id": "ce81bf06301a777e"
  },
  {
   "cell_type": "code",
   "outputs": [],
   "source": [
    "for team in ['home', 'away']:\n",
    "    player_columns = [f'{team}_player_{i}' for i in range(1, 12)]\n",
    "    matches[f'average_{team}_player_rating'] = matches[player_columns].mean(axis=1).round(2)"
   ],
   "metadata": {
    "collapsed": false,
    "ExecuteTime": {
     "end_time": "2024-03-28T13:32:11.749881Z",
     "start_time": "2024-03-28T13:32:11.727967Z"
    }
   },
   "id": "85ec4261a0cb970c",
   "execution_count": 85
  },
  {
   "cell_type": "code",
   "outputs": [],
   "source": [
    "matches['players_rating_difference'] = matches['average_home_player_rating'] - matches['average_away_player_rating']"
   ],
   "metadata": {
    "collapsed": false,
    "ExecuteTime": {
     "end_time": "2024-03-28T13:32:11.755862Z",
     "start_time": "2024-03-28T13:32:11.750882Z"
    }
   },
   "id": "b3d886bf4b9566f7",
   "execution_count": 86
  },
  {
   "cell_type": "markdown",
   "source": [
    " - Average player age and difference of home and away team age"
   ],
   "metadata": {
    "collapsed": false
   },
   "id": "5e3934136d983abd"
  },
  {
   "cell_type": "code",
   "outputs": [],
   "source": [
    "for team in ['home', 'away']:\n",
    "    matches[f'{team}_players_age'] = matches[[f'{team}_player_{i}_age' for i in range(1, 12)]].mean(axis=1).round(2)"
   ],
   "metadata": {
    "collapsed": false,
    "ExecuteTime": {
     "end_time": "2024-03-28T13:32:12.003907Z",
     "start_time": "2024-03-28T13:32:11.979274Z"
    }
   },
   "id": "73a5429b6de2e812",
   "execution_count": 87
  },
  {
   "cell_type": "code",
   "outputs": [],
   "source": [
    "matches['players_age_difference'] = matches['home_players_age'] - matches['away_players_age']"
   ],
   "metadata": {
    "collapsed": false,
    "ExecuteTime": {
     "end_time": "2024-03-28T13:32:12.208064Z",
     "start_time": "2024-03-28T13:32:12.203377Z"
    }
   },
   "id": "5c9514cd4c14130b",
   "execution_count": 88
  },
  {
   "cell_type": "markdown",
   "source": [
    "- Home team and away team in the last five matches of the season form"
   ],
   "metadata": {
    "collapsed": false
   },
   "id": "de834fbf89c07a0d"
  },
  {
   "cell_type": "markdown",
   "source": [
    "We will calculate the form of the home and away teams in the last five matches of the season. The form is calculated based on the average number of points earned in the last five matches playing at home or away. The points are calculated as follows: 3 points for a win, 1 point for a draw, and 0 points for a loss. Since the form is calculated based on the last five matches, we will use a rolling window of 5 to calculate the average number of points and shift the result by one to avoid data leakage."
   ],
   "metadata": {
    "collapsed": false
   },
   "id": "f222ae7a71887de2"
  },
  {
   "cell_type": "code",
   "outputs": [],
   "source": [
    "criteria = [\n",
    "    (matches['result'] == 'Win'),\n",
    "    (matches['result'] == 'Draw'),\n",
    "    (matches['result'] == 'Lose')\n",
    "]\n",
    "\n",
    "choices_home = [3, 1, 0]\n",
    "choices_away = [0, 1, 3]\n",
    "\n",
    "matches['home_team_points'] = np.select(criteria, choices_home)\n",
    "matches['away_team_points'] = np.select(criteria, choices_away)"
   ],
   "metadata": {
    "collapsed": false,
    "ExecuteTime": {
     "end_time": "2024-03-28T13:32:12.343449Z",
     "start_time": "2024-03-28T13:32:12.329743Z"
    }
   },
   "id": "3e301ab9f4e742c3",
   "execution_count": 89
  },
  {
   "cell_type": "code",
   "outputs": [],
   "source": [
    "for team in ['home', 'away']:\n",
    "    matches = matches.sort_values(['season', f'{team}_team', 'date'])\n",
    "    matches[f'{team}_team_form'] = matches.groupby(['season', f'{team}_team'])[f'{team}_team_points'].shift(1).rolling(\n",
    "        window=5, min_periods=1).mean()"
   ],
   "metadata": {
    "collapsed": false,
    "ExecuteTime": {
     "end_time": "2024-03-28T13:32:12.552903Z",
     "start_time": "2024-03-28T13:32:12.442189Z"
    }
   },
   "id": "63d62d72105c13b2",
   "execution_count": 90
  },
  {
   "cell_type": "markdown",
   "source": [
    "- Team formations"
   ],
   "metadata": {
    "collapsed": false
   },
   "id": "69bba39513686ee0"
  },
  {
   "cell_type": "markdown",
   "source": [
    "We will calculate the formation of the home and away teams in each match. Y-coordinate represents the player's position on the field. It can be used to determine whether a player is a defender, midfielder, or forward."
   ],
   "metadata": {
    "collapsed": false
   },
   "id": "ade76e161a8ba33c"
  },
  {
   "cell_type": "code",
   "outputs": [],
   "source": [
    "def get_formation(positions):\n",
    "    defenders = np.sum((positions > 1) & (positions <= 4), axis=1).tolist()\n",
    "    midfielders = np.sum((positions >= 5) & (positions <= 9), axis=1).tolist()\n",
    "    forwards = np.sum((positions >= 10) & (positions <= 11), axis=1).tolist()\n",
    "    return [f\"{d}-{m}-{f}\" for d, m, f in zip(defenders, midfielders, forwards)]\n",
    "\n",
    "\n",
    "home_positions = matches[[f'home_player_Y{i}' for i in range(1, 12)]].values\n",
    "away_positions = matches[[f'away_player_Y{i}' for i in range(1, 12)]].values\n",
    "\n",
    "matches['home_team_formations'] = get_formation(home_positions)\n",
    "matches['away_team_formations'] = get_formation(away_positions)"
   ],
   "metadata": {
    "collapsed": false,
    "ExecuteTime": {
     "end_time": "2024-03-28T13:32:12.588317Z",
     "start_time": "2024-03-28T13:32:12.553904Z"
    }
   },
   "id": "22b4d1fcae142800",
   "execution_count": 91
  },
  {
   "cell_type": "markdown",
   "source": [
    "- Rolling average of goals scored and conceded"
   ],
   "metadata": {
    "collapsed": false
   },
   "id": "6878de30d9caa884"
  },
  {
   "cell_type": "markdown",
   "source": [
    "We will calculate the rolling average of goals scored and conceded by each team in the last five matches of the season playing at home or away."
   ],
   "metadata": {
    "collapsed": false
   },
   "id": "2104bee17fc86d0e"
  },
  {
   "cell_type": "code",
   "outputs": [],
   "source": [
    "def calculate_team_metrics(df, teams_type):\n",
    "    grouped_matches = df.groupby(['season', f'{teams_type}_team'])\n",
    "\n",
    "    df[f'{teams_type}_team_rolling_goals'] = grouped_matches[f'{teams_type}_team_goal'].shift(1).rolling(window=5,\n",
    "                                                                                                         min_periods=1).mean()\n",
    "    df[f'{teams_type}_team_rolling_conceded'] = grouped_matches[\n",
    "        f'away_team_goal' if teams_type == 'home' else 'home_team_goal'].shift(1).rolling(window=5,\n",
    "                                                                                          min_periods=1).mean()\n",
    "\n",
    "    return df\n",
    "\n",
    "\n",
    "team_types = ['home', 'away']\n",
    "\n",
    "for team in team_types:\n",
    "    matches = matches.sort_values(['season', f'{team}_team', 'date'])\n",
    "    matches = calculate_team_metrics(matches, team)"
   ],
   "metadata": {
    "collapsed": false,
    "ExecuteTime": {
     "end_time": "2024-03-28T13:32:12.697260Z",
     "start_time": "2024-03-28T13:32:12.589316Z"
    }
   },
   "id": "2805fbe603df848e",
   "execution_count": 92
  },
  {
   "cell_type": "markdown",
   "source": [
    "- Goal keeper rating, defenders rating, midfielders rating, and forwards rating "
   ],
   "metadata": {
    "collapsed": false
   },
   "id": "7e1e56049e8c9df2"
  },
  {
   "cell_type": "markdown",
   "source": [
    "We will calculate rating of the goalkeepers and average and total rating of defenders, midfielders, and forwards for each team in each match."
   ],
   "metadata": {
    "collapsed": false
   },
   "id": "cc0dece92c70e7ba"
  },
  {
   "cell_type": "code",
   "outputs": [],
   "source": [
    "matches['Home_GK'] = matches['home_player_1']\n",
    "matches['Away_GK'] = matches['away_player_1']"
   ],
   "metadata": {
    "collapsed": false,
    "ExecuteTime": {
     "end_time": "2024-03-28T13:32:12.703219Z",
     "start_time": "2024-03-28T13:32:12.698260Z"
    }
   },
   "id": "ae6433a5506b2a91",
   "execution_count": 93
  },
  {
   "cell_type": "code",
   "outputs": [],
   "source": [
    "def calculate_ratings(match_row, squad, start, end):\n",
    "    player_cols = [f'{squad}_player_{i}' for i in range(2, 12) if\n",
    "                   match_row[f'{squad}_player_Y{i}'] in range(start, end)]\n",
    "    return round(match_row[player_cols].mean(), 2), match_row[player_cols].sum()\n",
    "\n",
    "\n",
    "player_positions_range = {\n",
    "    'defenders': (2, 5),\n",
    "    'midfielders': (5, 10),\n",
    "    'forwards': (10, 12)\n",
    "}\n",
    "\n",
    "for position, (position_start, position_end) in player_positions_range.items():\n",
    "    for team_type in ['home', 'away']:\n",
    "        matches[f'{position}_{team_type}_rating'], matches[f'{position}_{team_type}_total_rating'] = zip(\n",
    "            *matches.apply(lambda match_row: calculate_ratings(match_row, team_type, position_start, position_end),\n",
    "                           axis=1))"
   ],
   "metadata": {
    "collapsed": false,
    "ExecuteTime": {
     "end_time": "2024-03-28T13:33:41.235992Z",
     "start_time": "2024-03-28T13:32:12.704220Z"
    }
   },
   "id": "ffbe0a8ef12f3751",
   "execution_count": 94
  },
  {
   "cell_type": "code",
   "outputs": [
    {
     "data": {
      "text/plain": "      match_api_id     season       date  home_team_goal  away_team_goal  \\\n7811        499320  2008/2009 2008-08-16               2               1   \n8014        499343  2008/2009 2008-08-29               0               2   \n8074        499358  2008/2009 2008-09-20               2               0   \n8094        499378  2008/2009 2008-10-04               1               2   \n8106        499390  2008/2009 2008-10-24               2               0   \n\n      stage            league_name                 home_team   away_team  \\\n7811      1  Germany 1. Bundesliga             VfL Wolfsburg  1. FC Köln   \n8014      3  Germany 1. Bundesliga             Karlsruher SC  1. FC Köln   \n8074      5  Germany 1. Bundesliga     DSC Arminia Bielefeld  1. FC Köln   \n8094      7  Germany 1. Bundesliga  Borussia Mönchengladbach  1. FC Köln   \n8106      9  Germany 1. Bundesliga       Bayer 04 Leverkusen  1. FC Köln   \n\n      home_player_1  ...  defenders_away_rating  defenders_away_total_rating  \\\n7811           70.0  ...                  71.50                        286.0   \n8014           68.0  ...                  68.50                        274.0   \n8074           62.0  ...                  70.75                        283.0   \n8094           71.0  ...                  70.25                        281.0   \n8106           78.0  ...                  70.25                        281.0   \n\n      midfielders_home_rating  midfielders_home_total_rating  \\\n7811                    69.75                          279.0   \n8014                    69.00                          276.0   \n8074                    68.00                          272.0   \n8094                    71.00                          355.0   \n8106                    71.75                          287.0   \n\n      midfielders_away_rating  midfielders_away_total_rating  \\\n7811                     71.0                          284.0   \n8014                     69.2                          346.0   \n8074                     70.2                          351.0   \n8094                     65.0                          325.0   \n8106                     65.0                          325.0   \n\n      forwards_home_rating  forwards_home_total_rating  forwards_away_rating  \\\n7811                  75.0                       150.0                  74.0   \n8014                  69.0                        69.0                  78.0   \n8074                  73.0                       146.0                  78.0   \n8094                  70.0                        70.0                  78.0   \n8106                  73.5                       147.0                  78.0   \n\n      forwards_away_total_rating  \n7811                       148.0  \n8014                        78.0  \n8074                        78.0  \n8094                        78.0  \n8106                        78.0  \n\n[5 rows x 106 columns]",
      "text/html": "<div>\n<style scoped>\n    .dataframe tbody tr th:only-of-type {\n        vertical-align: middle;\n    }\n\n    .dataframe tbody tr th {\n        vertical-align: top;\n    }\n\n    .dataframe thead th {\n        text-align: right;\n    }\n</style>\n<table border=\"1\" class=\"dataframe\">\n  <thead>\n    <tr style=\"text-align: right;\">\n      <th></th>\n      <th>match_api_id</th>\n      <th>season</th>\n      <th>date</th>\n      <th>home_team_goal</th>\n      <th>away_team_goal</th>\n      <th>stage</th>\n      <th>league_name</th>\n      <th>home_team</th>\n      <th>away_team</th>\n      <th>home_player_1</th>\n      <th>...</th>\n      <th>defenders_away_rating</th>\n      <th>defenders_away_total_rating</th>\n      <th>midfielders_home_rating</th>\n      <th>midfielders_home_total_rating</th>\n      <th>midfielders_away_rating</th>\n      <th>midfielders_away_total_rating</th>\n      <th>forwards_home_rating</th>\n      <th>forwards_home_total_rating</th>\n      <th>forwards_away_rating</th>\n      <th>forwards_away_total_rating</th>\n    </tr>\n  </thead>\n  <tbody>\n    <tr>\n      <th>7811</th>\n      <td>499320</td>\n      <td>2008/2009</td>\n      <td>2008-08-16</td>\n      <td>2</td>\n      <td>1</td>\n      <td>1</td>\n      <td>Germany 1. Bundesliga</td>\n      <td>VfL Wolfsburg</td>\n      <td>1. FC Köln</td>\n      <td>70.0</td>\n      <td>...</td>\n      <td>71.50</td>\n      <td>286.0</td>\n      <td>69.75</td>\n      <td>279.0</td>\n      <td>71.0</td>\n      <td>284.0</td>\n      <td>75.0</td>\n      <td>150.0</td>\n      <td>74.0</td>\n      <td>148.0</td>\n    </tr>\n    <tr>\n      <th>8014</th>\n      <td>499343</td>\n      <td>2008/2009</td>\n      <td>2008-08-29</td>\n      <td>0</td>\n      <td>2</td>\n      <td>3</td>\n      <td>Germany 1. Bundesliga</td>\n      <td>Karlsruher SC</td>\n      <td>1. FC Köln</td>\n      <td>68.0</td>\n      <td>...</td>\n      <td>68.50</td>\n      <td>274.0</td>\n      <td>69.00</td>\n      <td>276.0</td>\n      <td>69.2</td>\n      <td>346.0</td>\n      <td>69.0</td>\n      <td>69.0</td>\n      <td>78.0</td>\n      <td>78.0</td>\n    </tr>\n    <tr>\n      <th>8074</th>\n      <td>499358</td>\n      <td>2008/2009</td>\n      <td>2008-09-20</td>\n      <td>2</td>\n      <td>0</td>\n      <td>5</td>\n      <td>Germany 1. Bundesliga</td>\n      <td>DSC Arminia Bielefeld</td>\n      <td>1. FC Köln</td>\n      <td>62.0</td>\n      <td>...</td>\n      <td>70.75</td>\n      <td>283.0</td>\n      <td>68.00</td>\n      <td>272.0</td>\n      <td>70.2</td>\n      <td>351.0</td>\n      <td>73.0</td>\n      <td>146.0</td>\n      <td>78.0</td>\n      <td>78.0</td>\n    </tr>\n    <tr>\n      <th>8094</th>\n      <td>499378</td>\n      <td>2008/2009</td>\n      <td>2008-10-04</td>\n      <td>1</td>\n      <td>2</td>\n      <td>7</td>\n      <td>Germany 1. Bundesliga</td>\n      <td>Borussia Mönchengladbach</td>\n      <td>1. FC Köln</td>\n      <td>71.0</td>\n      <td>...</td>\n      <td>70.25</td>\n      <td>281.0</td>\n      <td>71.00</td>\n      <td>355.0</td>\n      <td>65.0</td>\n      <td>325.0</td>\n      <td>70.0</td>\n      <td>70.0</td>\n      <td>78.0</td>\n      <td>78.0</td>\n    </tr>\n    <tr>\n      <th>8106</th>\n      <td>499390</td>\n      <td>2008/2009</td>\n      <td>2008-10-24</td>\n      <td>2</td>\n      <td>0</td>\n      <td>9</td>\n      <td>Germany 1. Bundesliga</td>\n      <td>Bayer 04 Leverkusen</td>\n      <td>1. FC Köln</td>\n      <td>78.0</td>\n      <td>...</td>\n      <td>70.25</td>\n      <td>281.0</td>\n      <td>71.75</td>\n      <td>287.0</td>\n      <td>65.0</td>\n      <td>325.0</td>\n      <td>73.5</td>\n      <td>147.0</td>\n      <td>78.0</td>\n      <td>78.0</td>\n    </tr>\n  </tbody>\n</table>\n<p>5 rows × 106 columns</p>\n</div>"
     },
     "execution_count": 95,
     "metadata": {},
     "output_type": "execute_result"
    }
   ],
   "source": [
    "matches.head()"
   ],
   "metadata": {
    "collapsed": false,
    "ExecuteTime": {
     "end_time": "2024-03-28T13:33:41.264036Z",
     "start_time": "2024-03-28T13:33:41.237992Z"
    }
   },
   "id": "ee71120830cea8e3",
   "execution_count": 95
  },
  {
   "cell_type": "markdown",
   "source": [
    "## Summary of feature engineering"
   ],
   "metadata": {
    "collapsed": false
   },
   "id": "942021e7000eacc1"
  },
  {
   "cell_type": "markdown",
   "source": [
    "After cleaning the data, several new features were generated. These include the average rating of team players, the difference in home and away team ratings, the average player age, and the difference in home and away team ages. The form of the home and away teams in the last five matches of the season, the team formations, and the rolling average of goals scored and conceded were also calculated. Average and total ratings by position (goalkeepers, defenders, midfielders, and forwards) were computed for each team in each match. These features are expected to enhance the predictive power of our models and provide valuable insights into the performance of the teams and players."
   ],
   "metadata": {
    "collapsed": false
   },
   "id": "6aaab38afed9f420"
  },
  {
   "cell_type": "markdown",
   "source": [
    "#  Save the dataset"
   ],
   "metadata": {
    "collapsed": false
   },
   "id": "4725c0366dfb9511"
  },
  {
   "cell_type": "markdown",
   "source": [
    "- We will save the dataset to a csv file for further analysis."
   ],
   "metadata": {
    "collapsed": false
   },
   "id": "fbe4574a7a0a3b54"
  },
  {
   "cell_type": "code",
   "outputs": [],
   "source": [
    "matches.to_csv('matches.csv', index=False)"
   ],
   "metadata": {
    "collapsed": false,
    "ExecuteTime": {
     "end_time": "2024-03-28T13:33:43.014727Z",
     "start_time": "2024-03-28T13:33:41.265038Z"
    }
   },
   "id": "56b9438a5aec1799",
   "execution_count": 96
  }
 ],
 "metadata": {
  "kernelspec": {
   "display_name": "Python 3",
   "language": "python",
   "name": "python3"
  },
  "language_info": {
   "codemirror_mode": {
    "name": "ipython",
    "version": 2
   },
   "file_extension": ".py",
   "mimetype": "text/x-python",
   "name": "python",
   "nbconvert_exporter": "python",
   "pygments_lexer": "ipython2",
   "version": "2.7.6"
  }
 },
 "nbformat": 4,
 "nbformat_minor": 5
}

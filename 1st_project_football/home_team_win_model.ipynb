{
 "cells": [
  {
   "cell_type": "code",
   "outputs": [],
   "source": [
    "import sqlite3\n",
    "\n",
    "import joblib\n",
    "import matplotlib.pyplot as plt\n",
    "import numpy as np\n",
    "import pandas as pd\n",
    "import statsmodels.api as sm\n",
    "from sklearn.decomposition import PCA\n",
    "from sklearn.ensemble import GradientBoostingClassifier\n",
    "from sklearn.ensemble import RandomForestClassifier\n",
    "from sklearn.linear_model import LogisticRegression\n",
    "from sklearn.metrics import accuracy_score, classification_report\n",
    "from sklearn.metrics import classification_report\n",
    "from sklearn.metrics import make_scorer, precision_score\n",
    "from sklearn.model_selection import GridSearchCV\n",
    "from sklearn.model_selection import train_test_split\n",
    "from sklearn.neighbors import KNeighborsClassifier\n",
    "from sklearn.pipeline import Pipeline\n",
    "from sklearn.pipeline import make_pipeline\n",
    "from sklearn.preprocessing import LabelEncoder\n",
    "from sklearn.preprocessing import StandardScaler\n",
    "from sklearn.svm import SVC\n",
    "from statsmodels.stats.outliers_influence import variance_inflation_factor"
   ],
   "metadata": {
    "collapsed": false,
    "ExecuteTime": {
     "end_time": "2024-03-27T07:37:46.369945Z",
     "start_time": "2024-03-27T07:37:44.158142Z"
    }
   },
   "id": "3ef2d5c837bb6a87",
   "execution_count": 2
  },
  {
   "cell_type": "markdown",
   "source": [
    "# Introduction"
   ],
   "metadata": {
    "collapsed": false
   },
   "id": "87f5ef48fc71eda1"
  },
  {
   "cell_type": "markdown",
   "source": [
    "The `home_team_win_model.ipynb` notebook is dedicated to developing a predictive model for football match outcomes, particularly on forecasting home team victories. The model utilizes data from the top five football leagues, covering seasons from 2008/2009 to 2014/2015.\n",
    "\n",
    "The model creation process initiates with an extensive data preprocessing stage. This stage involves generating the target variable, removing unnecessary columns, managing missing values, and encoding categorical variables. To ensure the model's robustness, the independent variables are carefully examined for multicollinearity, and any variables contributing to this issue are removed.\n",
    "\n",
    "Several machine learning models are trained, including Logistic Regression, Random Forest, Support Vector Machine, K-nearest neighbors, and Gradient Boosting. The Logistic Regression model is chosen for its optimal balance between precision and recall. It is further enhanced by tuning its hyperparameters and applying Principal Component Analysis (PCA) to reduce the data's dimensionality.\n",
    "\n",
    "The final part of the project involves a practical application of the model in a betting scenario for the 2015/2016 season. A betting strategy is devised where a bet is placed only when the model predicts a 'Win' for the home team and the odds provided by the model are lower than the odds offered by the betting company. This strategy not only proves the model's effectiveness but also results in a profit for the 2015/2016 season."
   ],
   "metadata": {
    "collapsed": false
   },
   "id": "7bb3634c1ec28d45"
  },
  {
   "cell_type": "code",
   "outputs": [],
   "source": [
    "matches_top_5 = pd.read_csv('matches_top_5.csv')"
   ],
   "metadata": {
    "collapsed": false,
    "ExecuteTime": {
     "end_time": "2024-03-27T07:37:46.601853Z",
     "start_time": "2024-03-27T07:37:46.372940Z"
    }
   },
   "id": "c39165655c20c0dd",
   "execution_count": 3
  },
  {
   "cell_type": "code",
   "outputs": [
    {
     "data": {
      "text/plain": "   match_api_id     season        date  home_team_goal  away_team_goal  stage  \\\n0        499320  2008/2009  2008-08-16               2               1      1   \n1        499343  2008/2009  2008-08-29               0               2      3   \n2        499358  2008/2009  2008-09-20               2               0      5   \n3        499378  2008/2009  2008-10-04               1               2      7   \n4        499390  2008/2009  2008-10-24               2               0      9   \n\n             league_name                 home_team   away_team  home_player_1  \\\n0  Germany 1. Bundesliga             VfL Wolfsburg  1. FC Köln           70.0   \n1  Germany 1. Bundesliga             Karlsruher SC  1. FC Köln           68.0   \n2  Germany 1. Bundesliga     DSC Arminia Bielefeld  1. FC Köln           62.0   \n3  Germany 1. Bundesliga  Borussia Mönchengladbach  1. FC Köln           71.0   \n4  Germany 1. Bundesliga       Bayer 04 Leverkusen  1. FC Köln           78.0   \n\n   ...  midfielders_away_rating  midfielders_away_total_rating  \\\n0  ...                     71.0                          284.0   \n1  ...                     69.2                          346.0   \n2  ...                     70.2                          351.0   \n3  ...                     65.0                          325.0   \n4  ...                     65.0                          325.0   \n\n   forwards_home_rating  forwards_home_total_rating  forwards_away_rating  \\\n0                  75.0                       150.0                  74.0   \n1                  69.0                        69.0                  78.0   \n2                  73.0                       146.0                  78.0   \n3                  70.0                        70.0                  78.0   \n4                  73.5                       147.0                  78.0   \n\n   forwards_away_total_rating  home_team_outlier  away_team_outlier  \\\n0                       148.0                  0                  0   \n1                        78.0                  0                  0   \n2                        78.0                  0                  0   \n3                        78.0                  0                  0   \n4                        78.0                  0                  0   \n\n   home_team_rating_category  away_team_rating_category  \n0                       High                       High  \n1                     Medium                       High  \n2                     Medium                       High  \n3                     Medium                       High  \n4                       High                       High  \n\n[5 rows x 110 columns]",
      "text/html": "<div>\n<style scoped>\n    .dataframe tbody tr th:only-of-type {\n        vertical-align: middle;\n    }\n\n    .dataframe tbody tr th {\n        vertical-align: top;\n    }\n\n    .dataframe thead th {\n        text-align: right;\n    }\n</style>\n<table border=\"1\" class=\"dataframe\">\n  <thead>\n    <tr style=\"text-align: right;\">\n      <th></th>\n      <th>match_api_id</th>\n      <th>season</th>\n      <th>date</th>\n      <th>home_team_goal</th>\n      <th>away_team_goal</th>\n      <th>stage</th>\n      <th>league_name</th>\n      <th>home_team</th>\n      <th>away_team</th>\n      <th>home_player_1</th>\n      <th>...</th>\n      <th>midfielders_away_rating</th>\n      <th>midfielders_away_total_rating</th>\n      <th>forwards_home_rating</th>\n      <th>forwards_home_total_rating</th>\n      <th>forwards_away_rating</th>\n      <th>forwards_away_total_rating</th>\n      <th>home_team_outlier</th>\n      <th>away_team_outlier</th>\n      <th>home_team_rating_category</th>\n      <th>away_team_rating_category</th>\n    </tr>\n  </thead>\n  <tbody>\n    <tr>\n      <th>0</th>\n      <td>499320</td>\n      <td>2008/2009</td>\n      <td>2008-08-16</td>\n      <td>2</td>\n      <td>1</td>\n      <td>1</td>\n      <td>Germany 1. Bundesliga</td>\n      <td>VfL Wolfsburg</td>\n      <td>1. FC Köln</td>\n      <td>70.0</td>\n      <td>...</td>\n      <td>71.0</td>\n      <td>284.0</td>\n      <td>75.0</td>\n      <td>150.0</td>\n      <td>74.0</td>\n      <td>148.0</td>\n      <td>0</td>\n      <td>0</td>\n      <td>High</td>\n      <td>High</td>\n    </tr>\n    <tr>\n      <th>1</th>\n      <td>499343</td>\n      <td>2008/2009</td>\n      <td>2008-08-29</td>\n      <td>0</td>\n      <td>2</td>\n      <td>3</td>\n      <td>Germany 1. Bundesliga</td>\n      <td>Karlsruher SC</td>\n      <td>1. FC Köln</td>\n      <td>68.0</td>\n      <td>...</td>\n      <td>69.2</td>\n      <td>346.0</td>\n      <td>69.0</td>\n      <td>69.0</td>\n      <td>78.0</td>\n      <td>78.0</td>\n      <td>0</td>\n      <td>0</td>\n      <td>Medium</td>\n      <td>High</td>\n    </tr>\n    <tr>\n      <th>2</th>\n      <td>499358</td>\n      <td>2008/2009</td>\n      <td>2008-09-20</td>\n      <td>2</td>\n      <td>0</td>\n      <td>5</td>\n      <td>Germany 1. Bundesliga</td>\n      <td>DSC Arminia Bielefeld</td>\n      <td>1. FC Köln</td>\n      <td>62.0</td>\n      <td>...</td>\n      <td>70.2</td>\n      <td>351.0</td>\n      <td>73.0</td>\n      <td>146.0</td>\n      <td>78.0</td>\n      <td>78.0</td>\n      <td>0</td>\n      <td>0</td>\n      <td>Medium</td>\n      <td>High</td>\n    </tr>\n    <tr>\n      <th>3</th>\n      <td>499378</td>\n      <td>2008/2009</td>\n      <td>2008-10-04</td>\n      <td>1</td>\n      <td>2</td>\n      <td>7</td>\n      <td>Germany 1. Bundesliga</td>\n      <td>Borussia Mönchengladbach</td>\n      <td>1. FC Köln</td>\n      <td>71.0</td>\n      <td>...</td>\n      <td>65.0</td>\n      <td>325.0</td>\n      <td>70.0</td>\n      <td>70.0</td>\n      <td>78.0</td>\n      <td>78.0</td>\n      <td>0</td>\n      <td>0</td>\n      <td>Medium</td>\n      <td>High</td>\n    </tr>\n    <tr>\n      <th>4</th>\n      <td>499390</td>\n      <td>2008/2009</td>\n      <td>2008-10-24</td>\n      <td>2</td>\n      <td>0</td>\n      <td>9</td>\n      <td>Germany 1. Bundesliga</td>\n      <td>Bayer 04 Leverkusen</td>\n      <td>1. FC Köln</td>\n      <td>78.0</td>\n      <td>...</td>\n      <td>65.0</td>\n      <td>325.0</td>\n      <td>73.5</td>\n      <td>147.0</td>\n      <td>78.0</td>\n      <td>78.0</td>\n      <td>0</td>\n      <td>0</td>\n      <td>High</td>\n      <td>High</td>\n    </tr>\n  </tbody>\n</table>\n<p>5 rows × 110 columns</p>\n</div>"
     },
     "execution_count": 4,
     "metadata": {},
     "output_type": "execute_result"
    }
   ],
   "source": [
    "matches_top_5.head()"
   ],
   "metadata": {
    "collapsed": false,
    "ExecuteTime": {
     "end_time": "2024-03-27T07:37:46.627904Z",
     "start_time": "2024-03-27T07:37:46.602853Z"
    }
   },
   "id": "6b905b102119bd8b",
   "execution_count": 4
  },
  {
   "cell_type": "markdown",
   "source": [
    "# Data Preprocessing"
   ],
   "metadata": {
    "collapsed": false
   },
   "id": "f904bc5f0bcf5c8e"
  },
  {
   "cell_type": "markdown",
   "source": [
    "- Creation of the Target Variable Column"
   ],
   "metadata": {
    "collapsed": false
   },
   "id": "231d71c4745bd0c1"
  },
  {
   "cell_type": "markdown",
   "source": [
    "During the Exploratory Data Analysis (EDA) stage, we noted that the average number of goals per game for each season fluctuates between 2.2 and 3.1. The most prevalent bets are placed on whether the total goals will be under or over 2.5, or 3.5. However, we lack data on the odds provided by betting companies and the specific under/over bets they offered. As a result, we will generate a new column, 'goals_target,' where 'O' signifies over two goals and 'U' signifies under two goals. This would be a good starting point for prediction, especially if the model accurately predicts unders. This model would also be effective when betting companies offer under/over bets of 3.5 goals, not just 2.5."
   ],
   "metadata": {
    "collapsed": false
   },
   "id": "928128baf1258508"
  },
  {
   "cell_type": "code",
   "outputs": [],
   "source": [
    "matches_top_5['goals_target'] = np.where(matches_top_5['home_team_goal'] + matches_top_5['away_team_goal'] > 2, 'O',\n",
    "                                         'U')"
   ],
   "metadata": {
    "collapsed": false,
    "ExecuteTime": {
     "end_time": "2024-03-27T07:37:46.635300Z",
     "start_time": "2024-03-27T07:37:46.629903Z"
    }
   },
   "id": "ac180a885e7841c9",
   "execution_count": 5
  },
  {
   "cell_type": "markdown",
   "source": [
    "Let`s check the distribution of the target variable"
   ],
   "metadata": {
    "collapsed": false
   },
   "id": "4aff6b22c351c7c1"
  },
  {
   "cell_type": "code",
   "outputs": [
    {
     "data": {
      "text/plain": "goals_target\nO    7302\nU    7283\nName: count, dtype: int64"
     },
     "execution_count": 6,
     "metadata": {},
     "output_type": "execute_result"
    }
   ],
   "source": [
    "matches_top_5['goals_target'].value_counts()"
   ],
   "metadata": {
    "collapsed": false,
    "ExecuteTime": {
     "end_time": "2024-03-27T07:37:46.644285Z",
     "start_time": "2024-03-27T07:37:46.636301Z"
    }
   },
   "id": "9562a7cc79869ecb",
   "execution_count": 6
  },
  {
   "cell_type": "markdown",
   "source": [
    "The balance in the distribution of the target variable is beneficial for the model."
   ],
   "metadata": {
    "collapsed": false
   },
   "id": "83519c125b7686ec"
  },
  {
   "cell_type": "markdown",
   "source": [
    "- A drop of  unnecessary columns"
   ],
   "metadata": {
    "collapsed": false
   },
   "id": "6fb60056c9add033"
  },
  {
   "cell_type": "code",
   "outputs": [],
   "source": [
    "teams = ['home', 'away']\n",
    "columns_to_drop = ['date']\n",
    "\n",
    "for team in teams:\n",
    "    columns_to_drop += [f'{team}_team_goal', f'{team}_team', f'{team}_team_rating_category', f'{team}_team_points']\n",
    "\n",
    "for team in teams:\n",
    "    for i in range(1, 12):\n",
    "        columns_to_drop += [f'{team}_player_{i}', f'{team}_player_Y{i}', f'{team}_player_{i}_age']\n",
    "\n",
    "matches_top_5 = matches_top_5.drop(columns=columns_to_drop)"
   ],
   "metadata": {
    "collapsed": false,
    "ExecuteTime": {
     "end_time": "2024-03-27T07:37:46.654069Z",
     "start_time": "2024-03-27T07:37:46.645280Z"
    }
   },
   "id": "81a62deb790057d5",
   "execution_count": 7
  },
  {
   "cell_type": "markdown",
   "source": [
    "- Check for Nan values"
   ],
   "metadata": {
    "collapsed": false
   },
   "id": "26d808a96803154b"
  },
  {
   "cell_type": "code",
   "outputs": [
    {
     "data": {
      "text/plain": "match_api_id                      0\nseason                            0\nstage                             0\nleague_name                       0\nresult                            0\naverage_home_player_rating        0\naverage_away_player_rating        0\nplayers_rating_difference         0\nhome_players_age                  0\naway_players_age                  0\nplayers_age_difference            0\nhome_team_form                    1\naway_team_form                    1\nhome_team_formations              0\naway_team_formations              0\nhome_team_rolling_goals           1\nhome_team_rolling_conceded        1\naway_team_rolling_goals           1\naway_team_rolling_conceded        1\nHome_GK                          38\nAway_GK                          29\ndefenders_home_rating             0\ndefenders_home_total_rating       0\ndefenders_away_rating             0\ndefenders_away_total_rating       0\nmidfielders_home_rating           0\nmidfielders_home_total_rating     0\nmidfielders_away_rating           0\nmidfielders_away_total_rating     0\nforwards_home_rating             16\nforwards_home_total_rating        0\nforwards_away_rating             26\nforwards_away_total_rating        0\nhome_team_outlier                 0\naway_team_outlier                 0\ngoals_target                      0\ndtype: int64"
     },
     "execution_count": 8,
     "metadata": {},
     "output_type": "execute_result"
    }
   ],
   "source": [
    "matches_top_5.isna().sum()"
   ],
   "metadata": {
    "collapsed": false,
    "ExecuteTime": {
     "end_time": "2024-03-27T07:37:46.664093Z",
     "start_time": "2024-03-27T07:37:46.655070Z"
    }
   },
   "id": "1255f50ffd6d2b3d",
   "execution_count": 8
  },
  {
   "cell_type": "code",
   "outputs": [
    {
     "data": {
      "text/plain": "0.7610558793280768"
     },
     "execution_count": 9,
     "metadata": {},
     "output_type": "execute_result"
    }
   ],
   "source": [
    "num_rows_with_nan = matches_top_5.isna().any(axis=1).sum()\n",
    "\n",
    "total_rows = len(matches_top_5)\n",
    "\n",
    "percentage = (num_rows_with_nan / total_rows) * 100\n",
    "\n",
    "percentage"
   ],
   "metadata": {
    "collapsed": false,
    "ExecuteTime": {
     "end_time": "2024-03-27T07:37:46.674678Z",
     "start_time": "2024-03-27T07:37:46.665093Z"
    }
   },
   "id": "16fa1bfb8c9999fa",
   "execution_count": 9
  },
  {
   "cell_type": "markdown",
   "source": [
    "Percentage of rows with Nan values is 0.76% so we can drop them."
   ],
   "metadata": {
    "collapsed": false
   },
   "id": "72738750f21298ee"
  },
  {
   "cell_type": "code",
   "outputs": [],
   "source": [
    "matches_top_5 = matches_top_5.dropna()"
   ],
   "metadata": {
    "collapsed": false,
    "ExecuteTime": {
     "end_time": "2024-03-27T07:37:46.686765Z",
     "start_time": "2024-03-27T07:37:46.675678Z"
    }
   },
   "id": "e3536537b61367c1",
   "execution_count": 10
  },
  {
   "cell_type": "markdown",
   "source": [
    "- Replace of 'Draw' and 'Lose' values in the 'result' column"
   ],
   "metadata": {
    "collapsed": false
   },
   "id": "3fb3c4aaaec4ccb7"
  },
  {
   "cell_type": "markdown",
   "source": [
    "We will substitute the 'Draw' and 'Lose' values in the 'result' column with 'NW' (No Win). This modification will enable us to construct a binary classification model, with the target variable being either 'Win' or 'NW.' The objective of this model is to forecast when the home team will win. For our purposes, a draw or loss is treated the same way."
   ],
   "metadata": {
    "collapsed": false
   },
   "id": "77b360cae334b6c1"
  },
  {
   "cell_type": "code",
   "outputs": [],
   "source": [
    "matches_top_5['result'] = matches_top_5['result'].replace(['Draw', 'Lose'], 'NW')"
   ],
   "metadata": {
    "collapsed": false,
    "ExecuteTime": {
     "end_time": "2024-03-27T07:37:46.697489Z",
     "start_time": "2024-03-27T07:37:46.690759Z"
    }
   },
   "id": "42ec71f39b6cd6ad",
   "execution_count": 11
  },
  {
   "cell_type": "markdown",
   "source": [
    "- Encode of team formations"
   ],
   "metadata": {
    "collapsed": false
   },
   "id": "4d4c70faab1bf7f9"
  },
  {
   "cell_type": "markdown",
   "source": [
    "Let's first check the number of unique formations used to decide on the encoding method."
   ],
   "metadata": {
    "collapsed": false
   },
   "id": "b28ea0f8cf4aa29a"
  },
  {
   "cell_type": "code",
   "outputs": [
    {
     "name": "stdout",
     "output_type": "stream",
     "text": [
      "Unique values in home_team_formations: ['4-5-1' '4-4-2' '4-3-3' '3-5-2' '3-4-3' '3-6-1' '5-3-2' '5-4-1' '4-4-1']\n",
      "Unique values in away_team_formations: ['4-5-1' '4-4-2' '4-3-3' '3-5-2' '5-4-1' '5-3-2' '3-6-1' '3-4-3' '3-4-2'\n",
      " '4-3-2']\n"
     ]
    }
   ],
   "source": [
    "home_team_formations_unique = matches_top_5['home_team_formations'].unique()\n",
    "away_team_formations_unique = matches_top_5['away_team_formations'].unique()\n",
    "\n",
    "print(\"Unique values in home_team_formations:\", home_team_formations_unique)\n",
    "print(\"Unique values in away_team_formations:\", away_team_formations_unique)"
   ],
   "metadata": {
    "collapsed": false,
    "ExecuteTime": {
     "end_time": "2024-03-27T07:37:46.706535Z",
     "start_time": "2024-03-27T07:37:46.698489Z"
    }
   },
   "id": "54e515919e1bf0c",
   "execution_count": 12
  },
  {
   "cell_type": "markdown",
   "source": [
    "We will encode the 'home_team_formations' and 'away_team_formations' columns. To avoid creating too many columns , we will change formations to 3 types, Defensive, Balanced and Offensive. It will depend on with how many forwards the team is playing. If the formation ends with 1, it will be Defensive, if it ends with 2, it will be Balanced and if it ends with 3, it will be Offensive."
   ],
   "metadata": {
    "collapsed": false
   },
   "id": "52eea92a13dcfd7"
  },
  {
   "cell_type": "code",
   "outputs": [],
   "source": [
    "def map_formation_to_style(formation):\n",
    "    last_number = int(formation[-1])\n",
    "    if last_number == 1:\n",
    "        return 'Defensive'\n",
    "    elif last_number == 2:\n",
    "        return 'Normal'\n",
    "    elif last_number == 3:\n",
    "        return 'Attacking'\n",
    "    else:\n",
    "        return formation\n",
    "\n",
    "\n",
    "matches_top_5['home_team_formations'] = matches_top_5['home_team_formations'].apply(map_formation_to_style)\n",
    "matches_top_5['away_team_formations'] = matches_top_5['away_team_formations'].apply(map_formation_to_style)"
   ],
   "metadata": {
    "collapsed": false,
    "ExecuteTime": {
     "end_time": "2024-03-27T07:37:46.722311Z",
     "start_time": "2024-03-27T07:37:46.707536Z"
    }
   },
   "id": "84b34197cc18ed4d",
   "execution_count": 13
  },
  {
   "cell_type": "markdown",
   "source": [
    "Now we will encode the 'home_team_formations' and 'away_team_formations' columns for the model."
   ],
   "metadata": {
    "collapsed": false
   },
   "id": "206e590ca9a52c44"
  },
  {
   "cell_type": "code",
   "outputs": [],
   "source": [
    "matches_top_5 = pd.get_dummies(matches_top_5, columns=['home_team_formations', 'away_team_formations'])"
   ],
   "metadata": {
    "collapsed": false,
    "ExecuteTime": {
     "end_time": "2024-03-27T07:37:46.737553Z",
     "start_time": "2024-03-27T07:37:46.723311Z"
    }
   },
   "id": "a41f40c5938ad7ff",
   "execution_count": 14
  },
  {
   "cell_type": "markdown",
   "source": [
    "- Check for multicollinearity"
   ],
   "metadata": {
    "collapsed": false
   },
   "id": "6a6e80a7545db287"
  },
  {
   "cell_type": "markdown",
   "source": [
    "We will check for multicollinearity between the independent variables. We will use the Variance Inflation Factor (VIF) to check for multicollinearity. "
   ],
   "metadata": {
    "collapsed": false
   },
   "id": "bdea1e1b96e86c27"
  },
  {
   "cell_type": "code",
   "outputs": [
    {
     "name": "stderr",
     "output_type": "stream",
     "text": [
      "C:\\Users\\duome\\AppData\\Local\\Programs\\Python\\Python312\\Lib\\site-packages\\statsmodels\\stats\\outliers_influence.py:198: RuntimeWarning: divide by zero encountered in scalar divide\n",
      "  vif = 1. / (1. - r_squared_i)\n"
     ]
    },
    {
     "data": {
      "text/plain": "                        variables         VIF\n0                           const      846.77\n1                    match_api_id        5.13\n2                           stage        1.02\n3      average_home_player_rating  1744528.76\n4      average_away_player_rating  1736298.27\n5       players_rating_difference  2148411.61\n6                home_players_age         inf\n7                away_players_age         inf\n8          players_age_difference         inf\n9                  home_team_form        4.52\n10                 away_team_form        4.67\n11        home_team_rolling_goals        2.98\n12     home_team_rolling_conceded        2.30\n13        away_team_rolling_goals        2.96\n14     away_team_rolling_conceded        2.39\n15                        Home_GK        5.68\n16                        Away_GK        5.53\n17          defenders_home_rating       22.64\n18    defenders_home_total_rating        7.32\n19          defenders_away_rating       21.63\n20    defenders_away_total_rating        6.93\n21        midfielders_home_rating       26.13\n22  midfielders_home_total_rating       20.96\n23        midfielders_away_rating       26.51\n24  midfielders_away_total_rating       20.46\n25           forwards_home_rating        6.32\n26     forwards_home_total_rating       19.57\n27           forwards_away_rating        6.13\n28     forwards_away_total_rating       18.76\n29              home_team_outlier        1.32\n30              away_team_outlier        1.30",
      "text/html": "<div>\n<style scoped>\n    .dataframe tbody tr th:only-of-type {\n        vertical-align: middle;\n    }\n\n    .dataframe tbody tr th {\n        vertical-align: top;\n    }\n\n    .dataframe thead th {\n        text-align: right;\n    }\n</style>\n<table border=\"1\" class=\"dataframe\">\n  <thead>\n    <tr style=\"text-align: right;\">\n      <th></th>\n      <th>variables</th>\n      <th>VIF</th>\n    </tr>\n  </thead>\n  <tbody>\n    <tr>\n      <th>0</th>\n      <td>const</td>\n      <td>846.77</td>\n    </tr>\n    <tr>\n      <th>1</th>\n      <td>match_api_id</td>\n      <td>5.13</td>\n    </tr>\n    <tr>\n      <th>2</th>\n      <td>stage</td>\n      <td>1.02</td>\n    </tr>\n    <tr>\n      <th>3</th>\n      <td>average_home_player_rating</td>\n      <td>1744528.76</td>\n    </tr>\n    <tr>\n      <th>4</th>\n      <td>average_away_player_rating</td>\n      <td>1736298.27</td>\n    </tr>\n    <tr>\n      <th>5</th>\n      <td>players_rating_difference</td>\n      <td>2148411.61</td>\n    </tr>\n    <tr>\n      <th>6</th>\n      <td>home_players_age</td>\n      <td>inf</td>\n    </tr>\n    <tr>\n      <th>7</th>\n      <td>away_players_age</td>\n      <td>inf</td>\n    </tr>\n    <tr>\n      <th>8</th>\n      <td>players_age_difference</td>\n      <td>inf</td>\n    </tr>\n    <tr>\n      <th>9</th>\n      <td>home_team_form</td>\n      <td>4.52</td>\n    </tr>\n    <tr>\n      <th>10</th>\n      <td>away_team_form</td>\n      <td>4.67</td>\n    </tr>\n    <tr>\n      <th>11</th>\n      <td>home_team_rolling_goals</td>\n      <td>2.98</td>\n    </tr>\n    <tr>\n      <th>12</th>\n      <td>home_team_rolling_conceded</td>\n      <td>2.30</td>\n    </tr>\n    <tr>\n      <th>13</th>\n      <td>away_team_rolling_goals</td>\n      <td>2.96</td>\n    </tr>\n    <tr>\n      <th>14</th>\n      <td>away_team_rolling_conceded</td>\n      <td>2.39</td>\n    </tr>\n    <tr>\n      <th>15</th>\n      <td>Home_GK</td>\n      <td>5.68</td>\n    </tr>\n    <tr>\n      <th>16</th>\n      <td>Away_GK</td>\n      <td>5.53</td>\n    </tr>\n    <tr>\n      <th>17</th>\n      <td>defenders_home_rating</td>\n      <td>22.64</td>\n    </tr>\n    <tr>\n      <th>18</th>\n      <td>defenders_home_total_rating</td>\n      <td>7.32</td>\n    </tr>\n    <tr>\n      <th>19</th>\n      <td>defenders_away_rating</td>\n      <td>21.63</td>\n    </tr>\n    <tr>\n      <th>20</th>\n      <td>defenders_away_total_rating</td>\n      <td>6.93</td>\n    </tr>\n    <tr>\n      <th>21</th>\n      <td>midfielders_home_rating</td>\n      <td>26.13</td>\n    </tr>\n    <tr>\n      <th>22</th>\n      <td>midfielders_home_total_rating</td>\n      <td>20.96</td>\n    </tr>\n    <tr>\n      <th>23</th>\n      <td>midfielders_away_rating</td>\n      <td>26.51</td>\n    </tr>\n    <tr>\n      <th>24</th>\n      <td>midfielders_away_total_rating</td>\n      <td>20.46</td>\n    </tr>\n    <tr>\n      <th>25</th>\n      <td>forwards_home_rating</td>\n      <td>6.32</td>\n    </tr>\n    <tr>\n      <th>26</th>\n      <td>forwards_home_total_rating</td>\n      <td>19.57</td>\n    </tr>\n    <tr>\n      <th>27</th>\n      <td>forwards_away_rating</td>\n      <td>6.13</td>\n    </tr>\n    <tr>\n      <th>28</th>\n      <td>forwards_away_total_rating</td>\n      <td>18.76</td>\n    </tr>\n    <tr>\n      <th>29</th>\n      <td>home_team_outlier</td>\n      <td>1.32</td>\n    </tr>\n    <tr>\n      <th>30</th>\n      <td>away_team_outlier</td>\n      <td>1.30</td>\n    </tr>\n  </tbody>\n</table>\n</div>"
     },
     "execution_count": 15,
     "metadata": {},
     "output_type": "execute_result"
    }
   ],
   "source": [
    "numeric_cols = matches_top_5.select_dtypes(include=['int64', 'float64'])\n",
    "\n",
    "X = numeric_cols\n",
    "y = matches_top_5['result']\n",
    "\n",
    "X = sm.add_constant(X)\n",
    "\n",
    "vif = pd.DataFrame()\n",
    "vif[\"variables\"] = X.columns\n",
    "vif[\"VIF\"] = [round(variance_inflation_factor(X.values, i), 2) for i in range(X.shape[1])]\n",
    "\n",
    "vif"
   ],
   "metadata": {
    "collapsed": false,
    "ExecuteTime": {
     "end_time": "2024-03-27T07:37:47.485158Z",
     "start_time": "2024-03-27T07:37:46.738548Z"
    }
   },
   "id": "d8fa04822da39a3f",
   "execution_count": 15
  },
  {
   "cell_type": "markdown",
   "source": [],
   "metadata": {
    "collapsed": false
   },
   "id": "d0caf07eee45e395"
  },
  {
   "cell_type": "markdown",
   "source": [
    "We can see that there is multicollinearity between the independent variables. We will drop the 'average_home_player_rating,' 'average_away_player_rating,' 'home_players_age', and 'away_players_age' columns."
   ],
   "metadata": {
    "collapsed": false
   },
   "id": "e649447366018fc6"
  },
  {
   "cell_type": "code",
   "outputs": [],
   "source": [
    "matches_top_5 = matches_top_5.drop(\n",
    "    ['average_home_player_rating', 'average_away_player_rating', 'home_players_age', 'away_players_age'], axis=1)"
   ],
   "metadata": {
    "collapsed": false,
    "ExecuteTime": {
     "end_time": "2024-03-27T07:37:47.493831Z",
     "start_time": "2024-03-27T07:37:47.486159Z"
    }
   },
   "id": "81d64f0279e7b9a3",
   "execution_count": 16
  },
  {
   "cell_type": "markdown",
   "source": [],
   "metadata": {
    "collapsed": false
   },
   "id": "5b0b12f3434d6e3e"
  },
  {
   "cell_type": "markdown",
   "source": [
    "'Draw' and 'Lose' values in the 'result' column were replaced with 'NW' (No Win). The 'home_team_formations' and 'away_team_formations' columns were encoded. Now, we will save this data frame and train the models."
   ],
   "metadata": {
    "collapsed": false
   },
   "id": "be4a0c854e4c1e2b"
  },
  {
   "cell_type": "code",
   "outputs": [],
   "source": [
    "matches_top_5.to_csv('matches_top_5_model.csv', index=False)"
   ],
   "metadata": {
    "collapsed": false,
    "ExecuteTime": {
     "end_time": "2024-03-27T07:37:47.748484Z",
     "start_time": "2024-03-27T07:37:47.494833Z"
    }
   },
   "id": "b509b81fa55d655d",
   "execution_count": 17
  },
  {
   "cell_type": "markdown",
   "source": [
    "# Machine learning models"
   ],
   "metadata": {
    "collapsed": false
   },
   "id": "7bf7605292cd0678"
  },
  {
   "cell_type": "markdown",
   "source": [
    "We will use the following models to train the data:\n",
    "- Logistic Regression\n",
    "- Random Forest\n",
    "- Support Vector Machine\n",
    "- K-Nearest Neighbors\n",
    "- Gradient Boosting"
   ],
   "metadata": {
    "collapsed": false
   },
   "id": "84500c2871132244"
  },
  {
   "cell_type": "markdown",
   "source": [],
   "metadata": {
    "collapsed": false
   },
   "id": "aef15be7d8bc3839"
  },
  {
   "cell_type": "code",
   "outputs": [
    {
     "data": {
      "text/plain": "     precision    recall  f1-score  support                   model\nWin   0.577049  0.435644  0.496474    808.0     Logistic Regression\nWin   0.557118  0.392327  0.460421    808.0           Random Forest\nWin   0.590385  0.379950  0.462349    808.0  Support Vector Machine\nWin   0.506831  0.459158  0.481818    808.0     K-Nearest Neighbors\nWin   0.575540  0.396040  0.469208    808.0       Gradient Boosting",
      "text/html": "<div>\n<style scoped>\n    .dataframe tbody tr th:only-of-type {\n        vertical-align: middle;\n    }\n\n    .dataframe tbody tr th {\n        vertical-align: top;\n    }\n\n    .dataframe thead th {\n        text-align: right;\n    }\n</style>\n<table border=\"1\" class=\"dataframe\">\n  <thead>\n    <tr style=\"text-align: right;\">\n      <th></th>\n      <th>precision</th>\n      <th>recall</th>\n      <th>f1-score</th>\n      <th>support</th>\n      <th>model</th>\n    </tr>\n  </thead>\n  <tbody>\n    <tr>\n      <th>Win</th>\n      <td>0.577049</td>\n      <td>0.435644</td>\n      <td>0.496474</td>\n      <td>808.0</td>\n      <td>Logistic Regression</td>\n    </tr>\n    <tr>\n      <th>Win</th>\n      <td>0.557118</td>\n      <td>0.392327</td>\n      <td>0.460421</td>\n      <td>808.0</td>\n      <td>Random Forest</td>\n    </tr>\n    <tr>\n      <th>Win</th>\n      <td>0.590385</td>\n      <td>0.379950</td>\n      <td>0.462349</td>\n      <td>808.0</td>\n      <td>Support Vector Machine</td>\n    </tr>\n    <tr>\n      <th>Win</th>\n      <td>0.506831</td>\n      <td>0.459158</td>\n      <td>0.481818</td>\n      <td>808.0</td>\n      <td>K-Nearest Neighbors</td>\n    </tr>\n    <tr>\n      <th>Win</th>\n      <td>0.575540</td>\n      <td>0.396040</td>\n      <td>0.469208</td>\n      <td>808.0</td>\n      <td>Gradient Boosting</td>\n    </tr>\n  </tbody>\n</table>\n</div>"
     },
     "execution_count": 18,
     "metadata": {},
     "output_type": "execute_result"
    }
   ],
   "source": [
    "features = matches_top_5.drop(['league_name', 'season', 'result', 'match_api_id', 'goals_target'], axis=1)\n",
    "target = matches_top_5['result']\n",
    "\n",
    "train_data = matches_top_5[matches_top_5['season'] != '2015/2016']\n",
    "test_data = matches_top_5[matches_top_5['season'] == '2015/2016']\n",
    "\n",
    "features_train = train_data.drop(['league_name', 'season', 'result', 'match_api_id', 'goals_target'], axis=1)\n",
    "target_train = train_data['result']\n",
    "\n",
    "features_test = test_data.drop(['league_name', 'season', 'result', 'match_api_id', 'goals_target'], axis=1)\n",
    "target_test = test_data['result']\n",
    "\n",
    "models = {\n",
    "    \"Logistic Regression\": make_pipeline(StandardScaler(), LogisticRegression(max_iter=1000)),\n",
    "    \"Random Forest\": RandomForestClassifier(),\n",
    "    \"Support Vector Machine\": make_pipeline(StandardScaler(), SVC()),\n",
    "    \"K-Nearest Neighbors\": make_pipeline(StandardScaler(), KNeighborsClassifier()),\n",
    "    \"Gradient Boosting\": GradientBoostingClassifier()\n",
    "}\n",
    "\n",
    "results_df = pd.DataFrame()\n",
    "\n",
    "for model_name, model in models.items():\n",
    "    model.fit(features_train, target_train)\n",
    "    predicted_results = model.predict(features_test)\n",
    "    report = classification_report(target_test, predicted_results, output_dict=True)\n",
    "    report_df = pd.DataFrame(report).transpose()\n",
    "    report_df['model'] = model_name\n",
    "    results_df = pd.concat([results_df, report_df])\n",
    "\n",
    "win_results_df = results_df[results_df.index == 'Win']\n",
    "\n",
    "win_results_df"
   ],
   "metadata": {
    "collapsed": false,
    "ExecuteTime": {
     "end_time": "2024-03-27T07:38:06.791769Z",
     "start_time": "2024-03-27T07:37:47.749481Z"
    }
   },
   "id": "b2a50b1e879abe1d",
   "execution_count": 18
  },
  {
   "cell_type": "markdown",
   "source": [
    "Logistic regression model has the best ratio of precision and recall. We will try to improve it and use for betting."
   ],
   "metadata": {
    "collapsed": false
   },
   "id": "fd54e82acf384840"
  },
  {
   "cell_type": "markdown",
   "source": [],
   "metadata": {
    "collapsed": false
   },
   "id": "d273d76ecbfa433b"
  },
  {
   "cell_type": "markdown",
   "source": [
    "## Logistic Regression"
   ],
   "metadata": {
    "collapsed": false
   },
   "id": "25caaeb5c749a56a"
  },
  {
   "cell_type": "markdown",
   "source": [
    "We will check the coefficients of the logistic regression model to see which features are the most important."
   ],
   "metadata": {
    "collapsed": false
   },
   "id": "7ac372d49a86afdd"
  },
  {
   "cell_type": "code",
   "outputs": [],
   "source": [
    "model = models['Logistic Regression']\n",
    "\n",
    "coefficients = model.named_steps['logisticregression'].coef_[0]\n",
    "\n",
    "coefficients_df = pd.DataFrame(coefficients, columns=['Coefficient'])\n",
    "\n",
    "coefficients_df.index = features_train.columns\n",
    "\n",
    "coefficients_df = coefficients_df.sort_values('Coefficient', ascending=False)"
   ],
   "metadata": {
    "collapsed": false,
    "ExecuteTime": {
     "end_time": "2024-03-27T07:38:06.799037Z",
     "start_time": "2024-03-27T07:38:06.792768Z"
    }
   },
   "id": "7b67849aa56cb71f",
   "execution_count": 19
  },
  {
   "cell_type": "code",
   "outputs": [
    {
     "data": {
      "text/plain": "<Figure size 1000x800 with 1 Axes>",
      "image/png": "[encoded data removed]"
     },
     "metadata": {},
     "output_type": "display_data"
    }
   ],
   "source": [
    "plt.figure(figsize=(10, 8))\n",
    "coefficients_df['Coefficient'].plot(kind='barh', color='skyblue')\n",
    "plt.title('Feature Importance')\n",
    "plt.xlabel('Coefficient Value')\n",
    "plt.ylabel('Feature Name')\n",
    "plt.show()"
   ],
   "metadata": {
    "collapsed": false,
    "ExecuteTime": {
     "end_time": "2024-03-27T07:38:07.266102Z",
     "start_time": "2024-03-27T07:38:06.800036Z"
    }
   },
   "id": "ac5f177dca659f89",
   "execution_count": 20
  },
  {
   "cell_type": "markdown",
   "source": [
    "### Explained Variance by Components"
   ],
   "metadata": {
    "collapsed": false
   },
   "id": "68e29400dcf03d2f"
  },
  {
   "cell_type": "markdown",
   "source": [
    "Now, we will generate a plot to illustrate the variance explained by each component. This will aid us in determining the number of components to utilize in Principal Component Analysis (PCA)."
   ],
   "metadata": {
    "collapsed": false
   },
   "id": "7791d7b42ce481d7"
  },
  {
   "cell_type": "code",
   "outputs": [
    {
     "data": {
      "text/plain": "<Figure size 1000x700 with 1 Axes>",
      "image/png": "[encoded data removed]"
     },
     "metadata": {},
     "output_type": "display_data"
    }
   ],
   "source": [
    "scaler = StandardScaler()\n",
    "features_train_scaled = scaler.fit_transform(features_train)\n",
    "\n",
    "pca = PCA()\n",
    "pca.fit(features_train_scaled)\n",
    "\n",
    "explained_variance_ratio = pca.explained_variance_ratio_\n",
    "\n",
    "cumulative_explained_variance = np.cumsum(explained_variance_ratio)\n",
    "\n",
    "plt.figure(figsize=(10, 7))\n",
    "plt.plot(range(1, len(cumulative_explained_variance) + 1), cumulative_explained_variance, marker='o', linestyle='--')\n",
    "plt.title('Explained Variance by Components')\n",
    "plt.xlabel('Number of Components')\n",
    "plt.ylabel('Cumulative Explained Variance')\n",
    "plt.show()"
   ],
   "metadata": {
    "collapsed": false,
    "ExecuteTime": {
     "end_time": "2024-03-27T07:38:07.512820Z",
     "start_time": "2024-03-27T07:38:07.267103Z"
    }
   },
   "id": "4e05961d5476775a",
   "execution_count": 21
  },
  {
   "cell_type": "markdown",
   "source": [],
   "metadata": {
    "collapsed": false
   },
   "id": "daf847b4f859fc97"
  },
  {
   "cell_type": "markdown",
   "source": [
    "### PCA and Hyperparameter Tuning"
   ],
   "metadata": {
    "collapsed": false
   },
   "id": "e0f7c5dd863f60fc"
  },
  {
   "cell_type": "code",
   "outputs": [
    {
     "name": "stdout",
     "output_type": "stream",
     "text": [
      "Best parameters:  {'m__C': 0.001}\n",
      "Best precision:  0.6098499075816447\n"
     ]
    }
   ],
   "source": [
    "pca = PCA(n_components=20)\n",
    "\n",
    "pipeline = Pipeline(steps=[('s', StandardScaler()), ('pca', pca), ('m', LogisticRegression(max_iter=1000))])\n",
    "\n",
    "param_grid = {\n",
    "    'm__C': [0.001, 0.01, 0.1, 1, 10, 100, 1000]\n",
    "}\n",
    "\n",
    "custom_scorer = make_scorer(precision_score, pos_label='Win')\n",
    "\n",
    "grid_search = GridSearchCV(pipeline, param_grid, cv=5, scoring=custom_scorer)\n",
    "grid_search.fit(features_train, target_train)\n",
    "\n",
    "print(\"Best parameters: \", grid_search.best_params_)\n",
    "print(\"Best precision: \", grid_search.best_score_)\n",
    "\n",
    "best_model = grid_search.best_estimator_"
   ],
   "metadata": {
    "collapsed": false,
    "ExecuteTime": {
     "end_time": "2024-03-27T07:38:11.931158Z",
     "start_time": "2024-03-27T07:38:07.513817Z"
    }
   },
   "id": "7a856957a89321a8",
   "execution_count": 22
  },
  {
   "cell_type": "code",
   "outputs": [
    {
     "name": "stdout",
     "output_type": "stream",
     "text": [
      "              precision    recall  f1-score   support\n",
      "\n",
      "          NW       0.62      0.79      0.70      1014\n",
      "         Win       0.60      0.40      0.48       808\n",
      "\n",
      "    accuracy                           0.62      1822\n",
      "   macro avg       0.61      0.59      0.59      1822\n",
      "weighted avg       0.61      0.62      0.60      1822\n"
     ]
    }
   ],
   "source": [
    "predicted_test = best_model.predict(features_test)\n",
    "\n",
    "report = classification_report(target_test, predicted_test)\n",
    "\n",
    "print(report)"
   ],
   "metadata": {
    "collapsed": false,
    "ExecuteTime": {
     "end_time": "2024-03-27T07:38:11.981680Z",
     "start_time": "2024-03-27T07:38:11.932160Z"
    }
   },
   "id": "d9fa89d50e6ffe36",
   "execution_count": 23
  },
  {
   "cell_type": "markdown",
   "source": [
    "The precision of our model has increased from 57 to 60, while the recall has slightly decreased from 43 to 40. However, in our case, precision is more crucial. Therefore, we will consider this as our optimal model and proceed to use it for testing in the betting scenario."
   ],
   "metadata": {
    "collapsed": false
   },
   "id": "63447acc5139faf2"
  },
  {
   "cell_type": "code",
   "outputs": [
    {
     "data": {
      "text/plain": "['best_model.pkl']"
     },
     "execution_count": 24,
     "metadata": {},
     "output_type": "execute_result"
    }
   ],
   "source": [
    "joblib.dump(best_model, 'best_model.pkl')"
   ],
   "metadata": {
    "collapsed": false,
    "ExecuteTime": {
     "end_time": "2024-03-27T07:38:11.991173Z",
     "start_time": "2024-03-27T07:38:11.982681Z"
    }
   },
   "id": "ef0c93f787064d2b",
   "execution_count": 24
  },
  {
   "cell_type": "markdown",
   "source": [
    "# Testing the Betting Strategy"
   ],
   "metadata": {
    "collapsed": false
   },
   "id": "808a4a0a7c55187a"
  },
  {
   "cell_type": "markdown",
   "source": [
    "Now, we will compute the prediction odds, combine this data with the data from betting companies, and evaluate if our model outperforms the bookmakers."
   ],
   "metadata": {
    "collapsed": false
   },
   "id": "cd46462f5e6abb47"
  },
  {
   "cell_type": "code",
   "outputs": [],
   "source": [
    "loaded_model = joblib.load('best_model.pkl')\n",
    "\n",
    "predicted_test = loaded_model.predict(features_test)\n",
    "predicted_probabilities = loaded_model.predict_proba(features_test)\n",
    "\n",
    "predictions_df = test_data.copy()\n",
    "predictions_df['Predicted_Result'] = predicted_test\n",
    "predictions_df['Probability_NW'] = predicted_probabilities[:, 0]\n",
    "predictions_df['Probability_Win'] = predicted_probabilities[:, 1]\n",
    "\n",
    "odds_NW = 1 / predicted_probabilities[:, 0]\n",
    "odds_Win = 1 / predicted_probabilities[:, 1]\n",
    "\n",
    "predictions_df['Odds_NW'] = odds_NW\n",
    "predictions_df['Odds_Win'] = odds_Win\n",
    "\n",
    "predictions_df['Odds_NW'] = predictions_df['Odds_NW'].round(2)\n",
    "predictions_df['Odds_Win'] = predictions_df['Odds_Win'].round(2)"
   ],
   "metadata": {
    "collapsed": false,
    "ExecuteTime": {
     "end_time": "2024-03-27T07:38:12.009477Z",
     "start_time": "2024-03-27T07:38:11.992167Z"
    }
   },
   "id": "f779ef5fa2e21afa",
   "execution_count": 25
  },
  {
   "cell_type": "markdown",
   "source": [
    "Now, we will retrieve the betting odds from various companies for matches in the 2015/2016 season played in the top 5 leagues, which we have previously analyzed and used to train our model. We are taking just the odds of the home team win because we will bet only on the home team win; column names are coded in this way: if it is William Hill, it will be WHH - which means William Hill Home Win, if it's bet365 it will be B365H - means Bet365 Home Win if WHA - William Hill Away Win, B365A - Bet365, if WHD - William Hill Draw, B365D - Bet365 Draw. So we will query all the columns that end with h, and then we will check the columns and if we need to remove some of them"
   ],
   "metadata": {
    "collapsed": false
   },
   "id": "3c3881926b894142"
  },
  {
   "cell_type": "code",
   "outputs": [],
   "source": [
    "conn = sqlite3.connect('football.sqlite')\n",
    "\n",
    "query = \"\"\"\n",
    "SELECT * \n",
    "FROM match \n",
    "WHERE league_id IN ( 1729, 4769, 7809, 10257, 21518 )\n",
    "AND season = '2015/2016'\n",
    "\"\"\"\n",
    "\n",
    "betting_odds = pd.read_sql_query(query, conn)\n",
    "\n",
    "conn.close()\n",
    "\n",
    "betting_odds = betting_odds[['match_api_id'] + [col for col in betting_odds.columns if col.endswith('H')]]"
   ],
   "metadata": {
    "collapsed": false,
    "ExecuteTime": {
     "end_time": "2024-03-27T07:38:14.956689Z",
     "start_time": "2024-03-27T07:38:12.010476Z"
    }
   },
   "id": "b3164fbcc98542d6",
   "execution_count": 26
  },
  {
   "cell_type": "code",
   "outputs": [
    {
     "data": {
      "text/plain": "   match_api_id  B365H   BWH   IWH   LBH   PSH   WHH   SJH   VCH   GBH   BSH\n0       1987032   1.29  1.28  1.33  1.29  1.31  1.30  None  1.30  None  None\n1       1987033   2.00  2.00  2.10  2.05  1.95  1.91  None  2.00  None  None\n2       1987034   1.36  1.40  1.33  1.40  1.39  1.40  None  1.40  None  None\n3       1987035   1.70  1.70  1.70  1.75  1.70  1.73  None  1.73  None  None\n4       1987036   1.95  2.00  2.00  2.00  1.99  2.00  None  2.00  None  None\n5       1987037   1.65  1.65  1.65  1.67  1.65  1.62  None  1.67  None  None\n6       1987038   2.88  2.80  2.65  2.88  2.88  2.70  None  2.88  None  None\n7       1987039   2.55  2.60  2.40  2.62  2.52  2.60  None  2.60  None  None\n8       1987040   3.40  3.20  2.90  3.40  3.48  3.30  None  3.40  None  None\n9       1987041   5.75  4.75  5.10  5.50  5.75  5.50  None  5.50  None  None",
      "text/html": "<div>\n<style scoped>\n    .dataframe tbody tr th:only-of-type {\n        vertical-align: middle;\n    }\n\n    .dataframe tbody tr th {\n        vertical-align: top;\n    }\n\n    .dataframe thead th {\n        text-align: right;\n    }\n</style>\n<table border=\"1\" class=\"dataframe\">\n  <thead>\n    <tr style=\"text-align: right;\">\n      <th></th>\n      <th>match_api_id</th>\n      <th>B365H</th>\n      <th>BWH</th>\n      <th>IWH</th>\n      <th>LBH</th>\n      <th>PSH</th>\n      <th>WHH</th>\n      <th>SJH</th>\n      <th>VCH</th>\n      <th>GBH</th>\n      <th>BSH</th>\n    </tr>\n  </thead>\n  <tbody>\n    <tr>\n      <th>0</th>\n      <td>1987032</td>\n      <td>1.29</td>\n      <td>1.28</td>\n      <td>1.33</td>\n      <td>1.29</td>\n      <td>1.31</td>\n      <td>1.30</td>\n      <td>None</td>\n      <td>1.30</td>\n      <td>None</td>\n      <td>None</td>\n    </tr>\n    <tr>\n      <th>1</th>\n      <td>1987033</td>\n      <td>2.00</td>\n      <td>2.00</td>\n      <td>2.10</td>\n      <td>2.05</td>\n      <td>1.95</td>\n      <td>1.91</td>\n      <td>None</td>\n      <td>2.00</td>\n      <td>None</td>\n      <td>None</td>\n    </tr>\n    <tr>\n      <th>2</th>\n      <td>1987034</td>\n      <td>1.36</td>\n      <td>1.40</td>\n      <td>1.33</td>\n      <td>1.40</td>\n      <td>1.39</td>\n      <td>1.40</td>\n      <td>None</td>\n      <td>1.40</td>\n      <td>None</td>\n      <td>None</td>\n    </tr>\n    <tr>\n      <th>3</th>\n      <td>1987035</td>\n      <td>1.70</td>\n      <td>1.70</td>\n      <td>1.70</td>\n      <td>1.75</td>\n      <td>1.70</td>\n      <td>1.73</td>\n      <td>None</td>\n      <td>1.73</td>\n      <td>None</td>\n      <td>None</td>\n    </tr>\n    <tr>\n      <th>4</th>\n      <td>1987036</td>\n      <td>1.95</td>\n      <td>2.00</td>\n      <td>2.00</td>\n      <td>2.00</td>\n      <td>1.99</td>\n      <td>2.00</td>\n      <td>None</td>\n      <td>2.00</td>\n      <td>None</td>\n      <td>None</td>\n    </tr>\n    <tr>\n      <th>5</th>\n      <td>1987037</td>\n      <td>1.65</td>\n      <td>1.65</td>\n      <td>1.65</td>\n      <td>1.67</td>\n      <td>1.65</td>\n      <td>1.62</td>\n      <td>None</td>\n      <td>1.67</td>\n      <td>None</td>\n      <td>None</td>\n    </tr>\n    <tr>\n      <th>6</th>\n      <td>1987038</td>\n      <td>2.88</td>\n      <td>2.80</td>\n      <td>2.65</td>\n      <td>2.88</td>\n      <td>2.88</td>\n      <td>2.70</td>\n      <td>None</td>\n      <td>2.88</td>\n      <td>None</td>\n      <td>None</td>\n    </tr>\n    <tr>\n      <th>7</th>\n      <td>1987039</td>\n      <td>2.55</td>\n      <td>2.60</td>\n      <td>2.40</td>\n      <td>2.62</td>\n      <td>2.52</td>\n      <td>2.60</td>\n      <td>None</td>\n      <td>2.60</td>\n      <td>None</td>\n      <td>None</td>\n    </tr>\n    <tr>\n      <th>8</th>\n      <td>1987040</td>\n      <td>3.40</td>\n      <td>3.20</td>\n      <td>2.90</td>\n      <td>3.40</td>\n      <td>3.48</td>\n      <td>3.30</td>\n      <td>None</td>\n      <td>3.40</td>\n      <td>None</td>\n      <td>None</td>\n    </tr>\n    <tr>\n      <th>9</th>\n      <td>1987041</td>\n      <td>5.75</td>\n      <td>4.75</td>\n      <td>5.10</td>\n      <td>5.50</td>\n      <td>5.75</td>\n      <td>5.50</td>\n      <td>None</td>\n      <td>5.50</td>\n      <td>None</td>\n      <td>None</td>\n    </tr>\n  </tbody>\n</table>\n</div>"
     },
     "execution_count": 27,
     "metadata": {},
     "output_type": "execute_result"
    }
   ],
   "source": [
    "betting_odds.head(10)"
   ],
   "metadata": {
    "collapsed": false,
    "ExecuteTime": {
     "end_time": "2024-03-27T07:38:14.977273Z",
     "start_time": "2024-03-27T07:38:14.957690Z"
    }
   },
   "id": "e264a3f29e74943",
   "execution_count": 27
  },
  {
   "cell_type": "markdown",
   "source": [
    "We can observe that three companies have null values. Now, we will verify whether these null values are present in all rows or just in some of them."
   ],
   "metadata": {
    "collapsed": false
   },
   "id": "92ab4bad83664636"
  },
  {
   "cell_type": "code",
   "outputs": [
    {
     "data": {
      "text/plain": "match_api_id       0\nB365H              1\nBWH                1\nIWH                0\nLBH                1\nPSH                1\nWHH                0\nSJH             1826\nVCH                1\nGBH             1826\nBSH             1826\ndtype: int64"
     },
     "execution_count": 28,
     "metadata": {},
     "output_type": "execute_result"
    }
   ],
   "source": [
    "betting_odds.isna().sum()"
   ],
   "metadata": {
    "collapsed": false,
    "ExecuteTime": {
     "end_time": "2024-03-27T07:38:14.986887Z",
     "start_time": "2024-03-27T07:38:14.978275Z"
    }
   },
   "id": "a617f72fb026b2b8",
   "execution_count": 28
  },
  {
   "cell_type": "markdown",
   "source": [
    "SJH GBH BSH has just None values, we will drop these columns"
   ],
   "metadata": {
    "collapsed": false
   },
   "id": "83fa7739718064be"
  },
  {
   "cell_type": "code",
   "outputs": [],
   "source": [
    "betting_odds.drop(columns=['PSH', 'SJH', 'BSH', 'GBH'], inplace=True)"
   ],
   "metadata": {
    "collapsed": false,
    "ExecuteTime": {
     "end_time": "2024-03-27T07:38:14.995869Z",
     "start_time": "2024-03-27T07:38:14.990880Z"
    }
   },
   "id": "ede9c0cde80789f7",
   "execution_count": 29
  },
  {
   "cell_type": "markdown",
   "source": [
    "Now, we will merge the betting odds with the predictions dataframe."
   ],
   "metadata": {
    "collapsed": false
   },
   "id": "293730dad3a40b80"
  },
  {
   "cell_type": "code",
   "outputs": [],
   "source": [
    "matches_top_5_sub = predictions_df[['match_api_id', 'Odds_Win', 'Predicted_Result', 'result']]"
   ],
   "metadata": {
    "collapsed": false,
    "ExecuteTime": {
     "end_time": "2024-03-27T07:38:15.002839Z",
     "start_time": "2024-03-27T07:38:14.997868Z"
    }
   },
   "id": "4e8ae910d8291b15",
   "execution_count": 30
  },
  {
   "cell_type": "code",
   "outputs": [],
   "source": [
    "betting_test = pd.merge(betting_odds, matches_top_5_sub, on='match_api_id', how='left')"
   ],
   "metadata": {
    "collapsed": false,
    "ExecuteTime": {
     "end_time": "2024-03-27T07:38:15.011164Z",
     "start_time": "2024-03-27T07:38:15.003834Z"
    }
   },
   "id": "a92b7592e530bc28",
   "execution_count": 31
  },
  {
   "cell_type": "code",
   "outputs": [
    {
     "data": {
      "text/plain": "   match_api_id  B365H   BWH   IWH   LBH   WHH   VCH  Odds_Win  \\\n0       1987032   1.29  1.28  1.33  1.29  1.30  1.30      1.80   \n1       1987033   2.00  2.00  2.10  2.05  1.91  2.00      2.11   \n2       1987034   1.36  1.40  1.33  1.40  1.40  1.40      1.73   \n3       1987035   1.70  1.70  1.70  1.75  1.73  1.73      2.03   \n4       1987036   1.95  2.00  2.00  2.00  2.00  2.00      2.34   \n\n  Predicted_Result result  \n0              Win     NW  \n1               NW     NW  \n2              Win     NW  \n3               NW     NW  \n4               NW    Win  ",
      "text/html": "<div>\n<style scoped>\n    .dataframe tbody tr th:only-of-type {\n        vertical-align: middle;\n    }\n\n    .dataframe tbody tr th {\n        vertical-align: top;\n    }\n\n    .dataframe thead th {\n        text-align: right;\n    }\n</style>\n<table border=\"1\" class=\"dataframe\">\n  <thead>\n    <tr style=\"text-align: right;\">\n      <th></th>\n      <th>match_api_id</th>\n      <th>B365H</th>\n      <th>BWH</th>\n      <th>IWH</th>\n      <th>LBH</th>\n      <th>WHH</th>\n      <th>VCH</th>\n      <th>Odds_Win</th>\n      <th>Predicted_Result</th>\n      <th>result</th>\n    </tr>\n  </thead>\n  <tbody>\n    <tr>\n      <th>0</th>\n      <td>1987032</td>\n      <td>1.29</td>\n      <td>1.28</td>\n      <td>1.33</td>\n      <td>1.29</td>\n      <td>1.30</td>\n      <td>1.30</td>\n      <td>1.80</td>\n      <td>Win</td>\n      <td>NW</td>\n    </tr>\n    <tr>\n      <th>1</th>\n      <td>1987033</td>\n      <td>2.00</td>\n      <td>2.00</td>\n      <td>2.10</td>\n      <td>2.05</td>\n      <td>1.91</td>\n      <td>2.00</td>\n      <td>2.11</td>\n      <td>NW</td>\n      <td>NW</td>\n    </tr>\n    <tr>\n      <th>2</th>\n      <td>1987034</td>\n      <td>1.36</td>\n      <td>1.40</td>\n      <td>1.33</td>\n      <td>1.40</td>\n      <td>1.40</td>\n      <td>1.40</td>\n      <td>1.73</td>\n      <td>Win</td>\n      <td>NW</td>\n    </tr>\n    <tr>\n      <th>3</th>\n      <td>1987035</td>\n      <td>1.70</td>\n      <td>1.70</td>\n      <td>1.70</td>\n      <td>1.75</td>\n      <td>1.73</td>\n      <td>1.73</td>\n      <td>2.03</td>\n      <td>NW</td>\n      <td>NW</td>\n    </tr>\n    <tr>\n      <th>4</th>\n      <td>1987036</td>\n      <td>1.95</td>\n      <td>2.00</td>\n      <td>2.00</td>\n      <td>2.00</td>\n      <td>2.00</td>\n      <td>2.00</td>\n      <td>2.34</td>\n      <td>NW</td>\n      <td>Win</td>\n    </tr>\n  </tbody>\n</table>\n</div>"
     },
     "execution_count": 32,
     "metadata": {},
     "output_type": "execute_result"
    }
   ],
   "source": [
    "betting_test.head()"
   ],
   "metadata": {
    "collapsed": false,
    "ExecuteTime": {
     "end_time": "2024-03-27T07:38:15.024030Z",
     "start_time": "2024-03-27T07:38:15.012160Z"
    }
   },
   "id": "2ddaae329f4e08d",
   "execution_count": 32
  },
  {
   "cell_type": "markdown",
   "source": [
    "Now, we will calculate the betting results for each betting company. Our calculation will be as follows:\n",
    "- If the predicted result is 'Win' and the odds are lower than the betting company's, we will bet 1 unit.\n",
    "- If the predicted result is 'Win' and the odds are higher than the betting company's odds, we will not bet.\n",
    "- If the predicted result is 'No Win,' we will not bet."
   ],
   "metadata": {
    "collapsed": false
   },
   "id": "21172cd08ee62973"
  },
  {
   "cell_type": "code",
   "outputs": [],
   "source": [
    "betting_companies = ['B365H', 'BWH', 'IWH', 'LBH', 'WHH', 'VCH']\n",
    "\n",
    "for company in betting_companies:\n",
    "    betting_test[f'{company}_betting_result'] = np.where(\n",
    "        (betting_test['Predicted_Result'] == 'Win') & (betting_test['Odds_Win'] < betting_test[company]) & (\n",
    "                betting_test['Predicted_Result'] == betting_test['result']), betting_test[company],\n",
    "        np.where((betting_test['Predicted_Result'] == 'Win') & (betting_test['Odds_Win'] < betting_test[company]) & (\n",
    "                betting_test['Predicted_Result'] != betting_test['result']), -1, 0))"
   ],
   "metadata": {
    "collapsed": false,
    "ExecuteTime": {
     "end_time": "2024-03-27T07:38:15.041351Z",
     "start_time": "2024-03-27T07:38:15.025032Z"
    }
   },
   "id": "d8a68cb00808bad3",
   "execution_count": 33
  },
  {
   "cell_type": "markdown",
   "source": [
    "Next, we will compute the overall betting outcome for each betting company and the cumulative betting outcome."
   ],
   "metadata": {
    "collapsed": false
   },
   "id": "c4dce39b349745cf"
  },
  {
   "cell_type": "code",
   "outputs": [
    {
     "data": {
      "text/plain": "           B365H    BWH    IWH    LBH    WHH    VCH   Total\nWin/Loose  57.01  64.89  57.05  51.99  62.52  68.53  361.99",
      "text/html": "<div>\n<style scoped>\n    .dataframe tbody tr th:only-of-type {\n        vertical-align: middle;\n    }\n\n    .dataframe tbody tr th {\n        vertical-align: top;\n    }\n\n    .dataframe thead th {\n        text-align: right;\n    }\n</style>\n<table border=\"1\" class=\"dataframe\">\n  <thead>\n    <tr style=\"text-align: right;\">\n      <th></th>\n      <th>B365H</th>\n      <th>BWH</th>\n      <th>IWH</th>\n      <th>LBH</th>\n      <th>WHH</th>\n      <th>VCH</th>\n      <th>Total</th>\n    </tr>\n  </thead>\n  <tbody>\n    <tr>\n      <th>Win/Loose</th>\n      <td>57.01</td>\n      <td>64.89</td>\n      <td>57.05</td>\n      <td>51.99</td>\n      <td>62.52</td>\n      <td>68.53</td>\n      <td>361.99</td>\n    </tr>\n  </tbody>\n</table>\n</div>"
     },
     "execution_count": 34,
     "metadata": {},
     "output_type": "execute_result"
    }
   ],
   "source": [
    "betting_companies = ['B365H', 'BWH', 'IWH', 'LBH', 'WHH', 'VCH']\n",
    "\n",
    "betting_results = {company: betting_test[f'{company}_betting_result'].sum() for company in betting_companies}\n",
    "\n",
    "total_betting_result = round(sum(betting_results.values()), 2)\n",
    "\n",
    "betting_results['Total'] = total_betting_result\n",
    "\n",
    "betting_results_df = pd.DataFrame([betting_results])\n",
    "betting_results_df = betting_results_df.set_index(pd.Index(['Win/Loose']))\n",
    "betting_results_df"
   ],
   "metadata": {
    "collapsed": false,
    "ExecuteTime": {
     "end_time": "2024-03-27T07:38:15.055775Z",
     "start_time": "2024-03-27T07:38:15.042352Z"
    }
   },
   "id": "7911f786b429935",
   "execution_count": 34
  },
  {
   "cell_type": "markdown",
   "source": [
    "# Summary and Outcomes of the Home Team Victory Prediction Model"
   ],
   "metadata": {
    "collapsed": false
   },
   "id": "cfb854dd99301fe7"
  },
  {
   "cell_type": "markdown",
   "source": [
    "In this project, our objective was to predict the outcomes of football matches, with a specific focus on the home team's victories. We used data from the top five football leagues spanning the seasons from 2008/2009 to 2014/2015 to train our model.\n",
    "\n",
    "The initial phase involved data preprocessing, which encompassed creating the target variable, removing unnecessary columns, handling missing values, and encoding categorical variables. We also examined the independent variables for multicollinearity and eliminated some to prevent this issue.\n",
    "\n",
    "Subsequently, we trained several machine learning models, including Logistic Regression, Random Forest, Support Vector Machine, K-Nearest Neighbors, and Gradient Boosting. After assessing these models based on their precision and recall, we chose the Logistic Regression model due to its optimal balance between these two metrics.\n",
    "\n",
    "We further enhanced the Logistic Regression model by tuning its hyperparameters and applying Principal Component Analysis (PCA) to reduce the dimensionality of our data. This resulted in an improvement in our model's precision from 57% to 60%.\n",
    "\n",
    "Finally, we tested our model in a betting scenario for the 2015/2016 season. We devised a betting strategy where we would place a bet only when our model predicted a 'Win' for the home team and the odds provided by our model were lower than the odds offered by the betting company. Utilizing this strategy, our model would have yielded a profit of 361.99 units in the 2015/2016 season."
   ],
   "metadata": {
    "collapsed": false
   },
   "id": "2e087caa3204243e"
  },
  {
   "cell_type": "markdown",
   "source": [
    "# Suggestions for Further Improvement"
   ],
   "metadata": {
    "collapsed": false
   },
   "id": "9a40e5b47bdca036"
  },
  {
   "cell_type": "markdown",
   "source": [
    "For further enhancement of our model, we could consider the following strategies:\n",
    "\n",
    "1. **Ensemble Methods**: We could combine the predictions of multiple models for improved performance. Experimenting with different ensemble methods and base classifiers could yield better results.\n",
    "\n",
    "2. **Deep Learning**: We could utilize neural networks to capture complex patterns in the data. Experimenting with different architectures and hyperparameters could optimize the performance of the deep learning model.\n",
    "\n",
    "3. **Bayesian Optimization**: This advanced method for hyperparameter tuning could help us select the best-performing hyperparameters based on a probabilistic model.\n",
    "\n",
    "4. **Betting Strategy**: We could refine the strategy based on the model's predictions. Adjusting the bet amount based on the model's prediction confidence could increase the model's profitability in a betting scenario.\n"
   ],
   "metadata": {
    "collapsed": false
   },
   "id": "1c6df7bc6d347e90"
  }
 ],
 "metadata": {
  "kernelspec": {
   "display_name": "Python 3",
   "language": "python",
   "name": "python3"
  },
  "language_info": {
   "codemirror_mode": {
    "name": "ipython",
    "version": 2
   },
   "file_extension": ".py",
   "mimetype": "text/x-python",
   "name": "python",
   "nbconvert_exporter": "python",
   "pygments_lexer": "ipython2",
   "version": "2.7.6"
  }
 },
 "nbformat": 4,
 "nbformat_minor": 5
}
